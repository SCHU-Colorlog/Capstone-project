{
 "cells": [
  {
   "cell_type": "code",
   "execution_count": 1,
   "metadata": {},
   "outputs": [],
   "source": [
    "import cv2\n",
    "import numpy as np\n",
    "import pandas as pd\n",
    "import os\n",
    "\n",
    "from sklearn.cluster import KMeans\n",
    "\n",
    "from imutils import face_utils\n",
    "import dlib"
   ]
  },
  {
   "cell_type": "code",
   "execution_count": 2,
   "metadata": {},
   "outputs": [],
   "source": [
    "n_colors = 4\n",
    "\n",
    "detector = dlib.get_frontal_face_detector()\n",
    "predictor = dlib.shape_predictor(\"shape_predictor_68_face_landmarks.dat\")"
   ]
  },
  {
   "cell_type": "code",
   "execution_count": 3,
   "metadata": {},
   "outputs": [],
   "source": [
    "data_root = './images/dataset'\n",
    "seasons = ['spring', 'summer', 'fall', 'winter']"
   ]
  },
  {
   "cell_type": "code",
   "execution_count": 4,
   "metadata": {},
   "outputs": [],
   "source": [
    "def bgr2cmyk(bgr):\n",
    "    res_cmyk = []\n",
    "    bgr = bgr / 255.0\n",
    "    \n",
    "    for i in range(len(bgr)):\n",
    "        b, g, r = bgr[i]\n",
    "        k = 1 - max(r, g, b)\n",
    "        c = (1 - r - k) / (1 - k) * 255\n",
    "        m = (1 - g - k) / (1 - k) * 255\n",
    "        y = (1 - b - k) / (1 - k) * 255\n",
    "\n",
    "        tmp = np.array([c, m, y, k])\n",
    "        res_cmyk.append(tmp)\n",
    "        \n",
    "    return np.array(res_cmyk)"
   ]
  },
  {
   "cell_type": "code",
   "execution_count": 5,
   "metadata": {},
   "outputs": [],
   "source": [
    "lips = None\n",
    "left_cheek = None\n",
    "right_cheek = None\n",
    "right_eye = None\n",
    "left_eye = None\n",
    "nose = None\n",
    "\n",
    "def extract_face_part(img, face_part_points):\n",
    "\n",
    "    (x, y, w, h) = cv2.boundingRect(face_part_points)\n",
    "    crop = img[y:y+h, x:x+w]\n",
    "    \n",
    "    # https://www.researchgate.net/publication/262371199_Explicit_image_detection_using_YCbCr_space_color_model_as_skin_detection\n",
    "    # filter skin only (YCbCr)\n",
    "    crop = cv2.cvtColor(crop, cv2.COLOR_BGR2YCrCb)\n",
    "    mask = cv2.inRange(crop, np.array([0, 133, 77]), np.array([255, 173, 127]))\n",
    "    crop = cv2.bitwise_and(crop, crop, mask=mask)\n",
    "    crop = cv2.cvtColor(crop, cv2.COLOR_YCrCb2BGR)\n",
    "\n",
    "    crop = crop[~np.all(crop == [0, 135, 0], axis=-1)]\n",
    "    crop = crop.reshape(((1, crop.shape[0], 3)))\n",
    "    \n",
    "    return crop\n",
    "\n",
    "def detect_face_part(img):\n",
    "    face_parts = [[] for _ in range(len(face_utils.FACIAL_LANDMARKS_IDXS))]\n",
    "\n",
    "    faces = detector(cv2.cvtColor(img, cv2.COLOR_BGR2GRAY), 1)\n",
    "    \n",
    "    if len(faces) == 0:\n",
    "        return 0\n",
    "\n",
    "    rect = faces[0]\n",
    "\n",
    "    shape = predictor(cv2.cvtColor(img, cv2.COLOR_BGR2GRAY), rect)\n",
    "    shape = face_utils.shape_to_np(shape)\n",
    "\n",
    "    for idx, (_, (i, j)) in enumerate(face_utils.FACIAL_LANDMARKS_IDXS.items()):\n",
    "        if idx not in [1, 3]:\n",
    "            face_parts[idx] = shape[i:j]\n",
    "\n",
    "    lips = extract_face_part(img, np.concatenate((shape[48:60], shape[60:68])))\n",
    "    left_cheek = extract_face_part(img, np.concatenate((shape[29:33], shape[4:9])))\n",
    "    right_cheek = extract_face_part(img, np.concatenate((shape[29:33], shape[10:15])))\n",
    "    right_eye = extract_face_part(img, shape[36:42])\n",
    "    left_eye = extract_face_part(img, shape[42:48])\n",
    "    nose = extract_face_part(img, shape[27:36])\n",
    "\n",
    "    return len(faces), lips, left_cheek, right_cheek, right_eye, left_eye, nose\n",
    "\n",
    "def create_palette(img, image_path='image.jpg'):\n",
    "        \n",
    "    img = cv2.imread(image_path)\n",
    "    \n",
    "    if img is None:\n",
    "        os.remove(image_path)\n",
    "        return None\n",
    "        \n",
    "    yes_faces, lips, left_cheek, right_cheek, right_eye, left_eye, nose = detect_face_part(img)\n",
    "    \n",
    "    if not yes_faces:\n",
    "        os.remove(image_path)\n",
    "        return None\n",
    "    \n",
    "    stacked_images = np.hstack([right_eye, left_eye, lips, left_cheek, right_cheek, nose])\n",
    "    stacked_images = stacked_images.reshape(-1, 3)\n",
    "    \n",
    "    if stacked_images.shape[0] == 0:\n",
    "        os.remove(image_path)\n",
    "        return None\n",
    "        \n",
    "    kmeans = KMeans(n_clusters=n_colors, n_init=10, random_state=42)\n",
    "    kmeans.fit(stacked_images)\n",
    "\n",
    "    cluster_centers = kmeans.cluster_centers_.astype(int)\n",
    "    \n",
    "    # save_palette(cluster_centers)\n",
    "    \n",
    "    return cluster_centers, lips, left_cheek, right_cheek, right_eye, left_eye, nose"
   ]
  },
  {
   "cell_type": "code",
   "execution_count": 6,
   "metadata": {},
   "outputs": [],
   "source": [
    "def calculate_contrast(img):\n",
    "    gray_image = cv2.cvtColor(img, cv2.COLOR_BGR2GRAY)\n",
    "    hist = cv2.calcHist([gray_image], [0], None, [256], [0, 256])\n",
    "    hist /= hist.sum()\n",
    "    mean = np.mean(hist)\n",
    "    variance = np.mean((hist - mean) ** 2)\n",
    "    return variance"
   ]
  },
  {
   "cell_type": "code",
   "execution_count": 7,
   "metadata": {},
   "outputs": [
    {
     "ename": "KeyboardInterrupt",
     "evalue": "",
     "output_type": "error",
     "traceback": [
      "\u001b[1;31m---------------------------------------------------------------------------\u001b[0m",
      "\u001b[1;31mKeyboardInterrupt\u001b[0m                         Traceback (most recent call last)",
      "File \u001b[1;32m<__array_function__ internals>:177\u001b[0m, in \u001b[0;36mwhere\u001b[1;34m(*args, **kwargs)\u001b[0m\n",
      "\u001b[1;31mKeyboardInterrupt\u001b[0m: "
     ]
    },
    {
     "name": "stderr",
     "output_type": "stream",
     "text": [
      "Exception ignored in: 'sklearn.cluster._k_means_common._relocate_empty_clusters_dense'\n",
      "Traceback (most recent call last):\n",
      "  File \"<__array_function__ internals>\", line 177, in where\n",
      "KeyboardInterrupt: \n"
     ]
    }
   ],
   "source": [
    "for season in seasons:\n",
    "    this_df = pd.DataFrame(columns=['lip_avg_a', 'face_l_var', 'skin_avg_b', 'H', 'S', 'V', 'L', 'a', 'b', 'C', 'M', 'Y', 'K', 'label'])\n",
    "    for file in os.listdir(os.path.join(data_root, season)):\n",
    "        full_path = os.path.join(data_root, season, file)\n",
    "        img = cv2.imread(full_path)\n",
    "        if img is None:\n",
    "            continue\n",
    "        palette, lips, left_cheek, right_cheek, right_eye, left_eye, nose = create_palette(full_path)\n",
    "        if palette is None:\n",
    "            continue\n",
    "        cmyk_palette = bgr2cmyk(palette)\n",
    "        palette = np.array([palette], np.uint8)\n",
    "        hsv_palette = cv2.cvtColor(palette, cv2.COLOR_BGR2HSV)\n",
    "        lab_palette = cv2.cvtColor(palette, cv2.COLOR_BGR2LAB)\n",
    "    \n",
    "        mean_hsv = np.mean(hsv_palette, axis=1)[0]\n",
    "        mean_lab = np.mean(lab_palette, axis=1)[0]\n",
    "        mean_cmyk = np.mean(cmyk_palette, axis=0)\n",
    "        \n",
    "        skin = np.hstack([left_cheek, right_cheek, nose])\n",
    "        skin = skin.reshape(-1, 3)\n",
    "        kmeans = KMeans(n_clusters=3, n_init=10, random_state=42)\n",
    "        kmeans.fit(skin)\n",
    "        skin_centers = kmeans.cluster_centers_.astype(int)\n",
    "        skin_centers = np.array([skin_centers], np.uint8)\n",
    "        lab_palette = cv2.cvtColor(skin_centers, cv2.COLOR_BGR2LAB)\n",
    "        mean_lab_skin = np.mean(lab_palette, axis=1)[0]\n",
    "        \n",
    "        kmeans = KMeans(n_clusters=3, n_init=10, random_state=42)\n",
    "        lips = lips.reshape(-1, 3)\n",
    "        kmeans.fit(lips)\n",
    "        lips_centers = kmeans.cluster_centers_.astype(int)\n",
    "        lips_centers = np.array([lips_centers], np.uint8)\n",
    "        lab_palette = cv2.cvtColor(lips_centers, cv2.COLOR_BGR2LAB)\n",
    "        mean_lab_lips = np.mean(lab_palette, axis=1)[0]\n",
    "        \n",
    "        h, w = img.shape[:2]\n",
    "        face = detector(img)[0]\n",
    "        face = img[max(0, face.top()):min(face.bottom(), h), max(0, face.left()):min(face.right(), w)]\n",
    "        face_l_var = calculate_contrast(face)\n",
    "        \n",
    "        tmp = np.array([mean_lab_lips[1], face_l_var, mean_lab_skin[2]])\n",
    "        row = np.concatenate((tmp, mean_hsv, mean_lab, mean_cmyk)).tolist()\n",
    "        row.append(season)\n",
    "        this_df.loc[len(this_df)] = row\n",
    "    print(f'{season}: {len(this_df)} rows')\n",
    "    this_df.to_csv(f'images/dataset/mean_{season}.csv', index=False)"
   ]
  },
  {
   "cell_type": "code",
   "execution_count": null,
   "metadata": {},
   "outputs": [],
   "source": [
    "df = pd.concat([pd.read_csv(f'images/dataset/mean_{season}.csv') for season in seasons])\n",
    "df = df.sample(frac=1).reset_index(drop=True)\n",
    "df.to_csv('images/dataset/mean_shuffled.csv', index=False)"
   ]
  },
  {
   "cell_type": "code",
   "execution_count": null,
   "metadata": {},
   "outputs": [],
   "source": [
    "from sklearn.preprocessing import LabelEncoder"
   ]
  },
  {
   "cell_type": "code",
   "execution_count": null,
   "metadata": {},
   "outputs": [],
   "source": [
    "le = LabelEncoder()\n",
    "df['label'] = le.fit_transform(df['label'])"
   ]
  },
  {
   "cell_type": "code",
   "execution_count": null,
   "metadata": {},
   "outputs": [],
   "source": [
    "corr = df.corr()\n",
    "corr['label'].sort_values(ascending=False)"
   ]
  },
  {
   "cell_type": "code",
   "execution_count": null,
   "metadata": {},
   "outputs": [],
   "source": []
  }
 ],
 "metadata": {
  "kernelspec": {
   "display_name": "base",
   "language": "python",
   "name": "python3"
  },
  "language_info": {
   "codemirror_mode": {
    "name": "ipython",
    "version": 3
   },
   "file_extension": ".py",
   "mimetype": "text/x-python",
   "name": "python",
   "nbconvert_exporter": "python",
   "pygments_lexer": "ipython3",
   "version": "3.10.9"
  }
 },
 "nbformat": 4,
 "nbformat_minor": 2
}
