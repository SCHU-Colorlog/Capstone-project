{
 "cells": [
  {
   "cell_type": "code",
   "execution_count": 1,
   "metadata": {},
   "outputs": [],
   "source": [
    "import os\n",
    "import PIL\n",
    "import dlib\n",
    "# import matplotlib.pyplot as plt\n",
    "import datetime\n",
    "import numpy as np\n",
    "\n",
    "from sklearn.metrics import confusion_matrix\n",
    "# import seaborn as sns\n",
    "import pandas as pd"
   ]
  },
  {
   "cell_type": "code",
   "execution_count": 2,
   "metadata": {},
   "outputs": [],
   "source": [
    "import torch\n",
    "import torchvision.transforms as transforms\n",
    "import torch.nn as nn\n",
    "from torch.utils.data import DataLoader, Dataset, random_split, SubsetRandomSampler\n",
    "import torch.optim as optim\n",
    "\n",
    "import tensorboardX"
   ]
  },
  {
   "cell_type": "code",
   "execution_count": 3,
   "metadata": {},
   "outputs": [],
   "source": [
    "torch.manual_seed(0)\n",
    "np.random.seed(0)"
   ]
  },
  {
   "cell_type": "code",
   "execution_count": 4,
   "metadata": {},
   "outputs": [],
   "source": [
    "epochs = 10\n",
    "batch_size = 16\n",
    "lr = 1e-4"
   ]
  },
  {
   "cell_type": "code",
   "execution_count": 5,
   "metadata": {},
   "outputs": [],
   "source": [
    "logname = f'resnet_{batch_size}_{epochs}_{lr}_{datetime.datetime.now().strftime(\"%Y-%m-%d_%H-%M-%S\")}'\n",
    "\n",
    "if not os.path.exists(os.path.join('models', logname)):\n",
    "    os.makedirs(os.path.join('models', logname))"
   ]
  },
  {
   "cell_type": "code",
   "execution_count": 6,
   "metadata": {},
   "outputs": [],
   "source": [
    "device = torch.device('cuda:0' if torch.cuda.is_available() else 'cpu')"
   ]
  },
  {
   "cell_type": "code",
   "execution_count": 7,
   "metadata": {},
   "outputs": [],
   "source": [
    "detector = dlib.get_frontal_face_detector()\n",
    "predictor = dlib.shape_predictor(\"shape_predictor_68_face_landmarks.dat\")"
   ]
  },
  {
   "cell_type": "code",
   "execution_count": 8,
   "metadata": {},
   "outputs": [],
   "source": [
    "data_root = 'images/dataset'\n",
    "save_path = 'images/cropped_faces'"
   ]
  },
  {
   "cell_type": "code",
   "execution_count": 9,
   "metadata": {},
   "outputs": [],
   "source": [
    "transform = transforms.Compose([\n",
    "    transforms.Resize(256),\n",
    "    transforms.ToTensor(),\n",
    "    transforms.Normalize(mean=[0.485, 0.456, 0.406], std=[0.229, 0.224, 0.225])\n",
    "])"
   ]
  },
  {
   "cell_type": "code",
   "execution_count": 10,
   "metadata": {},
   "outputs": [],
   "source": [
    "class FaceDataset(Dataset):\n",
    "    def __init__(self, n_classes=4, root_dir=save_path, transform=transform):\n",
    "        self.root_dir = root_dir\n",
    "        self.transform = transform\n",
    "        self.files = os.listdir(self.root_dir)\n",
    "        if n_classes == 4:\n",
    "            self.labels = [int(file.split('_')[0]) for file in self.files]\n",
    "        \n",
    "        self.n_classes = n_classes\n",
    "        \n",
    "    def __len__(self):\n",
    "        return len(self.files)\n",
    "    \n",
    "    def __getitem__(self, idx):\n",
    "        img_name = os.path.join(self.root_dir, self.files[idx])\n",
    "        img = PIL.Image.open(img_name)\n",
    "        img = self.transform(img)\n",
    "        label = int(self.files[idx].split('_')[0])\n",
    "        label = label if self.n_classes == 4 else label // 2\n",
    "        return img, label"
   ]
  },
  {
   "cell_type": "code",
   "execution_count": 11,
   "metadata": {},
   "outputs": [],
   "source": [
    "dataset = FaceDataset(n_classes=4)\n",
    "train_data = dataset\n",
    "\n",
    "# len_data = len(dataset)\n",
    "# train_size = int(0.8 * len_data)\n",
    "# test_size = len_data - train_size\n",
    "\n",
    "# train_data, test_data = random_split(dataset, [train_size, test_size])\n",
    "# test_loader = DataLoader(test_data, batch_size=batch_size, shuffle=True)\n",
    "\n",
    "# print('Train:', len(train_data), 'Test:', len(test_data))"
   ]
  },
  {
   "cell_type": "code",
   "execution_count": 12,
   "metadata": {},
   "outputs": [],
   "source": [
    "writer = tensorboardX.SummaryWriter(logdir=f'runs/{logname}'+ datetime.datetime.now().strftime('%Y%m%d%H%M%S'))"
   ]
  },
  {
   "cell_type": "code",
   "execution_count": 13,
   "metadata": {},
   "outputs": [],
   "source": [
    "def train(model, train_loader, optimizer, criterion, epoch):\n",
    "    model.train()\n",
    "    running_loss = 0.0\n",
    "    correct = 0\n",
    "    total = 0\n",
    "    \n",
    "    for i, (inputs, labels) in enumerate(train_loader):\n",
    "        inputs, labels = inputs.to(device), labels.to(device)\n",
    "        \n",
    "        optimizer.zero_grad()\n",
    "        \n",
    "        outputs = model(inputs)\n",
    "        loss = criterion(outputs, labels)\n",
    "        loss.backward()\n",
    "        optimizer.step()\n",
    "        \n",
    "        running_loss += loss.item()\n",
    "        \n",
    "        _, predicted = torch.max(outputs, 1)\n",
    "        total += labels.size(0)\n",
    "        correct += (predicted == labels).sum().item()\n",
    "        \n",
    "        writer.add_scalar('Loss/train', loss.item(), epoch * len(train_loader) + i)\n",
    "        writer.add_scalar('Accuracy/train', 100 * correct / total, epoch * len(train_loader) + i)\n",
    "        \n",
    "        if i % 100 == 99:\n",
    "            print(f'[{epoch + 1}, {i + 1}] loss: {running_loss / 100}')\n",
    "            running_loss = 0.0\n",
    "            correct = 0\n",
    "            total = 0\n",
    "            \n",
    "    train_loss = running_loss / len(train_loader)\n",
    "    train_accuracy = 100 * correct / total\n",
    "    print(f'Train {epoch+1}/{epochs} Loss: {train_loss} Accuracy: {train_accuracy}')\n",
    "    \n",
    "    return train_loss, train_accuracy"
   ]
  },
  {
   "cell_type": "code",
   "execution_count": 14,
   "metadata": {},
   "outputs": [
    {
     "name": "stderr",
     "output_type": "stream",
     "text": [
      "Using cache found in C:\\Users\\pomat/.cache\\torch\\hub\\pytorch_vision_v0.6.0\n",
      "c:\\Users\\pomat\\anaconda3\\lib\\site-packages\\torchvision\\models\\_utils.py:208: UserWarning: The parameter 'pretrained' is deprecated since 0.13 and may be removed in the future, please use 'weights' instead.\n",
      "  warnings.warn(\n",
      "c:\\Users\\pomat\\anaconda3\\lib\\site-packages\\torchvision\\models\\_utils.py:223: UserWarning: Arguments other than a weight enum or `None` for 'weights' are deprecated since 0.13 and may be removed in the future. The current behavior is equivalent to passing `weights=ResNet18_Weights.IMAGENET1K_V1`. You can also use `weights=ResNet18_Weights.DEFAULT` to get the most up-to-date weights.\n",
      "  warnings.warn(msg)\n"
     ]
    }
   ],
   "source": [
    "model = torch.hub.load('pytorch/vision:v0.6.0', 'resnet18', pretrained=True)\n",
    "model.fc = nn.Linear(512, 4)\n",
    "model = model.to(device)\n",
    "\n",
    "# # transfer learning\n",
    "# for param in model.parameters():\n",
    "#     param.requires_grad = True\n",
    "# in_features = model.fc.in_features\n",
    "# model.fc = nn.Linear(in_features, 4)"
   ]
  },
  {
   "cell_type": "code",
   "execution_count": 15,
   "metadata": {},
   "outputs": [],
   "source": [
    "optimizer = optim.Adam(model.parameters(), lr=lr)\n",
    "criterion = nn.CrossEntropyLoss()"
   ]
  },
  {
   "cell_type": "code",
   "execution_count": 16,
   "metadata": {},
   "outputs": [],
   "source": [
    "def train(model, train_loader, optimizer, criterion, epoch):\n",
    "    model.train()\n",
    "    running_loss = 0.0\n",
    "    correct = 0\n",
    "    total = 0\n",
    "    \n",
    "    for i, (inputs, labels) in enumerate(train_loader):\n",
    "        inputs, labels = inputs.to(device), labels.to(device)\n",
    "        \n",
    "        optimizer.zero_grad()\n",
    "        \n",
    "        outputs = model(inputs)\n",
    "        loss = criterion(outputs, labels)\n",
    "        loss.backward()\n",
    "        optimizer.step()\n",
    "        \n",
    "        running_loss += loss.item()\n",
    "        \n",
    "        _, predicted = torch.max(outputs.data, 1)\n",
    "        total += labels.size(0)\n",
    "        correct += (predicted == labels).sum().item()\n",
    "        \n",
    "        writer.add_scalar('train_loss', loss.item(), i*epoch)\n",
    "        writer.add_scalar('train_accuracy', 100*correct/total, i*epoch)\n",
    "        \n",
    "        if i % 10 == 99:\n",
    "            print(f'[{i+1}, {running_loss/100:.3f}]')\n",
    "            running_loss = 0.0\n",
    "            correct = 0\n",
    "            total = 0\n",
    "        \n",
    "    train_loss = running_loss/len(train_loader)\n",
    "    train_accuracy = 100*correct/total\n",
    "    print(f'Training {epoch+1}/{epochs}:\\tTrain loss: {train_loss:.3f},\\tTrain acc: {train_accuracy:.3f}')\n",
    "    \n",
    "    return train_loss, train_accuracy"
   ]
  },
  {
   "cell_type": "code",
   "execution_count": 17,
   "metadata": {},
   "outputs": [],
   "source": [
    "y_pred = []\n",
    "y_true = []\n",
    "    \n",
    "def test(model, test_loader, criterion):\n",
    "    model.eval()\n",
    "    \n",
    "    total_loss = 0\n",
    "    \n",
    "    with torch.no_grad():\n",
    "        \n",
    "        for inputs, labels in test_loader:\n",
    "            inputs, labels = inputs.to(device), labels.to(device)\n",
    "            \n",
    "            outputs = model(inputs)\n",
    "            _, predicted = torch.max(outputs.data, 1)\n",
    "            \n",
    "            y_pred.extend(predicted.cpu().numpy())\n",
    "            y_true.extend(labels.cpu().numpy())\n",
    "            \n",
    "            loss = criterion(outputs, labels)\n",
    "            total_loss += loss.item()\n",
    "            \n",
    "    test_loss = total_loss / len(test_loader)\n",
    "    test_acc = 100 * sum([1 for i in range(len(y_pred)) if y_pred[i] == y_true[i]]) / len(y_true)\n",
    "    \n",
    "    writer.add_scalar('test_accuracy', test_acc)\n",
    "    writer.add_scalar('test_loss', test_loss)\n",
    "    \n",
    "    return test_loss, test_acc"
   ]
  },
  {
   "cell_type": "code",
   "execution_count": 18,
   "metadata": {},
   "outputs": [],
   "source": [
    "# def train_val_curve(epoch, fold, train_losses, train_accuracies, val_losses, val_accuracies):\n",
    "#     fig, ax = plt.subplots(2, 1, figsize=(10, 10))\n",
    "    \n",
    "#     ax[0].plot(range(epochs*fold), train_losses, label='train')\n",
    "#     ax[0].plot(range(epochs*fold), val_losses, label='val')\n",
    "#     ax[0].set_title('Loss')\n",
    "#     ax[0].legend()\n",
    "    \n",
    "#     ax[1].plot(range(epochs*fold), train_accuracies, label='train')\n",
    "#     ax[1].plot(range(epochs*fold), val_accuracies, label='val')\n",
    "#     ax[1].set_title('Accuracy')\n",
    "#     ax[1].legend()\n",
    "    \n",
    "#     plt.show()\n",
    "    \n",
    "#     writer.add_figure('train_val_curve', fig, epoch*fold)"
   ]
  },
  {
   "cell_type": "code",
   "execution_count": 19,
   "metadata": {},
   "outputs": [],
   "source": [
    "from sklearn.model_selection import KFold\n",
    "\n",
    "kfold = KFold(n_splits=5, shuffle=True, random_state=0)"
   ]
  },
  {
   "cell_type": "code",
   "execution_count": 20,
   "metadata": {},
   "outputs": [],
   "source": [
    "def weights_init(m):\n",
    "    if isinstance(m, nn.Conv2d):\n",
    "        torch.nn.init.xavier_uniform(m.weight.data)"
   ]
  },
  {
   "cell_type": "code",
   "execution_count": 21,
   "metadata": {},
   "outputs": [],
   "source": [
    "train_losses_folds, train_accs_folds = [], []\n",
    "test_losses_folds, test_accs_folds = [], []"
   ]
  },
  {
   "cell_type": "code",
   "execution_count": 22,
   "metadata": {},
   "outputs": [],
   "source": [
    "def run():\n",
    "    for fold, (train_idx, test_idx) in enumerate(kfold.split(train_data)):\n",
    "        print(f'Fold {fold+1}/{5}')\n",
    "        \n",
    "        train_subset = SubsetRandomSampler(train_idx)\n",
    "        test_subset = SubsetRandomSampler(test_idx)\n",
    "        \n",
    "        train_loader = DataLoader(train_data, batch_size=batch_size, sampler=train_subset)\n",
    "        test_loader = DataLoader(train_data, batch_size=batch_size, sampler=test_subset)\n",
    "        \n",
    "        model.apply(weights_init)\n",
    "        \n",
    "        optimizer = optim.Adam(model.parameters(), lr=lr)\n",
    "        criterion = nn.CrossEntropyLoss()\n",
    "        \n",
    "        train_losses = []\n",
    "        train_accuracies = []\n",
    "        \n",
    "        for epoch in range(epochs):\n",
    "            \n",
    "            train_loss, train_acc = train(model, train_loader, optimizer, criterion, epoch)\n",
    "            \n",
    "            train_losses.append(train_loss)\n",
    "            train_accuracies.append(train_acc)\n",
    "            \n",
    "        train_losses_folds.append(sum(train_losses) / len(train_losses))\n",
    "        train_accs_folds.append(sum(train_accuracies) / len(train_accuracies))\n",
    "        print(f'Train {fold+1}/{5}:\\tTrain loss: {train_losses_folds[-1]:.3f},\\tTrain acc: {train_accs_folds[-1]:.3f}')\n",
    "        \n",
    "        test_loss, test_acc = test(model, test_loader, criterion)\n",
    "        print(f'Test {fold+1}/{5}:\\tTest loss: {test_loss:.3f},\\tTest acc: {test_acc:.3f}')\n",
    "        \n",
    "        test_losses_folds.append(test_loss)\n",
    "        test_accs_folds.append(test_acc)\n",
    "                \n",
    "    final_train_loss = sum(train_losses_folds) / len(train_losses_folds)\n",
    "    final_train_acc = sum(train_accs_folds) / len(train_accs_folds)\n",
    "    \n",
    "    final_test_loss = sum(test_losses_folds) / len(test_losses_folds)\n",
    "    final_test_acc = sum(test_accs_folds) / len(test_accs_folds)\n",
    "    \n",
    "    return final_train_loss, final_train_acc, final_test_loss, final_test_acc"
   ]
  },
  {
   "cell_type": "code",
   "execution_count": 23,
   "metadata": {},
   "outputs": [],
   "source": [
    "# plt.figure(figsize=(10, 5))\n",
    "# plt.plot(train_accuracies, label='Train Accuracy')\n",
    "# plt.plot(val_accuracies, label='Val Accuracy')\n",
    "# plt.xlabel('Epoch')\n",
    "# plt.ylabel('Accuracy')\n",
    "# plt.title('Train and Val Accuracy')\n",
    "# plt.legend()\n",
    "# plt.show()\n",
    "\n",
    "# plt.figure(figsize=(10, 5))\n",
    "# plt.plot(train_losses, label='Train Loss')\n",
    "# plt.plot(val_losses, label='Val Loss')\n",
    "# plt.xlabel('Epoch')\n",
    "# plt.ylabel('Loss')\n",
    "# plt.title('Train and Val Loss')\n",
    "# plt.legend()\n",
    "# plt.show()"
   ]
  },
  {
   "cell_type": "code",
   "execution_count": 24,
   "metadata": {},
   "outputs": [
    {
     "name": "stdout",
     "output_type": "stream",
     "text": [
      "Fold 1/5\n"
     ]
    },
    {
     "name": "stderr",
     "output_type": "stream",
     "text": [
      "C:\\Users\\pomat\\AppData\\Local\\Temp\\ipykernel_66656\\1855755017.py:3: UserWarning: nn.init.xavier_uniform is now deprecated in favor of nn.init.xavier_uniform_.\n",
      "  torch.nn.init.xavier_uniform(m.weight.data)\n"
     ]
    },
    {
     "name": "stdout",
     "output_type": "stream",
     "text": [
      "Training 1/10:\tTrain loss: 1.214,\tTrain acc: 45.191\n",
      "Training 2/10:\tTrain loss: 1.034,\tTrain acc: 55.741\n",
      "Training 3/10:\tTrain loss: 0.965,\tTrain acc: 59.053\n",
      "Training 4/10:\tTrain loss: 0.903,\tTrain acc: 61.310\n",
      "Training 5/10:\tTrain loss: 0.807,\tTrain acc: 66.585\n",
      "Training 6/10:\tTrain loss: 0.709,\tTrain acc: 70.486\n",
      "Training 7/10:\tTrain loss: 0.563,\tTrain acc: 77.380\n",
      "Training 8/10:\tTrain loss: 0.431,\tTrain acc: 83.734\n",
      "Training 9/10:\tTrain loss: 0.292,\tTrain acc: 88.984\n",
      "Training 10/10:\tTrain loss: 0.196,\tTrain acc: 93.302\n",
      "Train 1/5:\tTrain loss: 0.711,\tTrain acc: 70.177\n",
      "Test:\tTest loss: 0.988,\tTest acc: 71.078\n",
      "Test 1/5:\tTest loss: 0.988,\tTest acc: 71.078\n",
      "Fold 2/5\n",
      "Training 1/10:\tTrain loss: 1.232,\tTrain acc: 45.303\n",
      "Training 2/10:\tTrain loss: 1.060,\tTrain acc: 55.237\n",
      "Training 3/10:\tTrain loss: 0.965,\tTrain acc: 59.284\n",
      "Training 4/10:\tTrain loss: 0.896,\tTrain acc: 61.099\n",
      "Training 5/10:\tTrain loss: 0.829,\tTrain acc: 64.876\n",
      "Training 6/10:\tTrain loss: 0.749,\tTrain acc: 68.972\n",
      "Training 7/10:\tTrain loss: 0.597,\tTrain acc: 76.453\n",
      "Training 8/10:\tTrain loss: 0.427,\tTrain acc: 83.247\n",
      "Training 9/10:\tTrain loss: 0.293,\tTrain acc: 89.429\n",
      "Training 10/10:\tTrain loss: 0.178,\tTrain acc: 94.211\n",
      "Train 2/5:\tTrain loss: 0.723,\tTrain acc: 69.811\n",
      "Test:\tTest loss: 1.247,\tTest acc: 67.141\n",
      "Test 2/5:\tTest loss: 1.247,\tTest acc: 67.141\n",
      "Fold 3/5\n",
      "Training 1/10:\tTrain loss: 1.243,\tTrain acc: 44.322\n",
      "Training 2/10:\tTrain loss: 1.059,\tTrain acc: 54.795\n",
      "Training 3/10:\tTrain loss: 0.964,\tTrain acc: 59.259\n",
      "Training 4/10:\tTrain loss: 0.900,\tTrain acc: 60.903\n",
      "Training 5/10:\tTrain loss: 0.817,\tTrain acc: 65.759\n",
      "Training 6/10:\tTrain loss: 0.706,\tTrain acc: 70.861\n",
      "Training 7/10:\tTrain loss: 0.548,\tTrain acc: 77.483\n",
      "Training 8/10:\tTrain loss: 0.410,\tTrain acc: 84.646\n",
      "Training 9/10:\tTrain loss: 0.294,\tTrain acc: 89.232\n",
      "Training 10/10:\tTrain loss: 0.197,\tTrain acc: 93.108\n",
      "Train 3/5:\tTrain loss: 0.714,\tTrain acc: 70.037\n",
      "Test:\tTest loss: 1.160,\tTest acc: 67.005\n",
      "Test 3/5:\tTest loss: 1.160,\tTest acc: 67.005\n",
      "Fold 4/5\n",
      "Training 1/10:\tTrain loss: 1.237,\tTrain acc: 43.954\n",
      "Training 2/10:\tTrain loss: 1.079,\tTrain acc: 54.427\n",
      "Training 3/10:\tTrain loss: 0.988,\tTrain acc: 57.493\n",
      "Training 4/10:\tTrain loss: 0.919,\tTrain acc: 60.903\n",
      "Training 5/10:\tTrain loss: 0.827,\tTrain acc: 63.895\n",
      "Training 6/10:\tTrain loss: 0.736,\tTrain acc: 69.512\n",
      "Training 7/10:\tTrain loss: 0.583,\tTrain acc: 76.674\n",
      "Training 8/10:\tTrain loss: 0.418,\tTrain acc: 84.130\n",
      "Training 9/10:\tTrain loss: 0.287,\tTrain acc: 89.968\n",
      "Training 10/10:\tTrain loss: 0.226,\tTrain acc: 91.391\n",
      "Train 4/5:\tTrain loss: 0.730,\tTrain acc: 69.235\n",
      "Test:\tTest loss: 1.132,\tTest acc: 67.648\n",
      "Test 4/5:\tTest loss: 1.132,\tTest acc: 67.648\n",
      "Fold 5/5\n",
      "Training 1/10:\tTrain loss: 1.225,\tTrain acc: 46.112\n",
      "Training 2/10:\tTrain loss: 1.059,\tTrain acc: 54.722\n",
      "Training 3/10:\tTrain loss: 0.979,\tTrain acc: 58.229\n",
      "Training 4/10:\tTrain loss: 0.913,\tTrain acc: 61.663\n",
      "Training 5/10:\tTrain loss: 0.807,\tTrain acc: 66.078\n",
      "Training 6/10:\tTrain loss: 0.716,\tTrain acc: 71.548\n",
      "Training 7/10:\tTrain loss: 0.548,\tTrain acc: 79.421\n",
      "Training 8/10:\tTrain loss: 0.379,\tTrain acc: 85.995\n",
      "Training 9/10:\tTrain loss: 0.255,\tTrain acc: 90.753\n",
      "Training 10/10:\tTrain loss: 0.176,\tTrain acc: 93.844\n",
      "Train 5/5:\tTrain loss: 0.706,\tTrain acc: 70.836\n",
      "Test:\tTest loss: 1.046,\tTest acc: 68.230\n",
      "Test 5/5:\tTest loss: 1.046,\tTest acc: 68.230\n"
     ]
    }
   ],
   "source": [
    "train_loss, train_acc, train_loss, train_acc = run()"
   ]
  },
  {
   "cell_type": "code",
   "execution_count": 25,
   "metadata": {},
   "outputs": [],
   "source": [
    "classes = ['Spring', 'Summer', 'Fall', 'Winter'] if dataset.n_classes == 4 else ['Warm', 'Cool']"
   ]
  },
  {
   "cell_type": "code",
   "execution_count": 26,
   "metadata": {},
   "outputs": [],
   "source": [
    "cm = confusion_matrix(y_true, y_pred)\n",
    "df_cm = pd.DataFrame(cm, index=classes, columns=classes)"
   ]
  },
  {
   "cell_type": "code",
   "execution_count": 27,
   "metadata": {},
   "outputs": [
    {
     "ename": "NameError",
     "evalue": "name 'plt' is not defined",
     "output_type": "error",
     "traceback": [
      "\u001b[1;31m---------------------------------------------------------------------------\u001b[0m",
      "\u001b[1;31mNameError\u001b[0m                                 Traceback (most recent call last)",
      "Cell \u001b[1;32mIn[27], line 1\u001b[0m\n\u001b[1;32m----> 1\u001b[0m \u001b[43mplt\u001b[49m\u001b[38;5;241m.\u001b[39mfigure(figsize\u001b[38;5;241m=\u001b[39m(\u001b[38;5;241m10\u001b[39m, \u001b[38;5;241m7\u001b[39m))\n\u001b[0;32m      2\u001b[0m sns\u001b[38;5;241m.\u001b[39mheatmap(df_cm, annot\u001b[38;5;241m=\u001b[39m\u001b[38;5;28;01mTrue\u001b[39;00m, cmap\u001b[38;5;241m=\u001b[39m\u001b[38;5;124m'\u001b[39m\u001b[38;5;124mBlues\u001b[39m\u001b[38;5;124m'\u001b[39m, fmt\u001b[38;5;241m=\u001b[39m\u001b[38;5;124m'\u001b[39m\u001b[38;5;124mg\u001b[39m\u001b[38;5;124m'\u001b[39m)\n\u001b[0;32m      3\u001b[0m plt\u001b[38;5;241m.\u001b[39mxlabel(\u001b[38;5;124m'\u001b[39m\u001b[38;5;124mPredicted\u001b[39m\u001b[38;5;124m'\u001b[39m)\n",
      "\u001b[1;31mNameError\u001b[0m: name 'plt' is not defined"
     ]
    }
   ],
   "source": [
    "plt.figure(figsize=(10, 7))\n",
    "sns.heatmap(df_cm, annot=True, cmap='Blues', fmt='g')\n",
    "plt.xlabel('Predicted')\n",
    "plt.ylabel('True')\n",
    "writer.add_figure('confusion_matrix', plt.gcf())"
   ]
  }
 ],
 "metadata": {
  "kernelspec": {
   "display_name": "base",
   "language": "python",
   "name": "python3"
  },
  "language_info": {
   "codemirror_mode": {
    "name": "ipython",
    "version": 3
   },
   "file_extension": ".py",
   "mimetype": "text/x-python",
   "name": "python",
   "nbconvert_exporter": "python",
   "pygments_lexer": "ipython3",
   "version": "3.10.9"
  }
 },
 "nbformat": 4,
 "nbformat_minor": 2
}
