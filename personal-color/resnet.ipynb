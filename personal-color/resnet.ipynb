{
 "cells": [
  {
   "cell_type": "code",
   "execution_count": 1,
   "metadata": {},
   "outputs": [],
   "source": [
    "import os\n",
    "import PIL\n",
    "import dlib\n",
    "import matplotlib.pyplot as plt\n",
    "import datetime\n",
    "import numpy as np\n",
    "\n",
    "from sklearn.metrics import confusion_matrix\n",
    "import seaborn as sns\n",
    "import pandas as pd"
   ]
  },
  {
   "cell_type": "code",
   "execution_count": 2,
   "metadata": {},
   "outputs": [
    {
     "name": "stderr",
     "output_type": "stream",
     "text": [
      "2024-04-12 00:08:56.676999: I tensorflow/core/util/port.cc:113] oneDNN custom operations are on. You may see slightly different numerical results due to floating-point round-off errors from different computation orders. To turn them off, set the environment variable `TF_ENABLE_ONEDNN_OPTS=0`.\n",
      "2024-04-12 00:08:56.731330: I tensorflow/core/platform/cpu_feature_guard.cc:210] This TensorFlow binary is optimized to use available CPU instructions in performance-critical operations.\n",
      "To enable the following instructions: AVX2 AVX512F AVX512_VNNI FMA, in other operations, rebuild TensorFlow with the appropriate compiler flags.\n",
      "2024-04-12 00:08:57.510062: W tensorflow/compiler/tf2tensorrt/utils/py_utils.cc:38] TF-TRT Warning: Could not find TensorRT\n"
     ]
    }
   ],
   "source": [
    "import torch\n",
    "import torchvision.transforms as transforms\n",
    "import torch.nn as nn\n",
    "from torch.utils.data import DataLoader, Dataset, random_split, SubsetRandomSampler\n",
    "import torch.optim as optim\n",
    "\n",
    "import tensorboardX"
   ]
  },
  {
   "cell_type": "code",
   "execution_count": 3,
   "metadata": {},
   "outputs": [],
   "source": [
    "torch.manual_seed(0)\n",
    "np.random.seed(0)"
   ]
  },
  {
   "cell_type": "code",
   "execution_count": 4,
   "metadata": {},
   "outputs": [],
   "source": [
    "epochs = 30\n",
    "batch_size = 16\n",
    "lr = 1e-4"
   ]
  },
  {
   "cell_type": "code",
   "execution_count": 5,
   "metadata": {},
   "outputs": [],
   "source": [
    "logname = f'resnet_{batch_size}_{epochs}_{lr}_{datetime.datetime.now().strftime(\"%Y-%m-%d_%H-%M-%S\")}'\n",
    "\n",
    "if not os.path.exists(os.path.join('models', logname)):\n",
    "    os.makedirs(os.path.join('models', logname))"
   ]
  },
  {
   "cell_type": "code",
   "execution_count": 6,
   "metadata": {},
   "outputs": [],
   "source": [
    "device = torch.device('cuda:0' if torch.cuda.is_available() else 'cpu')"
   ]
  },
  {
   "cell_type": "code",
   "execution_count": 7,
   "metadata": {},
   "outputs": [],
   "source": [
    "detector = dlib.get_frontal_face_detector()\n",
    "predictor = dlib.shape_predictor(\"shape_predictor_68_face_landmarks.dat\")"
   ]
  },
  {
   "cell_type": "code",
   "execution_count": 8,
   "metadata": {},
   "outputs": [],
   "source": [
    "data_root = 'images/dataset'\n",
    "save_path = 'images/cropped_faces0'"
   ]
  },
  {
   "cell_type": "code",
   "execution_count": 9,
   "metadata": {},
   "outputs": [],
   "source": [
    "transform = transforms.Compose([\n",
    "    transforms.Resize(256),\n",
    "    transforms.ToTensor(),\n",
    "    transforms.Normalize(mean=[0.485, 0.456, 0.406], std=[0.229, 0.224, 0.225])\n",
    "])"
   ]
  },
  {
   "cell_type": "code",
   "execution_count": 10,
   "metadata": {},
   "outputs": [],
   "source": [
    "class FaceDataset(Dataset):\n",
    "    def __init__(self, n_classes=4, root_dir=save_path, transform=transform):\n",
    "        self.root_dir = root_dir\n",
    "        self.transform = transform\n",
    "        self.files = os.listdir(self.root_dir)\n",
    "        if n_classes == 4:\n",
    "            self.labels = [int(file.split('_')[0]) for file in self.files]\n",
    "        \n",
    "        self.n_classes = n_classes\n",
    "        \n",
    "    def __len__(self):\n",
    "        return len(self.files)\n",
    "    \n",
    "    def __getitem__(self, idx):\n",
    "        img_name = os.path.join(self.root_dir, self.files[idx])\n",
    "        img = PIL.Image.open(img_name)\n",
    "        img = self.transform(img)\n",
    "        label = int(self.files[idx].split('_')[0])\n",
    "        label = label if self.n_classes == 4 else label // 2\n",
    "        return img, label"
   ]
  },
  {
   "cell_type": "code",
   "execution_count": 11,
   "metadata": {},
   "outputs": [
    {
     "name": "stdout",
     "output_type": "stream",
     "text": [
      "Train: 464 Test: 117\n"
     ]
    }
   ],
   "source": [
    "dataset = FaceDataset(n_classes=4)\n",
    "\n",
    "len_data = len(dataset)\n",
    "train_size = int(0.8 * len_data)\n",
    "test_size = len_data - train_size\n",
    "\n",
    "train_data, test_data = random_split(dataset, [train_size, test_size])\n",
    "test_loader = DataLoader(test_data, batch_size=batch_size, shuffle=True)\n",
    "\n",
    "print('Train:', len(train_data), 'Test:', len(test_data))"
   ]
  },
  {
   "cell_type": "code",
   "execution_count": 12,
   "metadata": {},
   "outputs": [],
   "source": [
    "model = torch.hub.load('pytorch/vision:v0.6.0', 'resnet18', pretrained=True)\n",
    "model.fc = nn.Linear(512, 4)\n",
    "model = model.to(device)\n",
    "\n",
    "# transfer learning\n",
    "for param in model.parameters():\n",
    "    param.requires_grad = True\n",
    "in_features = model.fc.in_features\n",
    "model.fc = nn.Linear(in_features, 4)"
   ]
  },
  {
   "cell_type": "code",
   "execution_count": null,
   "metadata": {},
   "outputs": [],
   "source": [
    "optimizer = optim.Adam(model.parameters(), lr=lr)\n",
    "criterion = nn.CrossEntropyLoss()"
   ]
  },
  {
   "cell_type": "code",
   "execution_count": null,
   "metadata": {},
   "outputs": [],
   "source": [
    "writer = tensorboardX.SummaryWriter(logdir=f'runs/{logname}'+ datetime.datetime.now().strftime('%Y%m%d%H%M%S'))"
   ]
  },
  {
   "cell_type": "code",
   "execution_count": null,
   "metadata": {},
   "outputs": [],
   "source": [
    "def train(train_loader, epoch):\n",
    "    model.train()\n",
    "    running_loss = 0.0\n",
    "    correct = 0\n",
    "    total = 0\n",
    "    \n",
    "    for i, (inputs, labels) in enumerate(train_loader):\n",
    "        inputs, labels = inputs.to(device), labels.to(device)\n",
    "        \n",
    "        optimizer.zero_grad()\n",
    "        \n",
    "        outputs = model(inputs)\n",
    "        loss = criterion(outputs, labels)\n",
    "        loss.backward()\n",
    "        optimizer.step()\n",
    "        \n",
    "        running_loss += loss.item()\n",
    "        \n",
    "        _, predicted = torch.max(outputs.data, 1)\n",
    "        total += labels.size(0)\n",
    "        correct += (predicted == labels).sum().item()\n",
    "        \n",
    "        writer.add_scalar('train_loss', loss.item(), i*epoch)\n",
    "        writer.add_scalar('train_accuracy', 100*correct/total, i*epoch)\n",
    "        \n",
    "        if i % 10 == 99:\n",
    "            print(f'[{i+1}, {running_loss/100:.3f}]')\n",
    "            running_loss = 0.0\n",
    "            correct = 0\n",
    "            total = 0\n",
    "        \n",
    "    train_loss = running_loss/len(train_data)\n",
    "    train_accuracy = 100*correct/total\n",
    "    print(f'Training {epoch+1}/{epochs}:\\tTrain loss: {train_loss:.3f},\\tTrain acc: {train_accuracy:.3f}')\n",
    "    \n",
    "    return train_loss, train_accuracy"
   ]
  },
  {
   "cell_type": "code",
   "execution_count": null,
   "metadata": {},
   "outputs": [],
   "source": [
    "# y_pred = []\n",
    "# y_true = []\n",
    "\n",
    "def validate(model, val_data, epoch):\n",
    "    model.eval()\n",
    "    \n",
    "    correct = 0\n",
    "    total = 0\n",
    "    total_loss = 0\n",
    "    \n",
    "    with torch.no_grad():\n",
    "        for batch_idx, (inputs, labels) in enumerate(val_data):\n",
    "            inputs, labels = inputs.to(device), labels.to(device)\n",
    "            \n",
    "            outputs = model(inputs)\n",
    "            _, predicted = torch.max(outputs.data, 1)\n",
    "            total += labels.size(0)\n",
    "            correct += (predicted == labels).sum().item()\n",
    "            \n",
    "            # y_pred.extend(predicted.cpu().numpy())\n",
    "            # y_true.extend(labels.cpu().numpy())\n",
    "            \n",
    "            loss = criterion(outputs, labels)\n",
    "            total_loss += loss.item()\n",
    "            \n",
    "            writer.add_scalar('val_accuracy', 100*correct/total, epoch*batch_idx)\n",
    "            writer.add_scalar('val_loss', total_loss/(batch_idx+1), epoch*batch_idx)\n",
    "    \n",
    "    val_loss = total_loss/len(val_data)\n",
    "    val_accuracy = 100*correct/total\n",
    "    print(f'Validating {epoch+1}/{epochs}:\\tVal loss: {val_loss:.3f},\\tVal acc: {val_accuracy:.3f}')\n",
    "    \n",
    "    return val_loss, val_accuracy"
   ]
  },
  {
   "cell_type": "code",
   "execution_count": null,
   "metadata": {},
   "outputs": [],
   "source": [
    "y_pred = []\n",
    "y_true = []\n",
    "    \n",
    "def test():\n",
    "    model.eval()\n",
    "    \n",
    "    with torch.no_grad():\n",
    "        \n",
    "        for inputs, labels in test_loader:\n",
    "            inputs, labels = inputs.to(device), labels.to(device)\n",
    "            \n",
    "            outputs = model(inputs)\n",
    "            _, predicted = torch.max(outputs.data, 1)\n",
    "            \n",
    "            y_pred.extend(predicted.cpu().numpy())\n",
    "            y_true.extend(labels.cpu().numpy())\n",
    "            \n",
    "            loss = criterion(outputs, labels)\n",
    "            total_loss += loss.item()\n",
    "            \n",
    "    test_loss = total_loss / len(test_loader)\n",
    "    test_acc = (y_pred == y_true).sum() / len(y_true)\n",
    "    print(f'Test:\\tTest loss: {test_loss:.3f},\\tTest acc: {test_acc:.3f}')\n",
    "    \n",
    "    writer.add_scalar('test_accuracy', test_acc)\n",
    "    writer.add_scalar('test_loss', test_loss)\n",
    "    \n",
    "    return test_loss, test_acc"
   ]
  },
  {
   "cell_type": "code",
   "execution_count": null,
   "metadata": {},
   "outputs": [],
   "source": [
    "def train_val_curve(epoch, fold, train_losses, train_accuracies, val_losses, val_accuracies):\n",
    "    fig, ax = plt.subplots(2, 1, figsize=(10, 10))\n",
    "    \n",
    "    ax[0].plot(range(epochs*fold), train_losses, label='train')\n",
    "    ax[0].plot(range(epochs*fold), val_losses, label='val')\n",
    "    ax[0].set_title('Loss')\n",
    "    ax[0].legend()\n",
    "    \n",
    "    ax[1].plot(range(epochs*fold), train_accuracies, label='train')\n",
    "    ax[1].plot(range(epochs*fold), val_accuracies, label='val')\n",
    "    ax[1].set_title('Accuracy')\n",
    "    ax[1].legend()\n",
    "    \n",
    "    plt.show()\n",
    "    \n",
    "    writer.add_figure('train_val_curve', fig, epoch*fold)"
   ]
  },
  {
   "cell_type": "code",
   "execution_count": null,
   "metadata": {},
   "outputs": [],
   "source": [
    "train_losses_folds = []\n",
    "train_accs_folds = []\n",
    "val_losses_folds = []\n",
    "val_accs_folds = []"
   ]
  },
  {
   "cell_type": "code",
   "execution_count": null,
   "metadata": {},
   "outputs": [],
   "source": [
    "from sklearn.model_selection import KFold\n",
    "\n",
    "kfold = KFold(n_splits=5, shuffle=True, random_state=0)"
   ]
  },
  {
   "cell_type": "code",
   "execution_count": null,
   "metadata": {},
   "outputs": [],
   "source": [
    "def run():\n",
    "    for fold, (train_idx, val_idx) in enumerate(kfold.split(train_data)):\n",
    "        print(f'Fold {fold+1}/{5}')\n",
    "        \n",
    "        train_subset = SubsetRandomSampler(train_idx)\n",
    "        val_subset = SubsetRandomSampler(val_idx)\n",
    "        train_loader = DataLoader(train_data, batch_size=batch_size, sampler=train_subset)\n",
    "        val_loader = DataLoader(train_data, batch_size=batch_size, sampler=val_subset)\n",
    "        \n",
    "        train_losses = []\n",
    "        train_accuracies = []\n",
    "        val_losses = []\n",
    "        val_accuracies = []\n",
    "        \n",
    "        for epoch in range(epochs):\n",
    "            \n",
    "            train_loss, train_acc = train(train_loader, epoch)\n",
    "            val_loss, val_acc = validate(val_loader, epoch)\n",
    "            \n",
    "            train_losses.append(train_loss)\n",
    "            train_accuracies.append(train_acc)\n",
    "            val_losses.append(val_loss)\n",
    "            val_accuracies.append(val_acc)\n",
    "            \n",
    "            # for this epoch\n",
    "            train_val_curve(epoch, fold, train_losses, train_accuracies, val_losses, val_accuracies)\n",
    "            \n",
    "        train_losses_folds.append(train_losses.mean())\n",
    "        train_accs_folds.append(train_accuracies.mean())\n",
    "        val_losses_folds.append(val_losses.mean())\n",
    "        val_accs_folds.append(val_accuracies.mean())\n",
    "        \n",
    "    final_train_loss = train_losses_folds.mean()\n",
    "    final_train_acc = train_accs_folds.mean()\n",
    "    final_val_loss = val_losses_folds.mean()\n",
    "    final_val_acc = val_accs_folds.mean()\n",
    "    \n",
    "    test_loss, test_acc = test()\n",
    "    \n",
    "    return final_train_loss, final_train_acc, final_val_loss, final_val_acc, test_loss, test_acc"
   ]
  },
  {
   "cell_type": "code",
   "execution_count": null,
   "metadata": {},
   "outputs": [],
   "source": [
    "# plt.figure(figsize=(10, 5))\n",
    "# plt.plot(train_accuracies, label='Train Accuracy')\n",
    "# plt.plot(val_accuracies, label='Val Accuracy')\n",
    "# plt.xlabel('Epoch')\n",
    "# plt.ylabel('Accuracy')\n",
    "# plt.title('Train and Val Accuracy')\n",
    "# plt.legend()\n",
    "# plt.show()\n",
    "\n",
    "# plt.figure(figsize=(10, 5))\n",
    "# plt.plot(train_losses, label='Train Loss')\n",
    "# plt.plot(val_losses, label='Val Loss')\n",
    "# plt.xlabel('Epoch')\n",
    "# plt.ylabel('Loss')\n",
    "# plt.title('Train and Val Loss')\n",
    "# plt.legend()\n",
    "# plt.show()"
   ]
  },
  {
   "cell_type": "code",
   "execution_count": null,
   "metadata": {},
   "outputs": [],
   "source": [
    "final_train_loss, final_train_acc, final_val_loss, final_val_acc, test_loss, test_acc = run()"
   ]
  },
  {
   "cell_type": "code",
   "execution_count": null,
   "metadata": {},
   "outputs": [],
   "source": [
    "classes = ['Spring', 'Summer', 'Fall', 'Winter'] if dataset.n_classes == 4 else ['Warm', 'Cool']"
   ]
  },
  {
   "cell_type": "code",
   "execution_count": null,
   "metadata": {},
   "outputs": [],
   "source": [
    "cm = confusion_matrix(y_true, y_pred)\n",
    "df_cm = pd.DataFrame(cm, index=classes, columns=classes)"
   ]
  },
  {
   "cell_type": "code",
   "execution_count": null,
   "metadata": {},
   "outputs": [],
   "source": [
    "plt.figure(figsize=(10, 7))\n",
    "sns.heatmap(df_cm, annot=True, cmap='Blues', fmt='g')\n",
    "plt.xlabel('Predicted')\n",
    "plt.ylabel('True')\n",
    "writer.add_figure('confusion_matrix', plt.gcf())"
   ]
  }
 ],
 "metadata": {
  "kernelspec": {
   "display_name": "base",
   "language": "python",
   "name": "python3"
  },
  "language_info": {
   "codemirror_mode": {
    "name": "ipython",
    "version": 3
   },
   "file_extension": ".py",
   "mimetype": "text/x-python",
   "name": "python",
   "nbconvert_exporter": "python",
   "pygments_lexer": "ipython3",
   "version": "3.10.9"
  }
 },
 "nbformat": 4,
 "nbformat_minor": 2
}
