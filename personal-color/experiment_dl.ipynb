{
  "cells": [
    {
      "cell_type": "code",
      "execution_count": null,
      "metadata": {
        "id": "9oh0LCOMBnIX"
      },
      "outputs": [],
      "source": [
        "import os\n",
        "import PIL\n",
        "import dlib\n",
        "import matplotlib.pyplot as plt\n",
        "import datetime\n",
        "import numpy as np\n",
        "\n",
        "from sklearn.metrics import confusion_matrix\n",
        "import seaborn as sns\n",
        "import pandas as pd"
      ]
    },
    {
      "cell_type": "code",
      "source": [
        "!pip install tensorboardX"
      ],
      "metadata": {
        "colab": {
          "base_uri": "https://localhost:8080/"
        },
        "id": "NAdawfRQCp7B",
        "outputId": "2c99f076-fb8b-497a-8a9c-d57ee63edbdf"
      },
      "execution_count": null,
      "outputs": [
        {
          "output_type": "stream",
          "name": "stdout",
          "text": [
            "Collecting tensorboardX\n",
            "  Downloading tensorboardX-2.6.2.2-py2.py3-none-any.whl (101 kB)\n",
            "\u001b[?25l     \u001b[90m━━━━━━━━━━━━━━━━━━━━━━━━━━━━━━━━━━━━━━━━\u001b[0m \u001b[32m0.0/101.7 kB\u001b[0m \u001b[31m?\u001b[0m eta \u001b[36m-:--:--\u001b[0m\r\u001b[2K     \u001b[90m━━━━━━━━━━━━━━━━━━━━━━━━━━━━━━━━━━━━━━━━\u001b[0m \u001b[32m101.7/101.7 kB\u001b[0m \u001b[31m4.8 MB/s\u001b[0m eta \u001b[36m0:00:00\u001b[0m\n",
            "\u001b[?25hRequirement already satisfied: numpy in /usr/local/lib/python3.10/dist-packages (from tensorboardX) (1.25.2)\n",
            "Requirement already satisfied: packaging in /usr/local/lib/python3.10/dist-packages (from tensorboardX) (24.0)\n",
            "Requirement already satisfied: protobuf>=3.20 in /usr/local/lib/python3.10/dist-packages (from tensorboardX) (3.20.3)\n",
            "Installing collected packages: tensorboardX\n",
            "Successfully installed tensorboardX-2.6.2.2\n"
          ]
        }
      ]
    },
    {
      "cell_type": "code",
      "execution_count": null,
      "metadata": {
        "id": "zwBbWKBYBnIY"
      },
      "outputs": [],
      "source": [
        "import torch\n",
        "import torchvision.transforms as transforms\n",
        "import torch.nn as nn\n",
        "from torch.utils.data import DataLoader, Dataset, random_split, SubsetRandomSampler\n",
        "import torch.optim as optim\n",
        "\n",
        "from tensorboardX import SummaryWriter"
      ]
    },
    {
      "cell_type": "code",
      "source": [
        "epochs = 10\n",
        "batch_size = 16"
      ],
      "metadata": {
        "id": "Dwyo7ssFBqKj"
      },
      "execution_count": null,
      "outputs": []
    },
    {
      "cell_type": "code",
      "source": [
        "device = torch.device('cuda' if torch.cuda.is_available() else 'cpu')"
      ],
      "metadata": {
        "id": "dnbci-FLCH7H"
      },
      "execution_count": null,
      "outputs": []
    },
    {
      "cell_type": "code",
      "source": [
        "from google.colab import drive\n",
        "drive.mount('/content/drive')"
      ],
      "metadata": {
        "colab": {
          "base_uri": "https://localhost:8080/"
        },
        "id": "KnKnwLBLC5OB",
        "outputId": "ebf1f393-a243-46aa-a261-5ca154990324"
      },
      "execution_count": null,
      "outputs": [
        {
          "output_type": "stream",
          "name": "stdout",
          "text": [
            "Mounted at /content/drive\n"
          ]
        }
      ]
    },
    {
      "cell_type": "code",
      "source": [
        "data_root = '/content/drive/MyDrive/dataset/dataset__'"
      ],
      "metadata": {
        "id": "8c6V5FpTHMMM"
      },
      "execution_count": null,
      "outputs": []
    },
    {
      "cell_type": "code",
      "source": [
        "len(os.listdir(data_root))"
      ],
      "metadata": {
        "colab": {
          "base_uri": "https://localhost:8080/"
        },
        "id": "jodhKtXGHuHQ",
        "outputId": "ec9289fb-e81e-4dbd-9bee-746d82bd4395"
      },
      "execution_count": null,
      "outputs": [
        {
          "output_type": "execute_result",
          "data": {
            "text/plain": [
              "12"
            ]
          },
          "metadata": {},
          "execution_count": 32
        }
      ]
    },
    {
      "cell_type": "code",
      "source": [
        "warm = pd.read_csv(os.path.join(data_root, 'mean_warm.csv'))"
      ],
      "metadata": {
        "id": "CRiI83NWIBPG"
      },
      "execution_count": null,
      "outputs": []
    },
    {
      "cell_type": "code",
      "source": [
        "cool = pd.read_csv(os.path.join(data_root, 'mean_cool.csv'))"
      ],
      "metadata": {
        "id": "vww7ME3sIxEP"
      },
      "execution_count": null,
      "outputs": []
    },
    {
      "cell_type": "code",
      "source": [
        "warm.head()"
      ],
      "metadata": {
        "colab": {
          "base_uri": "https://localhost:8080/",
          "height": 206
        },
        "id": "fGenWUipIz2I",
        "outputId": "05b10c0f-9ce8-4891-ed00-b9d607d9c70f"
      },
      "execution_count": null,
      "outputs": [
        {
          "output_type": "execute_result",
          "data": {
            "text/plain": [
              "       lips_s  face_l_var  skin_avg_b           R           G           B  \\\n",
              "0  151.666667    0.000008       145.8  112.914310  133.965925  175.651445   \n",
              "1  150.000000    0.000025       146.3  126.187999  147.715856  191.952797   \n",
              "2  154.000000    0.000012       141.8  112.976115  125.444865  172.908069   \n",
              "3  152.333333    0.000009       145.1  105.951249  125.220850  170.398417   \n",
              "4  151.666667    0.000015       145.2  108.123511  128.183753  173.363279   \n",
              "\n",
              "      H       S       V       L       a       b   label  \n",
              "0  9.75  105.75  165.50  139.25  141.50  145.25    fall  \n",
              "1  8.25   99.50  181.00  152.50  142.75  144.50  spring  \n",
              "2  5.25  107.25  157.75  127.75  144.50  140.50  spring  \n",
              "3  8.75  115.50  163.75  134.25  143.00  145.00    fall  \n",
              "4  8.50  115.75  167.00  136.25  143.50  145.25  spring  "
            ],
            "text/html": [
              "\n",
              "  <div id=\"df-86cb4475-06ce-4396-9c6f-5728491130ca\" class=\"colab-df-container\">\n",
              "    <div>\n",
              "<style scoped>\n",
              "    .dataframe tbody tr th:only-of-type {\n",
              "        vertical-align: middle;\n",
              "    }\n",
              "\n",
              "    .dataframe tbody tr th {\n",
              "        vertical-align: top;\n",
              "    }\n",
              "\n",
              "    .dataframe thead th {\n",
              "        text-align: right;\n",
              "    }\n",
              "</style>\n",
              "<table border=\"1\" class=\"dataframe\">\n",
              "  <thead>\n",
              "    <tr style=\"text-align: right;\">\n",
              "      <th></th>\n",
              "      <th>lips_s</th>\n",
              "      <th>face_l_var</th>\n",
              "      <th>skin_avg_b</th>\n",
              "      <th>R</th>\n",
              "      <th>G</th>\n",
              "      <th>B</th>\n",
              "      <th>H</th>\n",
              "      <th>S</th>\n",
              "      <th>V</th>\n",
              "      <th>L</th>\n",
              "      <th>a</th>\n",
              "      <th>b</th>\n",
              "      <th>label</th>\n",
              "    </tr>\n",
              "  </thead>\n",
              "  <tbody>\n",
              "    <tr>\n",
              "      <th>0</th>\n",
              "      <td>151.666667</td>\n",
              "      <td>0.000008</td>\n",
              "      <td>145.8</td>\n",
              "      <td>112.914310</td>\n",
              "      <td>133.965925</td>\n",
              "      <td>175.651445</td>\n",
              "      <td>9.75</td>\n",
              "      <td>105.75</td>\n",
              "      <td>165.50</td>\n",
              "      <td>139.25</td>\n",
              "      <td>141.50</td>\n",
              "      <td>145.25</td>\n",
              "      <td>fall</td>\n",
              "    </tr>\n",
              "    <tr>\n",
              "      <th>1</th>\n",
              "      <td>150.000000</td>\n",
              "      <td>0.000025</td>\n",
              "      <td>146.3</td>\n",
              "      <td>126.187999</td>\n",
              "      <td>147.715856</td>\n",
              "      <td>191.952797</td>\n",
              "      <td>8.25</td>\n",
              "      <td>99.50</td>\n",
              "      <td>181.00</td>\n",
              "      <td>152.50</td>\n",
              "      <td>142.75</td>\n",
              "      <td>144.50</td>\n",
              "      <td>spring</td>\n",
              "    </tr>\n",
              "    <tr>\n",
              "      <th>2</th>\n",
              "      <td>154.000000</td>\n",
              "      <td>0.000012</td>\n",
              "      <td>141.8</td>\n",
              "      <td>112.976115</td>\n",
              "      <td>125.444865</td>\n",
              "      <td>172.908069</td>\n",
              "      <td>5.25</td>\n",
              "      <td>107.25</td>\n",
              "      <td>157.75</td>\n",
              "      <td>127.75</td>\n",
              "      <td>144.50</td>\n",
              "      <td>140.50</td>\n",
              "      <td>spring</td>\n",
              "    </tr>\n",
              "    <tr>\n",
              "      <th>3</th>\n",
              "      <td>152.333333</td>\n",
              "      <td>0.000009</td>\n",
              "      <td>145.1</td>\n",
              "      <td>105.951249</td>\n",
              "      <td>125.220850</td>\n",
              "      <td>170.398417</td>\n",
              "      <td>8.75</td>\n",
              "      <td>115.50</td>\n",
              "      <td>163.75</td>\n",
              "      <td>134.25</td>\n",
              "      <td>143.00</td>\n",
              "      <td>145.00</td>\n",
              "      <td>fall</td>\n",
              "    </tr>\n",
              "    <tr>\n",
              "      <th>4</th>\n",
              "      <td>151.666667</td>\n",
              "      <td>0.000015</td>\n",
              "      <td>145.2</td>\n",
              "      <td>108.123511</td>\n",
              "      <td>128.183753</td>\n",
              "      <td>173.363279</td>\n",
              "      <td>8.50</td>\n",
              "      <td>115.75</td>\n",
              "      <td>167.00</td>\n",
              "      <td>136.25</td>\n",
              "      <td>143.50</td>\n",
              "      <td>145.25</td>\n",
              "      <td>spring</td>\n",
              "    </tr>\n",
              "  </tbody>\n",
              "</table>\n",
              "</div>\n",
              "    <div class=\"colab-df-buttons\">\n",
              "\n",
              "  <div class=\"colab-df-container\">\n",
              "    <button class=\"colab-df-convert\" onclick=\"convertToInteractive('df-86cb4475-06ce-4396-9c6f-5728491130ca')\"\n",
              "            title=\"Convert this dataframe to an interactive table.\"\n",
              "            style=\"display:none;\">\n",
              "\n",
              "  <svg xmlns=\"http://www.w3.org/2000/svg\" height=\"24px\" viewBox=\"0 -960 960 960\">\n",
              "    <path d=\"M120-120v-720h720v720H120Zm60-500h600v-160H180v160Zm220 220h160v-160H400v160Zm0 220h160v-160H400v160ZM180-400h160v-160H180v160Zm440 0h160v-160H620v160ZM180-180h160v-160H180v160Zm440 0h160v-160H620v160Z\"/>\n",
              "  </svg>\n",
              "    </button>\n",
              "\n",
              "  <style>\n",
              "    .colab-df-container {\n",
              "      display:flex;\n",
              "      gap: 12px;\n",
              "    }\n",
              "\n",
              "    .colab-df-convert {\n",
              "      background-color: #E8F0FE;\n",
              "      border: none;\n",
              "      border-radius: 50%;\n",
              "      cursor: pointer;\n",
              "      display: none;\n",
              "      fill: #1967D2;\n",
              "      height: 32px;\n",
              "      padding: 0 0 0 0;\n",
              "      width: 32px;\n",
              "    }\n",
              "\n",
              "    .colab-df-convert:hover {\n",
              "      background-color: #E2EBFA;\n",
              "      box-shadow: 0px 1px 2px rgba(60, 64, 67, 0.3), 0px 1px 3px 1px rgba(60, 64, 67, 0.15);\n",
              "      fill: #174EA6;\n",
              "    }\n",
              "\n",
              "    .colab-df-buttons div {\n",
              "      margin-bottom: 4px;\n",
              "    }\n",
              "\n",
              "    [theme=dark] .colab-df-convert {\n",
              "      background-color: #3B4455;\n",
              "      fill: #D2E3FC;\n",
              "    }\n",
              "\n",
              "    [theme=dark] .colab-df-convert:hover {\n",
              "      background-color: #434B5C;\n",
              "      box-shadow: 0px 1px 3px 1px rgba(0, 0, 0, 0.15);\n",
              "      filter: drop-shadow(0px 1px 2px rgba(0, 0, 0, 0.3));\n",
              "      fill: #FFFFFF;\n",
              "    }\n",
              "  </style>\n",
              "\n",
              "    <script>\n",
              "      const buttonEl =\n",
              "        document.querySelector('#df-86cb4475-06ce-4396-9c6f-5728491130ca button.colab-df-convert');\n",
              "      buttonEl.style.display =\n",
              "        google.colab.kernel.accessAllowed ? 'block' : 'none';\n",
              "\n",
              "      async function convertToInteractive(key) {\n",
              "        const element = document.querySelector('#df-86cb4475-06ce-4396-9c6f-5728491130ca');\n",
              "        const dataTable =\n",
              "          await google.colab.kernel.invokeFunction('convertToInteractive',\n",
              "                                                    [key], {});\n",
              "        if (!dataTable) return;\n",
              "\n",
              "        const docLinkHtml = 'Like what you see? Visit the ' +\n",
              "          '<a target=\"_blank\" href=https://colab.research.google.com/notebooks/data_table.ipynb>data table notebook</a>'\n",
              "          + ' to learn more about interactive tables.';\n",
              "        element.innerHTML = '';\n",
              "        dataTable['output_type'] = 'display_data';\n",
              "        await google.colab.output.renderOutput(dataTable, element);\n",
              "        const docLink = document.createElement('div');\n",
              "        docLink.innerHTML = docLinkHtml;\n",
              "        element.appendChild(docLink);\n",
              "      }\n",
              "    </script>\n",
              "  </div>\n",
              "\n",
              "\n",
              "<div id=\"df-30318675-dd60-449f-9831-4d48ae1cd75a\">\n",
              "  <button class=\"colab-df-quickchart\" onclick=\"quickchart('df-30318675-dd60-449f-9831-4d48ae1cd75a')\"\n",
              "            title=\"Suggest charts\"\n",
              "            style=\"display:none;\">\n",
              "\n",
              "<svg xmlns=\"http://www.w3.org/2000/svg\" height=\"24px\"viewBox=\"0 0 24 24\"\n",
              "     width=\"24px\">\n",
              "    <g>\n",
              "        <path d=\"M19 3H5c-1.1 0-2 .9-2 2v14c0 1.1.9 2 2 2h14c1.1 0 2-.9 2-2V5c0-1.1-.9-2-2-2zM9 17H7v-7h2v7zm4 0h-2V7h2v10zm4 0h-2v-4h2v4z\"/>\n",
              "    </g>\n",
              "</svg>\n",
              "  </button>\n",
              "\n",
              "<style>\n",
              "  .colab-df-quickchart {\n",
              "      --bg-color: #E8F0FE;\n",
              "      --fill-color: #1967D2;\n",
              "      --hover-bg-color: #E2EBFA;\n",
              "      --hover-fill-color: #174EA6;\n",
              "      --disabled-fill-color: #AAA;\n",
              "      --disabled-bg-color: #DDD;\n",
              "  }\n",
              "\n",
              "  [theme=dark] .colab-df-quickchart {\n",
              "      --bg-color: #3B4455;\n",
              "      --fill-color: #D2E3FC;\n",
              "      --hover-bg-color: #434B5C;\n",
              "      --hover-fill-color: #FFFFFF;\n",
              "      --disabled-bg-color: #3B4455;\n",
              "      --disabled-fill-color: #666;\n",
              "  }\n",
              "\n",
              "  .colab-df-quickchart {\n",
              "    background-color: var(--bg-color);\n",
              "    border: none;\n",
              "    border-radius: 50%;\n",
              "    cursor: pointer;\n",
              "    display: none;\n",
              "    fill: var(--fill-color);\n",
              "    height: 32px;\n",
              "    padding: 0;\n",
              "    width: 32px;\n",
              "  }\n",
              "\n",
              "  .colab-df-quickchart:hover {\n",
              "    background-color: var(--hover-bg-color);\n",
              "    box-shadow: 0 1px 2px rgba(60, 64, 67, 0.3), 0 1px 3px 1px rgba(60, 64, 67, 0.15);\n",
              "    fill: var(--button-hover-fill-color);\n",
              "  }\n",
              "\n",
              "  .colab-df-quickchart-complete:disabled,\n",
              "  .colab-df-quickchart-complete:disabled:hover {\n",
              "    background-color: var(--disabled-bg-color);\n",
              "    fill: var(--disabled-fill-color);\n",
              "    box-shadow: none;\n",
              "  }\n",
              "\n",
              "  .colab-df-spinner {\n",
              "    border: 2px solid var(--fill-color);\n",
              "    border-color: transparent;\n",
              "    border-bottom-color: var(--fill-color);\n",
              "    animation:\n",
              "      spin 1s steps(1) infinite;\n",
              "  }\n",
              "\n",
              "  @keyframes spin {\n",
              "    0% {\n",
              "      border-color: transparent;\n",
              "      border-bottom-color: var(--fill-color);\n",
              "      border-left-color: var(--fill-color);\n",
              "    }\n",
              "    20% {\n",
              "      border-color: transparent;\n",
              "      border-left-color: var(--fill-color);\n",
              "      border-top-color: var(--fill-color);\n",
              "    }\n",
              "    30% {\n",
              "      border-color: transparent;\n",
              "      border-left-color: var(--fill-color);\n",
              "      border-top-color: var(--fill-color);\n",
              "      border-right-color: var(--fill-color);\n",
              "    }\n",
              "    40% {\n",
              "      border-color: transparent;\n",
              "      border-right-color: var(--fill-color);\n",
              "      border-top-color: var(--fill-color);\n",
              "    }\n",
              "    60% {\n",
              "      border-color: transparent;\n",
              "      border-right-color: var(--fill-color);\n",
              "    }\n",
              "    80% {\n",
              "      border-color: transparent;\n",
              "      border-right-color: var(--fill-color);\n",
              "      border-bottom-color: var(--fill-color);\n",
              "    }\n",
              "    90% {\n",
              "      border-color: transparent;\n",
              "      border-bottom-color: var(--fill-color);\n",
              "    }\n",
              "  }\n",
              "</style>\n",
              "\n",
              "  <script>\n",
              "    async function quickchart(key) {\n",
              "      const quickchartButtonEl =\n",
              "        document.querySelector('#' + key + ' button');\n",
              "      quickchartButtonEl.disabled = true;  // To prevent multiple clicks.\n",
              "      quickchartButtonEl.classList.add('colab-df-spinner');\n",
              "      try {\n",
              "        const charts = await google.colab.kernel.invokeFunction(\n",
              "            'suggestCharts', [key], {});\n",
              "      } catch (error) {\n",
              "        console.error('Error during call to suggestCharts:', error);\n",
              "      }\n",
              "      quickchartButtonEl.classList.remove('colab-df-spinner');\n",
              "      quickchartButtonEl.classList.add('colab-df-quickchart-complete');\n",
              "    }\n",
              "    (() => {\n",
              "      let quickchartButtonEl =\n",
              "        document.querySelector('#df-30318675-dd60-449f-9831-4d48ae1cd75a button');\n",
              "      quickchartButtonEl.style.display =\n",
              "        google.colab.kernel.accessAllowed ? 'block' : 'none';\n",
              "    })();\n",
              "  </script>\n",
              "</div>\n",
              "\n",
              "    </div>\n",
              "  </div>\n"
            ],
            "application/vnd.google.colaboratory.intrinsic+json": {
              "type": "dataframe",
              "variable_name": "warm",
              "summary": "{\n  \"name\": \"warm\",\n  \"rows\": 89,\n  \"fields\": [\n    {\n      \"column\": \"lips_s\",\n      \"properties\": {\n        \"dtype\": \"number\",\n        \"std\": 2.3428353632808543,\n        \"min\": 146.33333333333334,\n        \"max\": 160.0,\n        \"num_unique_values\": 29,\n        \"samples\": [\n          146.66666666666666,\n          148.66666666666666,\n          153.33333333333334\n        ],\n        \"semantic_type\": \"\",\n        \"description\": \"\"\n      }\n    },\n    {\n      \"column\": \"face_l_var\",\n      \"properties\": {\n        \"dtype\": \"number\",\n        \"std\": 9.391161510934654e-06,\n        \"min\": 5.026343387726229e-06,\n        \"max\": 6.175116141093895e-05,\n        \"num_unique_values\": 89,\n        \"samples\": [\n          5.986010819469811e-06,\n          1.3402419426711276e-05,\n          2.813034734572284e-05\n        ],\n        \"semantic_type\": \"\",\n        \"description\": \"\"\n      }\n    },\n    {\n      \"column\": \"skin_avg_b\",\n      \"properties\": {\n        \"dtype\": \"number\",\n        \"std\": 4.016296603406836,\n        \"min\": 138.8,\n        \"max\": 159.2,\n        \"num_unique_values\": 71,\n        \"samples\": [\n          144.2,\n          145.8,\n          141.4\n        ],\n        \"semantic_type\": \"\",\n        \"description\": \"\"\n      }\n    },\n    {\n      \"column\": \"R\",\n      \"properties\": {\n        \"dtype\": \"number\",\n        \"std\": 18.849312081090858,\n        \"min\": 44.83579503712224,\n        \"max\": 140.6137515345159,\n        \"num_unique_values\": 89,\n        \"samples\": [\n          97.42945855202224,\n          106.09046271027698,\n          120.0505157255694\n        ],\n        \"semantic_type\": \"\",\n        \"description\": \"\"\n      }\n    },\n    {\n      \"column\": \"G\",\n      \"properties\": {\n        \"dtype\": \"number\",\n        \"std\": 16.974540385658425,\n        \"min\": 62.61990529271642,\n        \"max\": 164.2951701704904,\n        \"num_unique_values\": 89,\n        \"samples\": [\n          112.1778126776326,\n          126.20041618591844,\n          138.72740897938223\n        ],\n        \"semantic_type\": \"\",\n        \"description\": \"\"\n      }\n    },\n    {\n      \"column\": \"B\",\n      \"properties\": {\n        \"dtype\": \"number\",\n        \"std\": 16.028660232049265,\n        \"min\": 122.3276156371367,\n        \"max\": 213.95625987516047,\n        \"num_unique_values\": 89,\n        \"samples\": [\n          155.11045845412022,\n          174.18402974545097,\n          180.70489542674463\n        ],\n        \"semantic_type\": \"\",\n        \"description\": \"\"\n      }\n    },\n    {\n      \"column\": \"H\",\n      \"properties\": {\n        \"dtype\": \"number\",\n        \"std\": 1.7687146842610697,\n        \"min\": 4.25,\n        \"max\": 13.25,\n        \"num_unique_values\": 29,\n        \"samples\": [\n          6.25,\n          9.25,\n          10.75\n        ],\n        \"semantic_type\": \"\",\n        \"description\": \"\"\n      }\n    },\n    {\n      \"column\": \"S\",\n      \"properties\": {\n        \"dtype\": \"number\",\n        \"std\": 19.747970328595308,\n        \"min\": 74.75,\n        \"max\": 170.25,\n        \"num_unique_values\": 74,\n        \"samples\": [\n          115.75,\n          103.75,\n          137.25\n        ],\n        \"semantic_type\": \"\",\n        \"description\": \"\"\n      }\n    },\n    {\n      \"column\": \"V\",\n      \"properties\": {\n        \"dtype\": \"number\",\n        \"std\": 13.776897037490478,\n        \"min\": 123.5,\n        \"max\": 198.5,\n        \"num_unique_values\": 70,\n        \"samples\": [\n          152.0,\n          165.5,\n          156.5\n        ],\n        \"semantic_type\": \"\",\n        \"description\": \"\"\n      }\n    },\n    {\n      \"column\": \"L\",\n      \"properties\": {\n        \"dtype\": \"number\",\n        \"std\": 14.43293881825745,\n        \"min\": 86.0,\n        \"max\": 168.0,\n        \"num_unique_values\": 77,\n        \"samples\": [\n          136.25,\n          138.5,\n          86.0\n        ],\n        \"semantic_type\": \"\",\n        \"description\": \"\"\n      }\n    },\n    {\n      \"column\": \"a\",\n      \"properties\": {\n        \"dtype\": \"number\",\n        \"std\": 2.386563966006496,\n        \"min\": 138.0,\n        \"max\": 151.5,\n        \"num_unique_values\": 36,\n        \"samples\": [\n          146.25,\n          146.0,\n          148.25\n        ],\n        \"semantic_type\": \"\",\n        \"description\": \"\"\n      }\n    },\n    {\n      \"column\": \"b\",\n      \"properties\": {\n        \"dtype\": \"number\",\n        \"std\": 4.059458573141005,\n        \"min\": 138.5,\n        \"max\": 160.0,\n        \"num_unique_values\": 44,\n        \"samples\": [\n          147.5,\n          151.75,\n          147.25\n        ],\n        \"semantic_type\": \"\",\n        \"description\": \"\"\n      }\n    },\n    {\n      \"column\": \"label\",\n      \"properties\": {\n        \"dtype\": \"category\",\n        \"num_unique_values\": 2,\n        \"samples\": [\n          \"spring\",\n          \"fall\"\n        ],\n        \"semantic_type\": \"\",\n        \"description\": \"\"\n      }\n    }\n  ]\n}"
            }
          },
          "metadata": {},
          "execution_count": 36
        }
      ]
    },
    {
      "cell_type": "code",
      "source": [
        "cool.head()"
      ],
      "metadata": {
        "colab": {
          "base_uri": "https://localhost:8080/",
          "height": 206
        },
        "id": "j0qkUQ7mI0WV",
        "outputId": "57d7e6ff-ccc9-4a6a-8f66-911c82a6f876"
      },
      "execution_count": null,
      "outputs": [
        {
          "output_type": "execute_result",
          "data": {
            "text/plain": [
              "       lips_s  face_l_var  skin_avg_b           R           G           B  \\\n",
              "0  150.000000    0.000017       135.7  146.529861  151.952035  183.768130   \n",
              "1  148.666667    0.000015       131.7  124.505782  121.864497  154.492476   \n",
              "2  152.666667    0.000011       137.9  133.683797  143.018812  176.591909   \n",
              "3  149.000000    0.000013       131.2  153.055289  150.278625  182.753878   \n",
              "4  151.666667    0.000013       141.8  114.381391  130.792897  167.393703   \n",
              "\n",
              "        H      S       V       L       a       b   label  \n",
              "0   50.25  52.50  192.00  174.75  139.25  135.50  winter  \n",
              "1  132.00  65.00  159.75  140.25  142.75  131.50  summer  \n",
              "2    6.50  75.00  177.00  156.25  139.75  137.75  winter  \n",
              "3  177.00  51.75  180.00  161.50  141.75  131.00  summer  \n",
              "4    9.75  87.00  162.75  141.00  139.25  141.75  summer  "
            ],
            "text/html": [
              "\n",
              "  <div id=\"df-6e2e380d-9c6b-4b87-94f4-f8c817f7a733\" class=\"colab-df-container\">\n",
              "    <div>\n",
              "<style scoped>\n",
              "    .dataframe tbody tr th:only-of-type {\n",
              "        vertical-align: middle;\n",
              "    }\n",
              "\n",
              "    .dataframe tbody tr th {\n",
              "        vertical-align: top;\n",
              "    }\n",
              "\n",
              "    .dataframe thead th {\n",
              "        text-align: right;\n",
              "    }\n",
              "</style>\n",
              "<table border=\"1\" class=\"dataframe\">\n",
              "  <thead>\n",
              "    <tr style=\"text-align: right;\">\n",
              "      <th></th>\n",
              "      <th>lips_s</th>\n",
              "      <th>face_l_var</th>\n",
              "      <th>skin_avg_b</th>\n",
              "      <th>R</th>\n",
              "      <th>G</th>\n",
              "      <th>B</th>\n",
              "      <th>H</th>\n",
              "      <th>S</th>\n",
              "      <th>V</th>\n",
              "      <th>L</th>\n",
              "      <th>a</th>\n",
              "      <th>b</th>\n",
              "      <th>label</th>\n",
              "    </tr>\n",
              "  </thead>\n",
              "  <tbody>\n",
              "    <tr>\n",
              "      <th>0</th>\n",
              "      <td>150.000000</td>\n",
              "      <td>0.000017</td>\n",
              "      <td>135.7</td>\n",
              "      <td>146.529861</td>\n",
              "      <td>151.952035</td>\n",
              "      <td>183.768130</td>\n",
              "      <td>50.25</td>\n",
              "      <td>52.50</td>\n",
              "      <td>192.00</td>\n",
              "      <td>174.75</td>\n",
              "      <td>139.25</td>\n",
              "      <td>135.50</td>\n",
              "      <td>winter</td>\n",
              "    </tr>\n",
              "    <tr>\n",
              "      <th>1</th>\n",
              "      <td>148.666667</td>\n",
              "      <td>0.000015</td>\n",
              "      <td>131.7</td>\n",
              "      <td>124.505782</td>\n",
              "      <td>121.864497</td>\n",
              "      <td>154.492476</td>\n",
              "      <td>132.00</td>\n",
              "      <td>65.00</td>\n",
              "      <td>159.75</td>\n",
              "      <td>140.25</td>\n",
              "      <td>142.75</td>\n",
              "      <td>131.50</td>\n",
              "      <td>summer</td>\n",
              "    </tr>\n",
              "    <tr>\n",
              "      <th>2</th>\n",
              "      <td>152.666667</td>\n",
              "      <td>0.000011</td>\n",
              "      <td>137.9</td>\n",
              "      <td>133.683797</td>\n",
              "      <td>143.018812</td>\n",
              "      <td>176.591909</td>\n",
              "      <td>6.50</td>\n",
              "      <td>75.00</td>\n",
              "      <td>177.00</td>\n",
              "      <td>156.25</td>\n",
              "      <td>139.75</td>\n",
              "      <td>137.75</td>\n",
              "      <td>winter</td>\n",
              "    </tr>\n",
              "    <tr>\n",
              "      <th>3</th>\n",
              "      <td>149.000000</td>\n",
              "      <td>0.000013</td>\n",
              "      <td>131.2</td>\n",
              "      <td>153.055289</td>\n",
              "      <td>150.278625</td>\n",
              "      <td>182.753878</td>\n",
              "      <td>177.00</td>\n",
              "      <td>51.75</td>\n",
              "      <td>180.00</td>\n",
              "      <td>161.50</td>\n",
              "      <td>141.75</td>\n",
              "      <td>131.00</td>\n",
              "      <td>summer</td>\n",
              "    </tr>\n",
              "    <tr>\n",
              "      <th>4</th>\n",
              "      <td>151.666667</td>\n",
              "      <td>0.000013</td>\n",
              "      <td>141.8</td>\n",
              "      <td>114.381391</td>\n",
              "      <td>130.792897</td>\n",
              "      <td>167.393703</td>\n",
              "      <td>9.75</td>\n",
              "      <td>87.00</td>\n",
              "      <td>162.75</td>\n",
              "      <td>141.00</td>\n",
              "      <td>139.25</td>\n",
              "      <td>141.75</td>\n",
              "      <td>summer</td>\n",
              "    </tr>\n",
              "  </tbody>\n",
              "</table>\n",
              "</div>\n",
              "    <div class=\"colab-df-buttons\">\n",
              "\n",
              "  <div class=\"colab-df-container\">\n",
              "    <button class=\"colab-df-convert\" onclick=\"convertToInteractive('df-6e2e380d-9c6b-4b87-94f4-f8c817f7a733')\"\n",
              "            title=\"Convert this dataframe to an interactive table.\"\n",
              "            style=\"display:none;\">\n",
              "\n",
              "  <svg xmlns=\"http://www.w3.org/2000/svg\" height=\"24px\" viewBox=\"0 -960 960 960\">\n",
              "    <path d=\"M120-120v-720h720v720H120Zm60-500h600v-160H180v160Zm220 220h160v-160H400v160Zm0 220h160v-160H400v160ZM180-400h160v-160H180v160Zm440 0h160v-160H620v160ZM180-180h160v-160H180v160Zm440 0h160v-160H620v160Z\"/>\n",
              "  </svg>\n",
              "    </button>\n",
              "\n",
              "  <style>\n",
              "    .colab-df-container {\n",
              "      display:flex;\n",
              "      gap: 12px;\n",
              "    }\n",
              "\n",
              "    .colab-df-convert {\n",
              "      background-color: #E8F0FE;\n",
              "      border: none;\n",
              "      border-radius: 50%;\n",
              "      cursor: pointer;\n",
              "      display: none;\n",
              "      fill: #1967D2;\n",
              "      height: 32px;\n",
              "      padding: 0 0 0 0;\n",
              "      width: 32px;\n",
              "    }\n",
              "\n",
              "    .colab-df-convert:hover {\n",
              "      background-color: #E2EBFA;\n",
              "      box-shadow: 0px 1px 2px rgba(60, 64, 67, 0.3), 0px 1px 3px 1px rgba(60, 64, 67, 0.15);\n",
              "      fill: #174EA6;\n",
              "    }\n",
              "\n",
              "    .colab-df-buttons div {\n",
              "      margin-bottom: 4px;\n",
              "    }\n",
              "\n",
              "    [theme=dark] .colab-df-convert {\n",
              "      background-color: #3B4455;\n",
              "      fill: #D2E3FC;\n",
              "    }\n",
              "\n",
              "    [theme=dark] .colab-df-convert:hover {\n",
              "      background-color: #434B5C;\n",
              "      box-shadow: 0px 1px 3px 1px rgba(0, 0, 0, 0.15);\n",
              "      filter: drop-shadow(0px 1px 2px rgba(0, 0, 0, 0.3));\n",
              "      fill: #FFFFFF;\n",
              "    }\n",
              "  </style>\n",
              "\n",
              "    <script>\n",
              "      const buttonEl =\n",
              "        document.querySelector('#df-6e2e380d-9c6b-4b87-94f4-f8c817f7a733 button.colab-df-convert');\n",
              "      buttonEl.style.display =\n",
              "        google.colab.kernel.accessAllowed ? 'block' : 'none';\n",
              "\n",
              "      async function convertToInteractive(key) {\n",
              "        const element = document.querySelector('#df-6e2e380d-9c6b-4b87-94f4-f8c817f7a733');\n",
              "        const dataTable =\n",
              "          await google.colab.kernel.invokeFunction('convertToInteractive',\n",
              "                                                    [key], {});\n",
              "        if (!dataTable) return;\n",
              "\n",
              "        const docLinkHtml = 'Like what you see? Visit the ' +\n",
              "          '<a target=\"_blank\" href=https://colab.research.google.com/notebooks/data_table.ipynb>data table notebook</a>'\n",
              "          + ' to learn more about interactive tables.';\n",
              "        element.innerHTML = '';\n",
              "        dataTable['output_type'] = 'display_data';\n",
              "        await google.colab.output.renderOutput(dataTable, element);\n",
              "        const docLink = document.createElement('div');\n",
              "        docLink.innerHTML = docLinkHtml;\n",
              "        element.appendChild(docLink);\n",
              "      }\n",
              "    </script>\n",
              "  </div>\n",
              "\n",
              "\n",
              "<div id=\"df-2cea4891-7e00-4e51-8cb0-3c7fe3891b4f\">\n",
              "  <button class=\"colab-df-quickchart\" onclick=\"quickchart('df-2cea4891-7e00-4e51-8cb0-3c7fe3891b4f')\"\n",
              "            title=\"Suggest charts\"\n",
              "            style=\"display:none;\">\n",
              "\n",
              "<svg xmlns=\"http://www.w3.org/2000/svg\" height=\"24px\"viewBox=\"0 0 24 24\"\n",
              "     width=\"24px\">\n",
              "    <g>\n",
              "        <path d=\"M19 3H5c-1.1 0-2 .9-2 2v14c0 1.1.9 2 2 2h14c1.1 0 2-.9 2-2V5c0-1.1-.9-2-2-2zM9 17H7v-7h2v7zm4 0h-2V7h2v10zm4 0h-2v-4h2v4z\"/>\n",
              "    </g>\n",
              "</svg>\n",
              "  </button>\n",
              "\n",
              "<style>\n",
              "  .colab-df-quickchart {\n",
              "      --bg-color: #E8F0FE;\n",
              "      --fill-color: #1967D2;\n",
              "      --hover-bg-color: #E2EBFA;\n",
              "      --hover-fill-color: #174EA6;\n",
              "      --disabled-fill-color: #AAA;\n",
              "      --disabled-bg-color: #DDD;\n",
              "  }\n",
              "\n",
              "  [theme=dark] .colab-df-quickchart {\n",
              "      --bg-color: #3B4455;\n",
              "      --fill-color: #D2E3FC;\n",
              "      --hover-bg-color: #434B5C;\n",
              "      --hover-fill-color: #FFFFFF;\n",
              "      --disabled-bg-color: #3B4455;\n",
              "      --disabled-fill-color: #666;\n",
              "  }\n",
              "\n",
              "  .colab-df-quickchart {\n",
              "    background-color: var(--bg-color);\n",
              "    border: none;\n",
              "    border-radius: 50%;\n",
              "    cursor: pointer;\n",
              "    display: none;\n",
              "    fill: var(--fill-color);\n",
              "    height: 32px;\n",
              "    padding: 0;\n",
              "    width: 32px;\n",
              "  }\n",
              "\n",
              "  .colab-df-quickchart:hover {\n",
              "    background-color: var(--hover-bg-color);\n",
              "    box-shadow: 0 1px 2px rgba(60, 64, 67, 0.3), 0 1px 3px 1px rgba(60, 64, 67, 0.15);\n",
              "    fill: var(--button-hover-fill-color);\n",
              "  }\n",
              "\n",
              "  .colab-df-quickchart-complete:disabled,\n",
              "  .colab-df-quickchart-complete:disabled:hover {\n",
              "    background-color: var(--disabled-bg-color);\n",
              "    fill: var(--disabled-fill-color);\n",
              "    box-shadow: none;\n",
              "  }\n",
              "\n",
              "  .colab-df-spinner {\n",
              "    border: 2px solid var(--fill-color);\n",
              "    border-color: transparent;\n",
              "    border-bottom-color: var(--fill-color);\n",
              "    animation:\n",
              "      spin 1s steps(1) infinite;\n",
              "  }\n",
              "\n",
              "  @keyframes spin {\n",
              "    0% {\n",
              "      border-color: transparent;\n",
              "      border-bottom-color: var(--fill-color);\n",
              "      border-left-color: var(--fill-color);\n",
              "    }\n",
              "    20% {\n",
              "      border-color: transparent;\n",
              "      border-left-color: var(--fill-color);\n",
              "      border-top-color: var(--fill-color);\n",
              "    }\n",
              "    30% {\n",
              "      border-color: transparent;\n",
              "      border-left-color: var(--fill-color);\n",
              "      border-top-color: var(--fill-color);\n",
              "      border-right-color: var(--fill-color);\n",
              "    }\n",
              "    40% {\n",
              "      border-color: transparent;\n",
              "      border-right-color: var(--fill-color);\n",
              "      border-top-color: var(--fill-color);\n",
              "    }\n",
              "    60% {\n",
              "      border-color: transparent;\n",
              "      border-right-color: var(--fill-color);\n",
              "    }\n",
              "    80% {\n",
              "      border-color: transparent;\n",
              "      border-right-color: var(--fill-color);\n",
              "      border-bottom-color: var(--fill-color);\n",
              "    }\n",
              "    90% {\n",
              "      border-color: transparent;\n",
              "      border-bottom-color: var(--fill-color);\n",
              "    }\n",
              "  }\n",
              "</style>\n",
              "\n",
              "  <script>\n",
              "    async function quickchart(key) {\n",
              "      const quickchartButtonEl =\n",
              "        document.querySelector('#' + key + ' button');\n",
              "      quickchartButtonEl.disabled = true;  // To prevent multiple clicks.\n",
              "      quickchartButtonEl.classList.add('colab-df-spinner');\n",
              "      try {\n",
              "        const charts = await google.colab.kernel.invokeFunction(\n",
              "            'suggestCharts', [key], {});\n",
              "      } catch (error) {\n",
              "        console.error('Error during call to suggestCharts:', error);\n",
              "      }\n",
              "      quickchartButtonEl.classList.remove('colab-df-spinner');\n",
              "      quickchartButtonEl.classList.add('colab-df-quickchart-complete');\n",
              "    }\n",
              "    (() => {\n",
              "      let quickchartButtonEl =\n",
              "        document.querySelector('#df-2cea4891-7e00-4e51-8cb0-3c7fe3891b4f button');\n",
              "      quickchartButtonEl.style.display =\n",
              "        google.colab.kernel.accessAllowed ? 'block' : 'none';\n",
              "    })();\n",
              "  </script>\n",
              "</div>\n",
              "\n",
              "    </div>\n",
              "  </div>\n"
            ],
            "application/vnd.google.colaboratory.intrinsic+json": {
              "type": "dataframe",
              "variable_name": "cool",
              "summary": "{\n  \"name\": \"cool\",\n  \"rows\": 99,\n  \"fields\": [\n    {\n      \"column\": \"lips_s\",\n      \"properties\": {\n        \"dtype\": \"number\",\n        \"std\": 3.575236065656374,\n        \"min\": 140.0,\n        \"max\": 158.66666666666666,\n        \"num_unique_values\": 41,\n        \"samples\": [\n          151.33333333333334,\n          140.0,\n          150.66666666666666\n        ],\n        \"semantic_type\": \"\",\n        \"description\": \"\"\n      }\n    },\n    {\n      \"column\": \"face_l_var\",\n      \"properties\": {\n        \"dtype\": \"number\",\n        \"std\": 9.201329100835568e-06,\n        \"min\": 3.594135705498047e-06,\n        \"max\": 5.638170478050597e-05,\n        \"num_unique_values\": 99,\n        \"samples\": [\n          1.0034645129053388e-05,\n          1.0712028597481549e-05,\n          2.3328630049945787e-05\n        ],\n        \"semantic_type\": \"\",\n        \"description\": \"\"\n      }\n    },\n    {\n      \"column\": \"skin_avg_b\",\n      \"properties\": {\n        \"dtype\": \"number\",\n        \"std\": 3.295473304419913,\n        \"min\": 128.2,\n        \"max\": 142.8,\n        \"num_unique_values\": 73,\n        \"samples\": [\n          141.8,\n          141.7,\n          131.6\n        ],\n        \"semantic_type\": \"\",\n        \"description\": \"\"\n      }\n    },\n    {\n      \"column\": \"R\",\n      \"properties\": {\n        \"dtype\": \"number\",\n        \"std\": 12.999733268726585,\n        \"min\": 98.82575889106748,\n        \"max\": 170.3647216186545,\n        \"num_unique_values\": 99,\n        \"samples\": [\n          98.82575889106748,\n          138.5271495514438,\n          138.4476825058927\n        ],\n        \"semantic_type\": \"\",\n        \"description\": \"\"\n      }\n    },\n    {\n      \"column\": \"G\",\n      \"properties\": {\n        \"dtype\": \"number\",\n        \"std\": 11.513568378368879,\n        \"min\": 111.03989673834556,\n        \"max\": 161.62212031103522,\n        \"num_unique_values\": 99,\n        \"samples\": [\n          114.86745856189468,\n          141.59337136005226,\n          143.34230197529627\n        ],\n        \"semantic_type\": \"\",\n        \"description\": \"\"\n      }\n    },\n    {\n      \"column\": \"B\",\n      \"properties\": {\n        \"dtype\": \"number\",\n        \"std\": 11.830028311577893,\n        \"min\": 143.85989473736944,\n        \"max\": 196.4027323048176,\n        \"num_unique_values\": 99,\n        \"samples\": [\n          154.65488750315166,\n          173.19580908560405,\n          184.4421710937035\n        ],\n        \"semantic_type\": \"\",\n        \"description\": \"\"\n      }\n    },\n    {\n      \"column\": \"H\",\n      \"properties\": {\n        \"dtype\": \"number\",\n        \"std\": 63.44938580765934,\n        \"min\": 1.5,\n        \"max\": 178.0,\n        \"num_unique_values\": 55,\n        \"samples\": [\n          88.5,\n          89.75,\n          173.75\n        ],\n        \"semantic_type\": \"\",\n        \"description\": \"\"\n      }\n    },\n    {\n      \"column\": \"S\",\n      \"properties\": {\n        \"dtype\": \"number\",\n        \"std\": 13.193045309840938,\n        \"min\": 44.25,\n        \"max\": 103.5,\n        \"num_unique_values\": 83,\n        \"samples\": [\n          46.25,\n          52.5,\n          77.0\n        ],\n        \"semantic_type\": \"\",\n        \"description\": \"\"\n      }\n    },\n    {\n      \"column\": \"V\",\n      \"properties\": {\n        \"dtype\": \"number\",\n        \"std\": 11.672813448317276,\n        \"min\": 140.25,\n        \"max\": 197.25,\n        \"num_unique_values\": 73,\n        \"samples\": [\n          162.75,\n          182.5,\n          166.5\n        ],\n        \"semantic_type\": \"\",\n        \"description\": \"\"\n      }\n    },\n    {\n      \"column\": \"L\",\n      \"properties\": {\n        \"dtype\": \"number\",\n        \"std\": 11.346658106033757,\n        \"min\": 119.5,\n        \"max\": 178.5,\n        \"num_unique_values\": 76,\n        \"samples\": [\n          141.0,\n          160.25,\n          136.75\n        ],\n        \"semantic_type\": \"\",\n        \"description\": \"\"\n      }\n    },\n    {\n      \"column\": \"a\",\n      \"properties\": {\n        \"dtype\": \"number\",\n        \"std\": 2.271527718892138,\n        \"min\": 136.0,\n        \"max\": 154.25,\n        \"num_unique_values\": 31,\n        \"samples\": [\n          140.25,\n          144.0,\n          137.0\n        ],\n        \"semantic_type\": \"\",\n        \"description\": \"\"\n      }\n    },\n    {\n      \"column\": \"b\",\n      \"properties\": {\n        \"dtype\": \"number\",\n        \"std\": 3.3465049749417424,\n        \"min\": 128.25,\n        \"max\": 143.25,\n        \"num_unique_values\": 45,\n        \"samples\": [\n          141.0,\n          132.5,\n          130.5\n        ],\n        \"semantic_type\": \"\",\n        \"description\": \"\"\n      }\n    },\n    {\n      \"column\": \"label\",\n      \"properties\": {\n        \"dtype\": \"category\",\n        \"num_unique_values\": 2,\n        \"samples\": [\n          \"summer\",\n          \"winter\"\n        ],\n        \"semantic_type\": \"\",\n        \"description\": \"\"\n      }\n    }\n  ]\n}"
            }
          },
          "metadata": {},
          "execution_count": 37
        }
      ]
    },
    {
      "cell_type": "code",
      "source": [
        "warm_ = warm.copy()\n",
        "warm_['label'] = warm_['label'].apply(lambda x: 'warm')\n",
        "cool_ = cool.copy()\n",
        "cool_['label'] = cool_['label'].apply(lambda x: 'cool')"
      ],
      "metadata": {
        "id": "8TU5q91EJa5o"
      },
      "execution_count": null,
      "outputs": []
    },
    {
      "cell_type": "code",
      "source": [
        "wc = pd.concat([warm, cool])\n",
        "wc['label'] = wc['label'].apply(lambda x: 0 if x == 'warm' else 1)"
      ],
      "metadata": {
        "id": "EUJd2-EzKL0J"
      },
      "execution_count": null,
      "outputs": []
    },
    {
      "cell_type": "code",
      "source": [
        "wc.sample(frac=1, random_state=42).reset_index(drop=True)\n",
        "X_train_full = wc.iloc[:, :-1]\n",
        "y_train_full = wc['label']"
      ],
      "metadata": {
        "id": "yUDeI_OjKcmv"
      },
      "execution_count": null,
      "outputs": []
    },
    {
      "cell_type": "code",
      "source": [
        "wc.head()"
      ],
      "metadata": {
        "colab": {
          "base_uri": "https://localhost:8080/",
          "height": 206
        },
        "id": "3vFZ0SQgK7MA",
        "outputId": "07260325-5153-44d5-9120-59b120d78cbc"
      },
      "execution_count": null,
      "outputs": [
        {
          "output_type": "execute_result",
          "data": {
            "text/plain": [
              "       lips_s  face_l_var  skin_avg_b           R           G           B  \\\n",
              "0  151.666667    0.000008       145.8  112.914310  133.965925  175.651445   \n",
              "1  150.000000    0.000025       146.3  126.187999  147.715856  191.952797   \n",
              "2  154.000000    0.000012       141.8  112.976115  125.444865  172.908069   \n",
              "3  152.333333    0.000009       145.1  105.951249  125.220850  170.398417   \n",
              "4  151.666667    0.000015       145.2  108.123511  128.183753  173.363279   \n",
              "\n",
              "      H       S       V       L       a       b  label  \n",
              "0  9.75  105.75  165.50  139.25  141.50  145.25      1  \n",
              "1  8.25   99.50  181.00  152.50  142.75  144.50      1  \n",
              "2  5.25  107.25  157.75  127.75  144.50  140.50      1  \n",
              "3  8.75  115.50  163.75  134.25  143.00  145.00      1  \n",
              "4  8.50  115.75  167.00  136.25  143.50  145.25      1  "
            ],
            "text/html": [
              "\n",
              "  <div id=\"df-bc366a16-91e2-4472-aa23-5f4754258bf0\" class=\"colab-df-container\">\n",
              "    <div>\n",
              "<style scoped>\n",
              "    .dataframe tbody tr th:only-of-type {\n",
              "        vertical-align: middle;\n",
              "    }\n",
              "\n",
              "    .dataframe tbody tr th {\n",
              "        vertical-align: top;\n",
              "    }\n",
              "\n",
              "    .dataframe thead th {\n",
              "        text-align: right;\n",
              "    }\n",
              "</style>\n",
              "<table border=\"1\" class=\"dataframe\">\n",
              "  <thead>\n",
              "    <tr style=\"text-align: right;\">\n",
              "      <th></th>\n",
              "      <th>lips_s</th>\n",
              "      <th>face_l_var</th>\n",
              "      <th>skin_avg_b</th>\n",
              "      <th>R</th>\n",
              "      <th>G</th>\n",
              "      <th>B</th>\n",
              "      <th>H</th>\n",
              "      <th>S</th>\n",
              "      <th>V</th>\n",
              "      <th>L</th>\n",
              "      <th>a</th>\n",
              "      <th>b</th>\n",
              "      <th>label</th>\n",
              "    </tr>\n",
              "  </thead>\n",
              "  <tbody>\n",
              "    <tr>\n",
              "      <th>0</th>\n",
              "      <td>151.666667</td>\n",
              "      <td>0.000008</td>\n",
              "      <td>145.8</td>\n",
              "      <td>112.914310</td>\n",
              "      <td>133.965925</td>\n",
              "      <td>175.651445</td>\n",
              "      <td>9.75</td>\n",
              "      <td>105.75</td>\n",
              "      <td>165.50</td>\n",
              "      <td>139.25</td>\n",
              "      <td>141.50</td>\n",
              "      <td>145.25</td>\n",
              "      <td>1</td>\n",
              "    </tr>\n",
              "    <tr>\n",
              "      <th>1</th>\n",
              "      <td>150.000000</td>\n",
              "      <td>0.000025</td>\n",
              "      <td>146.3</td>\n",
              "      <td>126.187999</td>\n",
              "      <td>147.715856</td>\n",
              "      <td>191.952797</td>\n",
              "      <td>8.25</td>\n",
              "      <td>99.50</td>\n",
              "      <td>181.00</td>\n",
              "      <td>152.50</td>\n",
              "      <td>142.75</td>\n",
              "      <td>144.50</td>\n",
              "      <td>1</td>\n",
              "    </tr>\n",
              "    <tr>\n",
              "      <th>2</th>\n",
              "      <td>154.000000</td>\n",
              "      <td>0.000012</td>\n",
              "      <td>141.8</td>\n",
              "      <td>112.976115</td>\n",
              "      <td>125.444865</td>\n",
              "      <td>172.908069</td>\n",
              "      <td>5.25</td>\n",
              "      <td>107.25</td>\n",
              "      <td>157.75</td>\n",
              "      <td>127.75</td>\n",
              "      <td>144.50</td>\n",
              "      <td>140.50</td>\n",
              "      <td>1</td>\n",
              "    </tr>\n",
              "    <tr>\n",
              "      <th>3</th>\n",
              "      <td>152.333333</td>\n",
              "      <td>0.000009</td>\n",
              "      <td>145.1</td>\n",
              "      <td>105.951249</td>\n",
              "      <td>125.220850</td>\n",
              "      <td>170.398417</td>\n",
              "      <td>8.75</td>\n",
              "      <td>115.50</td>\n",
              "      <td>163.75</td>\n",
              "      <td>134.25</td>\n",
              "      <td>143.00</td>\n",
              "      <td>145.00</td>\n",
              "      <td>1</td>\n",
              "    </tr>\n",
              "    <tr>\n",
              "      <th>4</th>\n",
              "      <td>151.666667</td>\n",
              "      <td>0.000015</td>\n",
              "      <td>145.2</td>\n",
              "      <td>108.123511</td>\n",
              "      <td>128.183753</td>\n",
              "      <td>173.363279</td>\n",
              "      <td>8.50</td>\n",
              "      <td>115.75</td>\n",
              "      <td>167.00</td>\n",
              "      <td>136.25</td>\n",
              "      <td>143.50</td>\n",
              "      <td>145.25</td>\n",
              "      <td>1</td>\n",
              "    </tr>\n",
              "  </tbody>\n",
              "</table>\n",
              "</div>\n",
              "    <div class=\"colab-df-buttons\">\n",
              "\n",
              "  <div class=\"colab-df-container\">\n",
              "    <button class=\"colab-df-convert\" onclick=\"convertToInteractive('df-bc366a16-91e2-4472-aa23-5f4754258bf0')\"\n",
              "            title=\"Convert this dataframe to an interactive table.\"\n",
              "            style=\"display:none;\">\n",
              "\n",
              "  <svg xmlns=\"http://www.w3.org/2000/svg\" height=\"24px\" viewBox=\"0 -960 960 960\">\n",
              "    <path d=\"M120-120v-720h720v720H120Zm60-500h600v-160H180v160Zm220 220h160v-160H400v160Zm0 220h160v-160H400v160ZM180-400h160v-160H180v160Zm440 0h160v-160H620v160ZM180-180h160v-160H180v160Zm440 0h160v-160H620v160Z\"/>\n",
              "  </svg>\n",
              "    </button>\n",
              "\n",
              "  <style>\n",
              "    .colab-df-container {\n",
              "      display:flex;\n",
              "      gap: 12px;\n",
              "    }\n",
              "\n",
              "    .colab-df-convert {\n",
              "      background-color: #E8F0FE;\n",
              "      border: none;\n",
              "      border-radius: 50%;\n",
              "      cursor: pointer;\n",
              "      display: none;\n",
              "      fill: #1967D2;\n",
              "      height: 32px;\n",
              "      padding: 0 0 0 0;\n",
              "      width: 32px;\n",
              "    }\n",
              "\n",
              "    .colab-df-convert:hover {\n",
              "      background-color: #E2EBFA;\n",
              "      box-shadow: 0px 1px 2px rgba(60, 64, 67, 0.3), 0px 1px 3px 1px rgba(60, 64, 67, 0.15);\n",
              "      fill: #174EA6;\n",
              "    }\n",
              "\n",
              "    .colab-df-buttons div {\n",
              "      margin-bottom: 4px;\n",
              "    }\n",
              "\n",
              "    [theme=dark] .colab-df-convert {\n",
              "      background-color: #3B4455;\n",
              "      fill: #D2E3FC;\n",
              "    }\n",
              "\n",
              "    [theme=dark] .colab-df-convert:hover {\n",
              "      background-color: #434B5C;\n",
              "      box-shadow: 0px 1px 3px 1px rgba(0, 0, 0, 0.15);\n",
              "      filter: drop-shadow(0px 1px 2px rgba(0, 0, 0, 0.3));\n",
              "      fill: #FFFFFF;\n",
              "    }\n",
              "  </style>\n",
              "\n",
              "    <script>\n",
              "      const buttonEl =\n",
              "        document.querySelector('#df-bc366a16-91e2-4472-aa23-5f4754258bf0 button.colab-df-convert');\n",
              "      buttonEl.style.display =\n",
              "        google.colab.kernel.accessAllowed ? 'block' : 'none';\n",
              "\n",
              "      async function convertToInteractive(key) {\n",
              "        const element = document.querySelector('#df-bc366a16-91e2-4472-aa23-5f4754258bf0');\n",
              "        const dataTable =\n",
              "          await google.colab.kernel.invokeFunction('convertToInteractive',\n",
              "                                                    [key], {});\n",
              "        if (!dataTable) return;\n",
              "\n",
              "        const docLinkHtml = 'Like what you see? Visit the ' +\n",
              "          '<a target=\"_blank\" href=https://colab.research.google.com/notebooks/data_table.ipynb>data table notebook</a>'\n",
              "          + ' to learn more about interactive tables.';\n",
              "        element.innerHTML = '';\n",
              "        dataTable['output_type'] = 'display_data';\n",
              "        await google.colab.output.renderOutput(dataTable, element);\n",
              "        const docLink = document.createElement('div');\n",
              "        docLink.innerHTML = docLinkHtml;\n",
              "        element.appendChild(docLink);\n",
              "      }\n",
              "    </script>\n",
              "  </div>\n",
              "\n",
              "\n",
              "<div id=\"df-cd33d43e-84c8-47e5-b85a-06c597c03e0c\">\n",
              "  <button class=\"colab-df-quickchart\" onclick=\"quickchart('df-cd33d43e-84c8-47e5-b85a-06c597c03e0c')\"\n",
              "            title=\"Suggest charts\"\n",
              "            style=\"display:none;\">\n",
              "\n",
              "<svg xmlns=\"http://www.w3.org/2000/svg\" height=\"24px\"viewBox=\"0 0 24 24\"\n",
              "     width=\"24px\">\n",
              "    <g>\n",
              "        <path d=\"M19 3H5c-1.1 0-2 .9-2 2v14c0 1.1.9 2 2 2h14c1.1 0 2-.9 2-2V5c0-1.1-.9-2-2-2zM9 17H7v-7h2v7zm4 0h-2V7h2v10zm4 0h-2v-4h2v4z\"/>\n",
              "    </g>\n",
              "</svg>\n",
              "  </button>\n",
              "\n",
              "<style>\n",
              "  .colab-df-quickchart {\n",
              "      --bg-color: #E8F0FE;\n",
              "      --fill-color: #1967D2;\n",
              "      --hover-bg-color: #E2EBFA;\n",
              "      --hover-fill-color: #174EA6;\n",
              "      --disabled-fill-color: #AAA;\n",
              "      --disabled-bg-color: #DDD;\n",
              "  }\n",
              "\n",
              "  [theme=dark] .colab-df-quickchart {\n",
              "      --bg-color: #3B4455;\n",
              "      --fill-color: #D2E3FC;\n",
              "      --hover-bg-color: #434B5C;\n",
              "      --hover-fill-color: #FFFFFF;\n",
              "      --disabled-bg-color: #3B4455;\n",
              "      --disabled-fill-color: #666;\n",
              "  }\n",
              "\n",
              "  .colab-df-quickchart {\n",
              "    background-color: var(--bg-color);\n",
              "    border: none;\n",
              "    border-radius: 50%;\n",
              "    cursor: pointer;\n",
              "    display: none;\n",
              "    fill: var(--fill-color);\n",
              "    height: 32px;\n",
              "    padding: 0;\n",
              "    width: 32px;\n",
              "  }\n",
              "\n",
              "  .colab-df-quickchart:hover {\n",
              "    background-color: var(--hover-bg-color);\n",
              "    box-shadow: 0 1px 2px rgba(60, 64, 67, 0.3), 0 1px 3px 1px rgba(60, 64, 67, 0.15);\n",
              "    fill: var(--button-hover-fill-color);\n",
              "  }\n",
              "\n",
              "  .colab-df-quickchart-complete:disabled,\n",
              "  .colab-df-quickchart-complete:disabled:hover {\n",
              "    background-color: var(--disabled-bg-color);\n",
              "    fill: var(--disabled-fill-color);\n",
              "    box-shadow: none;\n",
              "  }\n",
              "\n",
              "  .colab-df-spinner {\n",
              "    border: 2px solid var(--fill-color);\n",
              "    border-color: transparent;\n",
              "    border-bottom-color: var(--fill-color);\n",
              "    animation:\n",
              "      spin 1s steps(1) infinite;\n",
              "  }\n",
              "\n",
              "  @keyframes spin {\n",
              "    0% {\n",
              "      border-color: transparent;\n",
              "      border-bottom-color: var(--fill-color);\n",
              "      border-left-color: var(--fill-color);\n",
              "    }\n",
              "    20% {\n",
              "      border-color: transparent;\n",
              "      border-left-color: var(--fill-color);\n",
              "      border-top-color: var(--fill-color);\n",
              "    }\n",
              "    30% {\n",
              "      border-color: transparent;\n",
              "      border-left-color: var(--fill-color);\n",
              "      border-top-color: var(--fill-color);\n",
              "      border-right-color: var(--fill-color);\n",
              "    }\n",
              "    40% {\n",
              "      border-color: transparent;\n",
              "      border-right-color: var(--fill-color);\n",
              "      border-top-color: var(--fill-color);\n",
              "    }\n",
              "    60% {\n",
              "      border-color: transparent;\n",
              "      border-right-color: var(--fill-color);\n",
              "    }\n",
              "    80% {\n",
              "      border-color: transparent;\n",
              "      border-right-color: var(--fill-color);\n",
              "      border-bottom-color: var(--fill-color);\n",
              "    }\n",
              "    90% {\n",
              "      border-color: transparent;\n",
              "      border-bottom-color: var(--fill-color);\n",
              "    }\n",
              "  }\n",
              "</style>\n",
              "\n",
              "  <script>\n",
              "    async function quickchart(key) {\n",
              "      const quickchartButtonEl =\n",
              "        document.querySelector('#' + key + ' button');\n",
              "      quickchartButtonEl.disabled = true;  // To prevent multiple clicks.\n",
              "      quickchartButtonEl.classList.add('colab-df-spinner');\n",
              "      try {\n",
              "        const charts = await google.colab.kernel.invokeFunction(\n",
              "            'suggestCharts', [key], {});\n",
              "      } catch (error) {\n",
              "        console.error('Error during call to suggestCharts:', error);\n",
              "      }\n",
              "      quickchartButtonEl.classList.remove('colab-df-spinner');\n",
              "      quickchartButtonEl.classList.add('colab-df-quickchart-complete');\n",
              "    }\n",
              "    (() => {\n",
              "      let quickchartButtonEl =\n",
              "        document.querySelector('#df-cd33d43e-84c8-47e5-b85a-06c597c03e0c button');\n",
              "      quickchartButtonEl.style.display =\n",
              "        google.colab.kernel.accessAllowed ? 'block' : 'none';\n",
              "    })();\n",
              "  </script>\n",
              "</div>\n",
              "\n",
              "    </div>\n",
              "  </div>\n"
            ],
            "application/vnd.google.colaboratory.intrinsic+json": {
              "type": "dataframe",
              "variable_name": "wc",
              "summary": "{\n  \"name\": \"wc\",\n  \"rows\": 188,\n  \"fields\": [\n    {\n      \"column\": \"lips_s\",\n      \"properties\": {\n        \"dtype\": \"number\",\n        \"std\": 3.0717763450335274,\n        \"min\": 140.0,\n        \"max\": 160.0,\n        \"num_unique_values\": 43,\n        \"samples\": [\n          143.33333333333334,\n          155.66666666666666,\n          154.66666666666666\n        ],\n        \"semantic_type\": \"\",\n        \"description\": \"\"\n      }\n    },\n    {\n      \"column\": \"face_l_var\",\n      \"properties\": {\n        \"dtype\": \"number\",\n        \"std\": 9.293519386514712e-06,\n        \"min\": 3.594135705498047e-06,\n        \"max\": 6.175116141093895e-05,\n        \"num_unique_values\": 188,\n        \"samples\": [\n          1.142545988841448e-05,\n          1.7272925106226467e-05,\n          1.8053304302156903e-05\n        ],\n        \"semantic_type\": \"\",\n        \"description\": \"\"\n      }\n    },\n    {\n      \"column\": \"skin_avg_b\",\n      \"properties\": {\n        \"dtype\": \"number\",\n        \"std\": 6.519051327318633,\n        \"min\": 128.2,\n        \"max\": 159.2,\n        \"num_unique_values\": 140,\n        \"samples\": [\n          134.6,\n          143.6,\n          143.3\n        ],\n        \"semantic_type\": \"\",\n        \"description\": \"\"\n      }\n    },\n    {\n      \"column\": \"R\",\n      \"properties\": {\n        \"dtype\": \"number\",\n        \"std\": 21.16073274003027,\n        \"min\": 44.83579503712224,\n        \"max\": 170.3647216186545,\n        \"num_unique_values\": 188,\n        \"samples\": [\n          140.01470983645166,\n          136.97095077291343,\n          79.44221302769957\n        ],\n        \"semantic_type\": \"\",\n        \"description\": \"\"\n      }\n    },\n    {\n      \"column\": \"G\",\n      \"properties\": {\n        \"dtype\": \"number\",\n        \"std\": 15.260608171346185,\n        \"min\": 62.61990529271642,\n        \"max\": 164.2951701704904,\n        \"num_unique_values\": 188,\n        \"samples\": [\n          139.5521394460544,\n          135.9884424532028,\n          108.0217017592471\n        ],\n        \"semantic_type\": \"\",\n        \"description\": \"\"\n      }\n    },\n    {\n      \"column\": \"B\",\n      \"properties\": {\n        \"dtype\": \"number\",\n        \"std\": 13.948867427836252,\n        \"min\": 122.3276156371367,\n        \"max\": 213.95625987516047,\n        \"num_unique_values\": 188,\n        \"samples\": [\n          174.48401202944865,\n          165.45396708457372,\n          158.0813478422658\n        ],\n        \"semantic_type\": \"\",\n        \"description\": \"\"\n      }\n    },\n    {\n      \"column\": \"H\",\n      \"properties\": {\n        \"dtype\": \"number\",\n        \"std\": 50.93619058272016,\n        \"min\": 1.5,\n        \"max\": 178.0,\n        \"num_unique_values\": 73,\n        \"samples\": [\n          8.5,\n          1.5,\n          13.25\n        ],\n        \"semantic_type\": \"\",\n        \"description\": \"\"\n      }\n    },\n    {\n      \"column\": \"S\",\n      \"properties\": {\n        \"dtype\": \"number\",\n        \"std\": 26.883046216038853,\n        \"min\": 44.25,\n        \"max\": 170.25,\n        \"num_unique_values\": 151,\n        \"samples\": [\n          51.75,\n          137.25,\n          63.25\n        ],\n        \"semantic_type\": \"\",\n        \"description\": \"\"\n      }\n    },\n    {\n      \"column\": \"V\",\n      \"properties\": {\n        \"dtype\": \"number\",\n        \"std\": 12.886493549233043,\n        \"min\": 123.5,\n        \"max\": 198.5,\n        \"num_unique_values\": 118,\n        \"samples\": [\n          153.5,\n          161.75,\n          167.0\n        ],\n        \"semantic_type\": \"\",\n        \"description\": \"\"\n      }\n    },\n    {\n      \"column\": \"L\",\n      \"properties\": {\n        \"dtype\": \"number\",\n        \"std\": 14.395007089028635,\n        \"min\": 86.0,\n        \"max\": 178.5,\n        \"num_unique_values\": 132,\n        \"samples\": [\n          111.0,\n          145.5,\n          146.75\n        ],\n        \"semantic_type\": \"\",\n        \"description\": \"\"\n      }\n    },\n    {\n      \"column\": \"a\",\n      \"properties\": {\n        \"dtype\": \"number\",\n        \"std\": 2.5176657106004705,\n        \"min\": 136.0,\n        \"max\": 154.25,\n        \"num_unique_values\": 44,\n        \"samples\": [\n          140.0,\n          142.5,\n          144.25\n        ],\n        \"semantic_type\": \"\",\n        \"description\": \"\"\n      }\n    },\n    {\n      \"column\": \"b\",\n      \"properties\": {\n        \"dtype\": \"number\",\n        \"std\": 6.510691181112784,\n        \"min\": 128.25,\n        \"max\": 160.0,\n        \"num_unique_values\": 82,\n        \"samples\": [\n          153.5,\n          145.25,\n          143.25\n        ],\n        \"semantic_type\": \"\",\n        \"description\": \"\"\n      }\n    },\n    {\n      \"column\": \"label\",\n      \"properties\": {\n        \"dtype\": \"number\",\n        \"std\": 0,\n        \"min\": 1,\n        \"max\": 1,\n        \"num_unique_values\": 1,\n        \"samples\": [\n          1\n        ],\n        \"semantic_type\": \"\",\n        \"description\": \"\"\n      }\n    }\n  ]\n}"
            }
          },
          "metadata": {},
          "execution_count": 42
        }
      ]
    },
    {
      "cell_type": "code",
      "source": [
        "X_train_full.shape"
      ],
      "metadata": {
        "colab": {
          "base_uri": "https://localhost:8080/"
        },
        "id": "KvkmUDDAL5W5",
        "outputId": "194abb81-fc3a-45b5-b988-64208e7b9f7c"
      },
      "execution_count": null,
      "outputs": [
        {
          "output_type": "execute_result",
          "data": {
            "text/plain": [
              "(188, 12)"
            ]
          },
          "metadata": {},
          "execution_count": 102
        }
      ]
    },
    {
      "cell_type": "code",
      "source": [
        "y_train_full.shape"
      ],
      "metadata": {
        "colab": {
          "base_uri": "https://localhost:8080/"
        },
        "id": "XobUmot9L7w9",
        "outputId": "9fd852c3-e4ff-49b8-849f-fe543f5f19f9"
      },
      "execution_count": null,
      "outputs": [
        {
          "output_type": "execute_result",
          "data": {
            "text/plain": [
              "(188,)"
            ]
          },
          "metadata": {},
          "execution_count": 51
        }
      ]
    },
    {
      "cell_type": "code",
      "source": [
        "test_size = int(len(X_train_full) * .15)\n",
        "test_size"
      ],
      "metadata": {
        "colab": {
          "base_uri": "https://localhost:8080/"
        },
        "id": "4MbtU8SXL_lj",
        "outputId": "0f958336-ca52-4c26-9d6c-4d3eb85d1054"
      },
      "execution_count": null,
      "outputs": [
        {
          "output_type": "execute_result",
          "data": {
            "text/plain": [
              "28"
            ]
          },
          "metadata": {},
          "execution_count": 54
        }
      ]
    },
    {
      "cell_type": "code",
      "source": [
        "X_train = X_train_full[test_size:].to_numpy()\n",
        "y_train = y_train_full[test_size:].to_numpy()\n",
        "X_test = X_train_full[:test_size].to_numpy()\n",
        "y_test = y_train_full[:test_size].to_numpy()"
      ],
      "metadata": {
        "id": "NrI-afFAMKmU"
      },
      "execution_count": null,
      "outputs": []
    },
    {
      "cell_type": "code",
      "source": [
        "X_train = np.copy(X_train)\n",
        "mean = X_train.mean(axis=0)\n",
        "X_train -= mean\n",
        "std = X_train.std(axis=0)\n",
        "X_train /= std\n",
        "\n",
        "X_test = np.copy(X_test)\n",
        "X_test -= mean\n",
        "X_test /= std"
      ],
      "metadata": {
        "id": "RANGGVruObpn"
      },
      "execution_count": null,
      "outputs": []
    },
    {
      "cell_type": "code",
      "source": [
        "X_train"
      ],
      "metadata": {
        "colab": {
          "base_uri": "https://localhost:8080/"
        },
        "id": "LauqPnptMpLG",
        "outputId": "6022b084-bf84-4d9d-bd44-d9caa30e2c30"
      },
      "execution_count": null,
      "outputs": [
        {
          "output_type": "execute_result",
          "data": {
            "text/plain": [
              "array([[ 0.73652656, -0.96802798,  0.45080635, ..., -1.52068909,\n",
              "        -0.05128309,  0.35778592],\n",
              "       [-0.65113218,  1.23710111,  1.50107896, ...,  1.04877878,\n",
              "        -1.67208205,  1.36754808],\n",
              "       [-0.5443892 ,  1.1554729 ,  0.66703895, ...,  0.20452505,\n",
              "        -0.25388296,  0.59080796],\n",
              "       ...,\n",
              "       [ 0.09606868, -0.02417185, -0.97015071, ..., -0.3460752 ,\n",
              "        -0.76038263, -1.0015093 ],\n",
              "       [-1.50507601,  0.39606108, -1.54162257, ...,  1.15889883,\n",
              "        -0.05128309, -1.54522738],\n",
              "       [ 0.5230406 ,  0.54089991, -0.16700107, ...,  0.05769832,\n",
              "         0.55651652, -0.14709516]])"
            ]
          },
          "metadata": {},
          "execution_count": 67
        }
      ]
    },
    {
      "cell_type": "code",
      "source": [
        "import tensorflow as tf"
      ],
      "metadata": {
        "id": "dyoN5gIRK79S"
      },
      "execution_count": null,
      "outputs": []
    },
    {
      "cell_type": "code",
      "source": [
        "from tensorflow import keras"
      ],
      "metadata": {
        "id": "Cq0KZUCiLs9p"
      },
      "execution_count": null,
      "outputs": []
    },
    {
      "cell_type": "code",
      "source": [
        "from tensorflow.keras import layers"
      ],
      "metadata": {
        "id": "CVRz9b8MLJoP"
      },
      "execution_count": null,
      "outputs": []
    },
    {
      "cell_type": "code",
      "source": [
        "def build_model():\n",
        "    model = keras.models.Sequential()\n",
        "    model.add(layers.Flatten(input_shape=(X_train.shape[1],)))\n",
        "    model.add(layers.Dense(16, activation='relu'))\n",
        "    model.add(layers.Dense(16, activation='relu'))\n",
        "    model.add(layers.Dense(1, activation='sigmoid'))\n",
        "    model.compile(loss='binary_crossentropy', optimizer=keras.optimizers.Adam(), metrics=['accuracy'])\n",
        "    return model"
      ],
      "metadata": {
        "id": "VhCioioYLVoY"
      },
      "execution_count": null,
      "outputs": []
    },
    {
      "cell_type": "code",
      "source": [
        "k = 5\n",
        "n = len(X_train)\n",
        "n_val = n // k\n",
        "num_epochs = 20\n",
        "all_val_losses = []\n",
        "all_train_losses = []\n",
        "all_train_acc = []\n",
        "all_val_acc = []\n",
        "\n",
        "for i in range(k):\n",
        "  print('processing fold #', i)\n",
        "  val_data = X_train[i * n_val: (i + 1) * n_val]\n",
        "  val_targets = y_train[i * n_val: (i + 1) * n_val]\n",
        "  X_train_part = np.concatenate([X_train[:i * n_val], X_train[(i + 1) * n_val:]], axis=0)\n",
        "  y_train_part = np.concatenate([y_train[:i * n_val], y_train[(i + 1) * n_val:]], axis=0)\n",
        "  model = build_model()\n",
        "  history = model.fit(X_train_part, y_train_part, validation_data=(val_data, val_targets),\n",
        "                      epochs=num_epochs)\n",
        "  val_history = history.history['val_loss']\n",
        "  train_history = history.history['loss']\n",
        "  val_acc = history.history['val_accuracy']\n",
        "  train_acc = history.history['accuracy']\n",
        "  all_train_losses.append(train_history)\n",
        "  all_val_losses.append(val_history)\n",
        "  all_train_acc.append(train_acc)\n",
        "  all_val_acc.append(val_acc)"
      ],
      "metadata": {
        "colab": {
          "base_uri": "https://localhost:8080/"
        },
        "id": "uBALUmWRON-G",
        "outputId": "bcdd62b3-0cb9-431a-ab25-11f975cfb959"
      },
      "execution_count": null,
      "outputs": [
        {
          "output_type": "stream",
          "name": "stdout",
          "text": [
            "processing fold # 0\n",
            "Epoch 1/20\n",
            "4/4 [==============================] - 1s 44ms/step - loss: 0.9656 - accuracy: 0.1094 - val_loss: 0.7894 - val_accuracy: 0.2500\n",
            "Epoch 2/20\n",
            "4/4 [==============================] - 0s 8ms/step - loss: 0.9038 - accuracy: 0.1641 - val_loss: 0.7448 - val_accuracy: 0.4062\n",
            "Epoch 3/20\n",
            "4/4 [==============================] - 0s 8ms/step - loss: 0.8477 - accuracy: 0.2891 - val_loss: 0.7057 - val_accuracy: 0.5000\n",
            "Epoch 4/20\n",
            "4/4 [==============================] - 0s 8ms/step - loss: 0.7947 - accuracy: 0.3984 - val_loss: 0.6701 - val_accuracy: 0.6562\n",
            "Epoch 5/20\n",
            "4/4 [==============================] - 0s 9ms/step - loss: 0.7476 - accuracy: 0.4844 - val_loss: 0.6400 - val_accuracy: 0.7500\n",
            "Epoch 6/20\n",
            "4/4 [==============================] - 0s 9ms/step - loss: 0.7020 - accuracy: 0.5547 - val_loss: 0.6118 - val_accuracy: 0.8750\n",
            "Epoch 7/20\n",
            "4/4 [==============================] - 0s 8ms/step - loss: 0.6612 - accuracy: 0.6250 - val_loss: 0.5843 - val_accuracy: 0.9688\n",
            "Epoch 8/20\n",
            "4/4 [==============================] - 0s 10ms/step - loss: 0.6238 - accuracy: 0.7188 - val_loss: 0.5584 - val_accuracy: 0.9688\n",
            "Epoch 9/20\n",
            "4/4 [==============================] - 0s 9ms/step - loss: 0.5894 - accuracy: 0.7422 - val_loss: 0.5335 - val_accuracy: 0.9688\n",
            "Epoch 10/20\n",
            "4/4 [==============================] - 0s 8ms/step - loss: 0.5564 - accuracy: 0.7891 - val_loss: 0.5099 - val_accuracy: 0.9688\n",
            "Epoch 11/20\n",
            "4/4 [==============================] - 0s 10ms/step - loss: 0.5258 - accuracy: 0.8125 - val_loss: 0.4863 - val_accuracy: 1.0000\n",
            "Epoch 12/20\n",
            "4/4 [==============================] - 0s 8ms/step - loss: 0.4966 - accuracy: 0.8594 - val_loss: 0.4633 - val_accuracy: 1.0000\n",
            "Epoch 13/20\n",
            "4/4 [==============================] - 0s 8ms/step - loss: 0.4691 - accuracy: 0.8828 - val_loss: 0.4401 - val_accuracy: 1.0000\n",
            "Epoch 14/20\n",
            "4/4 [==============================] - 0s 7ms/step - loss: 0.4427 - accuracy: 0.9219 - val_loss: 0.4174 - val_accuracy: 1.0000\n",
            "Epoch 15/20\n",
            "4/4 [==============================] - 0s 8ms/step - loss: 0.4167 - accuracy: 0.9219 - val_loss: 0.3949 - val_accuracy: 1.0000\n",
            "Epoch 16/20\n",
            "4/4 [==============================] - 0s 8ms/step - loss: 0.3915 - accuracy: 0.9453 - val_loss: 0.3729 - val_accuracy: 1.0000\n",
            "Epoch 17/20\n",
            "4/4 [==============================] - 0s 8ms/step - loss: 0.3689 - accuracy: 0.9688 - val_loss: 0.3509 - val_accuracy: 1.0000\n",
            "Epoch 18/20\n",
            "4/4 [==============================] - 0s 8ms/step - loss: 0.3461 - accuracy: 0.9766 - val_loss: 0.3300 - val_accuracy: 1.0000\n",
            "Epoch 19/20\n",
            "4/4 [==============================] - 0s 8ms/step - loss: 0.3246 - accuracy: 0.9844 - val_loss: 0.3098 - val_accuracy: 1.0000\n",
            "Epoch 20/20\n",
            "4/4 [==============================] - 0s 8ms/step - loss: 0.3045 - accuracy: 0.9844 - val_loss: 0.2907 - val_accuracy: 1.0000\n",
            "processing fold # 1\n",
            "Epoch 1/20\n",
            "4/4 [==============================] - 1s 46ms/step - loss: 0.6004 - accuracy: 0.7891 - val_loss: 0.6466 - val_accuracy: 0.6250\n",
            "Epoch 2/20\n",
            "4/4 [==============================] - 0s 9ms/step - loss: 0.5628 - accuracy: 0.8750 - val_loss: 0.5985 - val_accuracy: 0.7188\n",
            "Epoch 3/20\n",
            "4/4 [==============================] - 0s 9ms/step - loss: 0.5279 - accuracy: 0.9219 - val_loss: 0.5520 - val_accuracy: 0.7812\n",
            "Epoch 4/20\n",
            "4/4 [==============================] - 0s 9ms/step - loss: 0.4942 - accuracy: 0.9609 - val_loss: 0.5086 - val_accuracy: 0.9375\n",
            "Epoch 5/20\n",
            "4/4 [==============================] - 0s 9ms/step - loss: 0.4618 - accuracy: 0.9844 - val_loss: 0.4685 - val_accuracy: 1.0000\n",
            "Epoch 6/20\n",
            "4/4 [==============================] - 0s 9ms/step - loss: 0.4314 - accuracy: 1.0000 - val_loss: 0.4306 - val_accuracy: 1.0000\n",
            "Epoch 7/20\n",
            "4/4 [==============================] - 0s 8ms/step - loss: 0.4019 - accuracy: 1.0000 - val_loss: 0.3954 - val_accuracy: 1.0000\n",
            "Epoch 8/20\n",
            "4/4 [==============================] - 0s 8ms/step - loss: 0.3735 - accuracy: 1.0000 - val_loss: 0.3629 - val_accuracy: 1.0000\n",
            "Epoch 9/20\n",
            "4/4 [==============================] - 0s 8ms/step - loss: 0.3469 - accuracy: 1.0000 - val_loss: 0.3316 - val_accuracy: 1.0000\n",
            "Epoch 10/20\n",
            "4/4 [==============================] - 0s 8ms/step - loss: 0.3210 - accuracy: 1.0000 - val_loss: 0.3030 - val_accuracy: 1.0000\n",
            "Epoch 11/20\n",
            "4/4 [==============================] - 0s 8ms/step - loss: 0.2973 - accuracy: 1.0000 - val_loss: 0.2767 - val_accuracy: 1.0000\n",
            "Epoch 12/20\n",
            "4/4 [==============================] - 0s 9ms/step - loss: 0.2749 - accuracy: 1.0000 - val_loss: 0.2527 - val_accuracy: 1.0000\n",
            "Epoch 13/20\n",
            "4/4 [==============================] - 0s 10ms/step - loss: 0.2532 - accuracy: 1.0000 - val_loss: 0.2308 - val_accuracy: 1.0000\n",
            "Epoch 14/20\n",
            "4/4 [==============================] - 0s 8ms/step - loss: 0.2340 - accuracy: 1.0000 - val_loss: 0.2111 - val_accuracy: 1.0000\n",
            "Epoch 15/20\n",
            "4/4 [==============================] - 0s 8ms/step - loss: 0.2155 - accuracy: 1.0000 - val_loss: 0.1934 - val_accuracy: 1.0000\n",
            "Epoch 16/20\n",
            "4/4 [==============================] - 0s 13ms/step - loss: 0.1986 - accuracy: 1.0000 - val_loss: 0.1774 - val_accuracy: 1.0000\n",
            "Epoch 17/20\n",
            "4/4 [==============================] - 0s 9ms/step - loss: 0.1827 - accuracy: 1.0000 - val_loss: 0.1625 - val_accuracy: 1.0000\n",
            "Epoch 18/20\n",
            "4/4 [==============================] - 0s 8ms/step - loss: 0.1688 - accuracy: 1.0000 - val_loss: 0.1489 - val_accuracy: 1.0000\n",
            "Epoch 19/20\n",
            "4/4 [==============================] - 0s 8ms/step - loss: 0.1550 - accuracy: 1.0000 - val_loss: 0.1363 - val_accuracy: 1.0000\n",
            "Epoch 20/20\n",
            "4/4 [==============================] - 0s 8ms/step - loss: 0.1419 - accuracy: 1.0000 - val_loss: 0.1250 - val_accuracy: 1.0000\n",
            "processing fold # 2\n",
            "Epoch 1/20\n",
            "4/4 [==============================] - 1s 49ms/step - loss: 0.8677 - accuracy: 0.1406 - val_loss: 0.7278 - val_accuracy: 0.4688\n",
            "Epoch 2/20\n",
            "4/4 [==============================] - 0s 9ms/step - loss: 0.7979 - accuracy: 0.3438 - val_loss: 0.6953 - val_accuracy: 0.5625\n",
            "Epoch 3/20\n",
            "4/4 [==============================] - 0s 8ms/step - loss: 0.7327 - accuracy: 0.5156 - val_loss: 0.6643 - val_accuracy: 0.5938\n",
            "Epoch 4/20\n",
            "4/4 [==============================] - 0s 9ms/step - loss: 0.6727 - accuracy: 0.6641 - val_loss: 0.6349 - val_accuracy: 0.7812\n",
            "Epoch 5/20\n",
            "4/4 [==============================] - 0s 8ms/step - loss: 0.6185 - accuracy: 0.8047 - val_loss: 0.6071 - val_accuracy: 0.8438\n",
            "Epoch 6/20\n",
            "4/4 [==============================] - 0s 8ms/step - loss: 0.5717 - accuracy: 0.8750 - val_loss: 0.5805 - val_accuracy: 0.8750\n",
            "Epoch 7/20\n",
            "4/4 [==============================] - 0s 8ms/step - loss: 0.5310 - accuracy: 0.9453 - val_loss: 0.5556 - val_accuracy: 0.9062\n",
            "Epoch 8/20\n",
            "4/4 [==============================] - 0s 9ms/step - loss: 0.4941 - accuracy: 0.9609 - val_loss: 0.5324 - val_accuracy: 0.9062\n",
            "Epoch 9/20\n",
            "4/4 [==============================] - 0s 8ms/step - loss: 0.4612 - accuracy: 0.9688 - val_loss: 0.5104 - val_accuracy: 0.9375\n",
            "Epoch 10/20\n",
            "4/4 [==============================] - 0s 8ms/step - loss: 0.4313 - accuracy: 1.0000 - val_loss: 0.4890 - val_accuracy: 0.9688\n",
            "Epoch 11/20\n",
            "4/4 [==============================] - 0s 9ms/step - loss: 0.4042 - accuracy: 1.0000 - val_loss: 0.4678 - val_accuracy: 1.0000\n",
            "Epoch 12/20\n",
            "4/4 [==============================] - 0s 9ms/step - loss: 0.3797 - accuracy: 1.0000 - val_loss: 0.4469 - val_accuracy: 1.0000\n",
            "Epoch 13/20\n",
            "4/4 [==============================] - 0s 8ms/step - loss: 0.3578 - accuracy: 1.0000 - val_loss: 0.4264 - val_accuracy: 1.0000\n",
            "Epoch 14/20\n",
            "4/4 [==============================] - 0s 17ms/step - loss: 0.3376 - accuracy: 1.0000 - val_loss: 0.4064 - val_accuracy: 1.0000\n",
            "Epoch 15/20\n",
            "4/4 [==============================] - 0s 9ms/step - loss: 0.3183 - accuracy: 1.0000 - val_loss: 0.3870 - val_accuracy: 1.0000\n",
            "Epoch 16/20\n",
            "4/4 [==============================] - 0s 9ms/step - loss: 0.3003 - accuracy: 1.0000 - val_loss: 0.3679 - val_accuracy: 1.0000\n",
            "Epoch 17/20\n",
            "4/4 [==============================] - 0s 9ms/step - loss: 0.2833 - accuracy: 1.0000 - val_loss: 0.3493 - val_accuracy: 1.0000\n",
            "Epoch 18/20\n",
            "4/4 [==============================] - 0s 9ms/step - loss: 0.2669 - accuracy: 1.0000 - val_loss: 0.3311 - val_accuracy: 1.0000\n",
            "Epoch 19/20\n",
            "4/4 [==============================] - 0s 9ms/step - loss: 0.2519 - accuracy: 1.0000 - val_loss: 0.3133 - val_accuracy: 1.0000\n",
            "Epoch 20/20\n",
            "4/4 [==============================] - 0s 9ms/step - loss: 0.2372 - accuracy: 1.0000 - val_loss: 0.2961 - val_accuracy: 1.0000\n",
            "processing fold # 3\n",
            "Epoch 1/20\n",
            "4/4 [==============================] - 1s 46ms/step - loss: 0.7640 - accuracy: 0.3828 - val_loss: 0.6763 - val_accuracy: 0.5938\n",
            "Epoch 2/20\n",
            "4/4 [==============================] - 0s 10ms/step - loss: 0.7155 - accuracy: 0.5625 - val_loss: 0.6458 - val_accuracy: 0.8438\n",
            "Epoch 3/20\n",
            "4/4 [==============================] - 0s 10ms/step - loss: 0.6686 - accuracy: 0.6875 - val_loss: 0.6172 - val_accuracy: 0.8750\n",
            "Epoch 4/20\n",
            "4/4 [==============================] - 0s 8ms/step - loss: 0.6266 - accuracy: 0.8281 - val_loss: 0.5897 - val_accuracy: 0.9375\n",
            "Epoch 5/20\n",
            "4/4 [==============================] - 0s 8ms/step - loss: 0.5897 - accuracy: 0.9062 - val_loss: 0.5644 - val_accuracy: 0.9375\n",
            "Epoch 6/20\n",
            "4/4 [==============================] - 0s 8ms/step - loss: 0.5545 - accuracy: 0.9609 - val_loss: 0.5400 - val_accuracy: 0.9688\n",
            "Epoch 7/20\n",
            "4/4 [==============================] - 0s 14ms/step - loss: 0.5231 - accuracy: 0.9844 - val_loss: 0.5158 - val_accuracy: 1.0000\n",
            "Epoch 8/20\n",
            "4/4 [==============================] - 0s 15ms/step - loss: 0.4934 - accuracy: 1.0000 - val_loss: 0.4918 - val_accuracy: 1.0000\n",
            "Epoch 9/20\n",
            "4/4 [==============================] - 0s 9ms/step - loss: 0.4656 - accuracy: 1.0000 - val_loss: 0.4676 - val_accuracy: 1.0000\n",
            "Epoch 10/20\n",
            "4/4 [==============================] - 0s 9ms/step - loss: 0.4395 - accuracy: 1.0000 - val_loss: 0.4441 - val_accuracy: 1.0000\n",
            "Epoch 11/20\n",
            "4/4 [==============================] - 0s 9ms/step - loss: 0.4143 - accuracy: 1.0000 - val_loss: 0.4210 - val_accuracy: 1.0000\n",
            "Epoch 12/20\n",
            "4/4 [==============================] - 0s 8ms/step - loss: 0.3906 - accuracy: 1.0000 - val_loss: 0.3985 - val_accuracy: 1.0000\n",
            "Epoch 13/20\n",
            "4/4 [==============================] - 0s 8ms/step - loss: 0.3680 - accuracy: 1.0000 - val_loss: 0.3766 - val_accuracy: 1.0000\n",
            "Epoch 14/20\n",
            "4/4 [==============================] - 0s 8ms/step - loss: 0.3460 - accuracy: 1.0000 - val_loss: 0.3551 - val_accuracy: 1.0000\n",
            "Epoch 15/20\n",
            "4/4 [==============================] - 0s 7ms/step - loss: 0.3247 - accuracy: 1.0000 - val_loss: 0.3341 - val_accuracy: 1.0000\n",
            "Epoch 16/20\n",
            "4/4 [==============================] - 0s 12ms/step - loss: 0.3045 - accuracy: 1.0000 - val_loss: 0.3132 - val_accuracy: 1.0000\n",
            "Epoch 17/20\n",
            "4/4 [==============================] - 0s 20ms/step - loss: 0.2844 - accuracy: 1.0000 - val_loss: 0.2929 - val_accuracy: 1.0000\n",
            "Epoch 18/20\n",
            "4/4 [==============================] - 0s 18ms/step - loss: 0.2655 - accuracy: 1.0000 - val_loss: 0.2735 - val_accuracy: 1.0000\n",
            "Epoch 19/20\n",
            "4/4 [==============================] - 0s 20ms/step - loss: 0.2474 - accuracy: 1.0000 - val_loss: 0.2547 - val_accuracy: 1.0000\n",
            "Epoch 20/20\n",
            "4/4 [==============================] - 0s 13ms/step - loss: 0.2300 - accuracy: 1.0000 - val_loss: 0.2367 - val_accuracy: 1.0000\n",
            "processing fold # 4\n",
            "Epoch 1/20\n",
            "4/4 [==============================] - 1s 76ms/step - loss: 0.7392 - accuracy: 0.4688 - val_loss: 0.6148 - val_accuracy: 0.7500\n",
            "Epoch 2/20\n",
            "4/4 [==============================] - 0s 10ms/step - loss: 0.6632 - accuracy: 0.5859 - val_loss: 0.5736 - val_accuracy: 0.8125\n",
            "Epoch 3/20\n",
            "4/4 [==============================] - 0s 9ms/step - loss: 0.5985 - accuracy: 0.7188 - val_loss: 0.5345 - val_accuracy: 0.8750\n",
            "Epoch 4/20\n",
            "4/4 [==============================] - 0s 8ms/step - loss: 0.5418 - accuracy: 0.7891 - val_loss: 0.4975 - val_accuracy: 0.9062\n",
            "Epoch 5/20\n",
            "4/4 [==============================] - 0s 9ms/step - loss: 0.4904 - accuracy: 0.8672 - val_loss: 0.4630 - val_accuracy: 0.9375\n",
            "Epoch 6/20\n",
            "4/4 [==============================] - 0s 9ms/step - loss: 0.4453 - accuracy: 0.9375 - val_loss: 0.4306 - val_accuracy: 0.9688\n",
            "Epoch 7/20\n",
            "4/4 [==============================] - 0s 10ms/step - loss: 0.4075 - accuracy: 0.9375 - val_loss: 0.4001 - val_accuracy: 1.0000\n",
            "Epoch 8/20\n",
            "4/4 [==============================] - 0s 9ms/step - loss: 0.3749 - accuracy: 0.9453 - val_loss: 0.3721 - val_accuracy: 1.0000\n",
            "Epoch 9/20\n",
            "4/4 [==============================] - 0s 8ms/step - loss: 0.3463 - accuracy: 0.9688 - val_loss: 0.3455 - val_accuracy: 1.0000\n",
            "Epoch 10/20\n",
            "4/4 [==============================] - 0s 8ms/step - loss: 0.3204 - accuracy: 0.9688 - val_loss: 0.3207 - val_accuracy: 1.0000\n",
            "Epoch 11/20\n",
            "4/4 [==============================] - 0s 8ms/step - loss: 0.2975 - accuracy: 0.9766 - val_loss: 0.2971 - val_accuracy: 1.0000\n",
            "Epoch 12/20\n",
            "4/4 [==============================] - 0s 8ms/step - loss: 0.2772 - accuracy: 0.9844 - val_loss: 0.2755 - val_accuracy: 1.0000\n",
            "Epoch 13/20\n",
            "4/4 [==============================] - 0s 9ms/step - loss: 0.2583 - accuracy: 1.0000 - val_loss: 0.2553 - val_accuracy: 1.0000\n",
            "Epoch 14/20\n",
            "4/4 [==============================] - 0s 9ms/step - loss: 0.2411 - accuracy: 1.0000 - val_loss: 0.2366 - val_accuracy: 1.0000\n",
            "Epoch 15/20\n",
            "4/4 [==============================] - 0s 14ms/step - loss: 0.2251 - accuracy: 1.0000 - val_loss: 0.2198 - val_accuracy: 1.0000\n",
            "Epoch 16/20\n",
            "4/4 [==============================] - 0s 8ms/step - loss: 0.2110 - accuracy: 1.0000 - val_loss: 0.2040 - val_accuracy: 1.0000\n",
            "Epoch 17/20\n",
            "4/4 [==============================] - 0s 9ms/step - loss: 0.1976 - accuracy: 1.0000 - val_loss: 0.1894 - val_accuracy: 1.0000\n",
            "Epoch 18/20\n",
            "4/4 [==============================] - 0s 9ms/step - loss: 0.1853 - accuracy: 1.0000 - val_loss: 0.1759 - val_accuracy: 1.0000\n",
            "Epoch 19/20\n",
            "4/4 [==============================] - 0s 8ms/step - loss: 0.1736 - accuracy: 1.0000 - val_loss: 0.1632 - val_accuracy: 1.0000\n",
            "Epoch 20/20\n",
            "4/4 [==============================] - 0s 8ms/step - loss: 0.1625 - accuracy: 1.0000 - val_loss: 0.1516 - val_accuracy: 1.0000\n"
          ]
        }
      ]
    },
    {
      "cell_type": "code",
      "source": [
        "avg_val_loss = [np.mean([x[i] for x in all_val_losses]) for i in range(num_epochs)]\n",
        "avg_train_loss = [np.mean([x[i] for x in all_train_losses]) for i in range(num_epochs)]\n",
        "avg_val_acc = [np.mean([x[i] for x in all_val_acc]) for i in range(num_epochs)]\n",
        "avg_train_acc = [np.mean([x[i] for x in all_train_acc]) for i in range(num_epochs)]"
      ],
      "metadata": {
        "id": "b4DEmmHGPgqf"
      },
      "execution_count": null,
      "outputs": []
    },
    {
      "cell_type": "code",
      "source": [
        "plt.figure(figsize=(5, 3))\n",
        "plt.plot(range(1, len(avg_train_acc) + 1), avg_train_acc)\n",
        "plt.plot(range(1, len(avg_val_acc) + 1), avg_val_acc)\n",
        "plt.xlabel('Epochs')\n",
        "plt.ylabel('Accuracy')\n",
        "plt.title('Accuracy Warm/Cool')\n",
        "plt.legend(['Training', 'Validation'])\n",
        "plt.show()"
      ],
      "metadata": {
        "colab": {
          "base_uri": "https://localhost:8080/",
          "height": 333
        },
        "id": "qLke0yRJRaJT",
        "outputId": "9e38ae45-7915-4cdc-c59a-a480d487c3b7"
      },
      "execution_count": null,
      "outputs": [
        {
          "output_type": "display_data",
          "data": {
            "text/plain": [
              "<Figure size 500x300 with 1 Axes>"
            ],
            "image/png": "[encoded data removed]"
          },
          "metadata": {}
        }
      ]
    },
    {
      "cell_type": "code",
      "source": [
        "plt.figure(figsize=(5, 3))\n",
        "plt.plot(range(1, len(avg_train_loss) + 1), avg_train_loss)\n",
        "plt.plot(range(1, len(avg_val_loss)+ 1), avg_val_loss)\n",
        "plt.xlabel('Epochs')\n",
        "plt.ylabel('Loss')\n",
        "plt.title('Loss Warm/Cool')\n",
        "plt.legend(['Training', 'Validation'])\n",
        "plt.show()"
      ],
      "metadata": {
        "colab": {
          "base_uri": "https://localhost:8080/",
          "height": 333
        },
        "id": "RXFQreBMTFtv",
        "outputId": "9a449dd0-a6dd-48a0-b34c-6f04f0c8990b"
      },
      "execution_count": null,
      "outputs": [
        {
          "output_type": "display_data",
          "data": {
            "text/plain": [
              "<Figure size 500x300 with 1 Axes>"
            ],
            "image/png": "[encoded data removed]"
          },
          "metadata": {}
        }
      ]
    },
    {
      "cell_type": "code",
      "source": [
        "model = build_model()\n",
        "model.fit(X_train, y_train, epochs=10, verbose=0)\n",
        "test_acc, test_loss = model.evaluate(X_test, y_test)"
      ],
      "metadata": {
        "colab": {
          "base_uri": "https://localhost:8080/"
        },
        "id": "ufYeOnd2Tfsv",
        "outputId": "25efed68-f513-46b1-df94-2d45a89a417d"
      },
      "execution_count": null,
      "outputs": [
        {
          "output_type": "stream",
          "name": "stdout",
          "text": [
            "1/1 [==============================] - 0s 108ms/step - loss: 0.3373 - accuracy: 1.0000\n"
          ]
        }
      ]
    },
    {
      "cell_type": "code",
      "source": [
        "warm_ = warm.copy()\n",
        "warm_['label'] = warm_['label'].apply(lambda x: 0 if x == 'spring' else 1)\n",
        "cool_ = cool.copy()\n",
        "cool_['label'] = cool_['label'].apply(lambda x:  0 if x == 'summer' else 1)"
      ],
      "metadata": {
        "id": "_zMqpi9zUcUB"
      },
      "execution_count": null,
      "outputs": []
    },
    {
      "cell_type": "markdown",
      "source": [
        "### warm only"
      ],
      "metadata": {
        "id": "y2b6XPKpazlE"
      }
    },
    {
      "cell_type": "code",
      "source": [
        "warm_.sample(frac=1, random_state=42).reset_index(drop=True)\n",
        "X_train_full = warm_.iloc[:, :-1]\n",
        "y_train_full = warm_['label']"
      ],
      "metadata": {
        "id": "0c28W-e0a01b"
      },
      "execution_count": null,
      "outputs": []
    },
    {
      "cell_type": "code",
      "source": [
        "warm_.head()"
      ],
      "metadata": {
        "colab": {
          "base_uri": "https://localhost:8080/",
          "height": 206
        },
        "id": "72DWgzljVJ3q",
        "outputId": "d5423c56-b170-49fa-d209-abb69421d929"
      },
      "execution_count": null,
      "outputs": [
        {
          "output_type": "execute_result",
          "data": {
            "text/plain": [
              "       lips_s  face_l_var  skin_avg_b           R           G           B  \\\n",
              "0  151.666667    0.000008       145.8  112.914310  133.965925  175.651445   \n",
              "1  150.000000    0.000025       146.3  126.187999  147.715856  191.952797   \n",
              "2  154.000000    0.000012       141.8  112.976115  125.444865  172.908069   \n",
              "3  152.333333    0.000009       145.1  105.951249  125.220850  170.398417   \n",
              "4  151.666667    0.000015       145.2  108.123511  128.183753  173.363279   \n",
              "\n",
              "      H       S       V       L       a       b  label  \n",
              "0  9.75  105.75  165.50  139.25  141.50  145.25      1  \n",
              "1  8.25   99.50  181.00  152.50  142.75  144.50      0  \n",
              "2  5.25  107.25  157.75  127.75  144.50  140.50      0  \n",
              "3  8.75  115.50  163.75  134.25  143.00  145.00      1  \n",
              "4  8.50  115.75  167.00  136.25  143.50  145.25      0  "
            ],
            "text/html": [
              "\n",
              "  <div id=\"df-48ec310f-8d25-468e-890d-75a9ed48ea69\" class=\"colab-df-container\">\n",
              "    <div>\n",
              "<style scoped>\n",
              "    .dataframe tbody tr th:only-of-type {\n",
              "        vertical-align: middle;\n",
              "    }\n",
              "\n",
              "    .dataframe tbody tr th {\n",
              "        vertical-align: top;\n",
              "    }\n",
              "\n",
              "    .dataframe thead th {\n",
              "        text-align: right;\n",
              "    }\n",
              "</style>\n",
              "<table border=\"1\" class=\"dataframe\">\n",
              "  <thead>\n",
              "    <tr style=\"text-align: right;\">\n",
              "      <th></th>\n",
              "      <th>lips_s</th>\n",
              "      <th>face_l_var</th>\n",
              "      <th>skin_avg_b</th>\n",
              "      <th>R</th>\n",
              "      <th>G</th>\n",
              "      <th>B</th>\n",
              "      <th>H</th>\n",
              "      <th>S</th>\n",
              "      <th>V</th>\n",
              "      <th>L</th>\n",
              "      <th>a</th>\n",
              "      <th>b</th>\n",
              "      <th>label</th>\n",
              "    </tr>\n",
              "  </thead>\n",
              "  <tbody>\n",
              "    <tr>\n",
              "      <th>0</th>\n",
              "      <td>151.666667</td>\n",
              "      <td>0.000008</td>\n",
              "      <td>145.8</td>\n",
              "      <td>112.914310</td>\n",
              "      <td>133.965925</td>\n",
              "      <td>175.651445</td>\n",
              "      <td>9.75</td>\n",
              "      <td>105.75</td>\n",
              "      <td>165.50</td>\n",
              "      <td>139.25</td>\n",
              "      <td>141.50</td>\n",
              "      <td>145.25</td>\n",
              "      <td>1</td>\n",
              "    </tr>\n",
              "    <tr>\n",
              "      <th>1</th>\n",
              "      <td>150.000000</td>\n",
              "      <td>0.000025</td>\n",
              "      <td>146.3</td>\n",
              "      <td>126.187999</td>\n",
              "      <td>147.715856</td>\n",
              "      <td>191.952797</td>\n",
              "      <td>8.25</td>\n",
              "      <td>99.50</td>\n",
              "      <td>181.00</td>\n",
              "      <td>152.50</td>\n",
              "      <td>142.75</td>\n",
              "      <td>144.50</td>\n",
              "      <td>0</td>\n",
              "    </tr>\n",
              "    <tr>\n",
              "      <th>2</th>\n",
              "      <td>154.000000</td>\n",
              "      <td>0.000012</td>\n",
              "      <td>141.8</td>\n",
              "      <td>112.976115</td>\n",
              "      <td>125.444865</td>\n",
              "      <td>172.908069</td>\n",
              "      <td>5.25</td>\n",
              "      <td>107.25</td>\n",
              "      <td>157.75</td>\n",
              "      <td>127.75</td>\n",
              "      <td>144.50</td>\n",
              "      <td>140.50</td>\n",
              "      <td>0</td>\n",
              "    </tr>\n",
              "    <tr>\n",
              "      <th>3</th>\n",
              "      <td>152.333333</td>\n",
              "      <td>0.000009</td>\n",
              "      <td>145.1</td>\n",
              "      <td>105.951249</td>\n",
              "      <td>125.220850</td>\n",
              "      <td>170.398417</td>\n",
              "      <td>8.75</td>\n",
              "      <td>115.50</td>\n",
              "      <td>163.75</td>\n",
              "      <td>134.25</td>\n",
              "      <td>143.00</td>\n",
              "      <td>145.00</td>\n",
              "      <td>1</td>\n",
              "    </tr>\n",
              "    <tr>\n",
              "      <th>4</th>\n",
              "      <td>151.666667</td>\n",
              "      <td>0.000015</td>\n",
              "      <td>145.2</td>\n",
              "      <td>108.123511</td>\n",
              "      <td>128.183753</td>\n",
              "      <td>173.363279</td>\n",
              "      <td>8.50</td>\n",
              "      <td>115.75</td>\n",
              "      <td>167.00</td>\n",
              "      <td>136.25</td>\n",
              "      <td>143.50</td>\n",
              "      <td>145.25</td>\n",
              "      <td>0</td>\n",
              "    </tr>\n",
              "  </tbody>\n",
              "</table>\n",
              "</div>\n",
              "    <div class=\"colab-df-buttons\">\n",
              "\n",
              "  <div class=\"colab-df-container\">\n",
              "    <button class=\"colab-df-convert\" onclick=\"convertToInteractive('df-48ec310f-8d25-468e-890d-75a9ed48ea69')\"\n",
              "            title=\"Convert this dataframe to an interactive table.\"\n",
              "            style=\"display:none;\">\n",
              "\n",
              "  <svg xmlns=\"http://www.w3.org/2000/svg\" height=\"24px\" viewBox=\"0 -960 960 960\">\n",
              "    <path d=\"M120-120v-720h720v720H120Zm60-500h600v-160H180v160Zm220 220h160v-160H400v160Zm0 220h160v-160H400v160ZM180-400h160v-160H180v160Zm440 0h160v-160H620v160ZM180-180h160v-160H180v160Zm440 0h160v-160H620v160Z\"/>\n",
              "  </svg>\n",
              "    </button>\n",
              "\n",
              "  <style>\n",
              "    .colab-df-container {\n",
              "      display:flex;\n",
              "      gap: 12px;\n",
              "    }\n",
              "\n",
              "    .colab-df-convert {\n",
              "      background-color: #E8F0FE;\n",
              "      border: none;\n",
              "      border-radius: 50%;\n",
              "      cursor: pointer;\n",
              "      display: none;\n",
              "      fill: #1967D2;\n",
              "      height: 32px;\n",
              "      padding: 0 0 0 0;\n",
              "      width: 32px;\n",
              "    }\n",
              "\n",
              "    .colab-df-convert:hover {\n",
              "      background-color: #E2EBFA;\n",
              "      box-shadow: 0px 1px 2px rgba(60, 64, 67, 0.3), 0px 1px 3px 1px rgba(60, 64, 67, 0.15);\n",
              "      fill: #174EA6;\n",
              "    }\n",
              "\n",
              "    .colab-df-buttons div {\n",
              "      margin-bottom: 4px;\n",
              "    }\n",
              "\n",
              "    [theme=dark] .colab-df-convert {\n",
              "      background-color: #3B4455;\n",
              "      fill: #D2E3FC;\n",
              "    }\n",
              "\n",
              "    [theme=dark] .colab-df-convert:hover {\n",
              "      background-color: #434B5C;\n",
              "      box-shadow: 0px 1px 3px 1px rgba(0, 0, 0, 0.15);\n",
              "      filter: drop-shadow(0px 1px 2px rgba(0, 0, 0, 0.3));\n",
              "      fill: #FFFFFF;\n",
              "    }\n",
              "  </style>\n",
              "\n",
              "    <script>\n",
              "      const buttonEl =\n",
              "        document.querySelector('#df-48ec310f-8d25-468e-890d-75a9ed48ea69 button.colab-df-convert');\n",
              "      buttonEl.style.display =\n",
              "        google.colab.kernel.accessAllowed ? 'block' : 'none';\n",
              "\n",
              "      async function convertToInteractive(key) {\n",
              "        const element = document.querySelector('#df-48ec310f-8d25-468e-890d-75a9ed48ea69');\n",
              "        const dataTable =\n",
              "          await google.colab.kernel.invokeFunction('convertToInteractive',\n",
              "                                                    [key], {});\n",
              "        if (!dataTable) return;\n",
              "\n",
              "        const docLinkHtml = 'Like what you see? Visit the ' +\n",
              "          '<a target=\"_blank\" href=https://colab.research.google.com/notebooks/data_table.ipynb>data table notebook</a>'\n",
              "          + ' to learn more about interactive tables.';\n",
              "        element.innerHTML = '';\n",
              "        dataTable['output_type'] = 'display_data';\n",
              "        await google.colab.output.renderOutput(dataTable, element);\n",
              "        const docLink = document.createElement('div');\n",
              "        docLink.innerHTML = docLinkHtml;\n",
              "        element.appendChild(docLink);\n",
              "      }\n",
              "    </script>\n",
              "  </div>\n",
              "\n",
              "\n",
              "<div id=\"df-f8efdde3-a878-4ad4-a42e-b7f1ee2961f6\">\n",
              "  <button class=\"colab-df-quickchart\" onclick=\"quickchart('df-f8efdde3-a878-4ad4-a42e-b7f1ee2961f6')\"\n",
              "            title=\"Suggest charts\"\n",
              "            style=\"display:none;\">\n",
              "\n",
              "<svg xmlns=\"http://www.w3.org/2000/svg\" height=\"24px\"viewBox=\"0 0 24 24\"\n",
              "     width=\"24px\">\n",
              "    <g>\n",
              "        <path d=\"M19 3H5c-1.1 0-2 .9-2 2v14c0 1.1.9 2 2 2h14c1.1 0 2-.9 2-2V5c0-1.1-.9-2-2-2zM9 17H7v-7h2v7zm4 0h-2V7h2v10zm4 0h-2v-4h2v4z\"/>\n",
              "    </g>\n",
              "</svg>\n",
              "  </button>\n",
              "\n",
              "<style>\n",
              "  .colab-df-quickchart {\n",
              "      --bg-color: #E8F0FE;\n",
              "      --fill-color: #1967D2;\n",
              "      --hover-bg-color: #E2EBFA;\n",
              "      --hover-fill-color: #174EA6;\n",
              "      --disabled-fill-color: #AAA;\n",
              "      --disabled-bg-color: #DDD;\n",
              "  }\n",
              "\n",
              "  [theme=dark] .colab-df-quickchart {\n",
              "      --bg-color: #3B4455;\n",
              "      --fill-color: #D2E3FC;\n",
              "      --hover-bg-color: #434B5C;\n",
              "      --hover-fill-color: #FFFFFF;\n",
              "      --disabled-bg-color: #3B4455;\n",
              "      --disabled-fill-color: #666;\n",
              "  }\n",
              "\n",
              "  .colab-df-quickchart {\n",
              "    background-color: var(--bg-color);\n",
              "    border: none;\n",
              "    border-radius: 50%;\n",
              "    cursor: pointer;\n",
              "    display: none;\n",
              "    fill: var(--fill-color);\n",
              "    height: 32px;\n",
              "    padding: 0;\n",
              "    width: 32px;\n",
              "  }\n",
              "\n",
              "  .colab-df-quickchart:hover {\n",
              "    background-color: var(--hover-bg-color);\n",
              "    box-shadow: 0 1px 2px rgba(60, 64, 67, 0.3), 0 1px 3px 1px rgba(60, 64, 67, 0.15);\n",
              "    fill: var(--button-hover-fill-color);\n",
              "  }\n",
              "\n",
              "  .colab-df-quickchart-complete:disabled,\n",
              "  .colab-df-quickchart-complete:disabled:hover {\n",
              "    background-color: var(--disabled-bg-color);\n",
              "    fill: var(--disabled-fill-color);\n",
              "    box-shadow: none;\n",
              "  }\n",
              "\n",
              "  .colab-df-spinner {\n",
              "    border: 2px solid var(--fill-color);\n",
              "    border-color: transparent;\n",
              "    border-bottom-color: var(--fill-color);\n",
              "    animation:\n",
              "      spin 1s steps(1) infinite;\n",
              "  }\n",
              "\n",
              "  @keyframes spin {\n",
              "    0% {\n",
              "      border-color: transparent;\n",
              "      border-bottom-color: var(--fill-color);\n",
              "      border-left-color: var(--fill-color);\n",
              "    }\n",
              "    20% {\n",
              "      border-color: transparent;\n",
              "      border-left-color: var(--fill-color);\n",
              "      border-top-color: var(--fill-color);\n",
              "    }\n",
              "    30% {\n",
              "      border-color: transparent;\n",
              "      border-left-color: var(--fill-color);\n",
              "      border-top-color: var(--fill-color);\n",
              "      border-right-color: var(--fill-color);\n",
              "    }\n",
              "    40% {\n",
              "      border-color: transparent;\n",
              "      border-right-color: var(--fill-color);\n",
              "      border-top-color: var(--fill-color);\n",
              "    }\n",
              "    60% {\n",
              "      border-color: transparent;\n",
              "      border-right-color: var(--fill-color);\n",
              "    }\n",
              "    80% {\n",
              "      border-color: transparent;\n",
              "      border-right-color: var(--fill-color);\n",
              "      border-bottom-color: var(--fill-color);\n",
              "    }\n",
              "    90% {\n",
              "      border-color: transparent;\n",
              "      border-bottom-color: var(--fill-color);\n",
              "    }\n",
              "  }\n",
              "</style>\n",
              "\n",
              "  <script>\n",
              "    async function quickchart(key) {\n",
              "      const quickchartButtonEl =\n",
              "        document.querySelector('#' + key + ' button');\n",
              "      quickchartButtonEl.disabled = true;  // To prevent multiple clicks.\n",
              "      quickchartButtonEl.classList.add('colab-df-spinner');\n",
              "      try {\n",
              "        const charts = await google.colab.kernel.invokeFunction(\n",
              "            'suggestCharts', [key], {});\n",
              "      } catch (error) {\n",
              "        console.error('Error during call to suggestCharts:', error);\n",
              "      }\n",
              "      quickchartButtonEl.classList.remove('colab-df-spinner');\n",
              "      quickchartButtonEl.classList.add('colab-df-quickchart-complete');\n",
              "    }\n",
              "    (() => {\n",
              "      let quickchartButtonEl =\n",
              "        document.querySelector('#df-f8efdde3-a878-4ad4-a42e-b7f1ee2961f6 button');\n",
              "      quickchartButtonEl.style.display =\n",
              "        google.colab.kernel.accessAllowed ? 'block' : 'none';\n",
              "    })();\n",
              "  </script>\n",
              "</div>\n",
              "\n",
              "    </div>\n",
              "  </div>\n"
            ],
            "application/vnd.google.colaboratory.intrinsic+json": {
              "type": "dataframe",
              "variable_name": "warm_",
              "summary": "{\n  \"name\": \"warm_\",\n  \"rows\": 89,\n  \"fields\": [\n    {\n      \"column\": \"lips_s\",\n      \"properties\": {\n        \"dtype\": \"number\",\n        \"std\": 2.3428353632808543,\n        \"min\": 146.33333333333334,\n        \"max\": 160.0,\n        \"num_unique_values\": 29,\n        \"samples\": [\n          146.66666666666666,\n          148.66666666666666,\n          153.33333333333334\n        ],\n        \"semantic_type\": \"\",\n        \"description\": \"\"\n      }\n    },\n    {\n      \"column\": \"face_l_var\",\n      \"properties\": {\n        \"dtype\": \"number\",\n        \"std\": 9.391161510934654e-06,\n        \"min\": 5.026343387726229e-06,\n        \"max\": 6.175116141093895e-05,\n        \"num_unique_values\": 89,\n        \"samples\": [\n          5.986010819469811e-06,\n          1.3402419426711276e-05,\n          2.813034734572284e-05\n        ],\n        \"semantic_type\": \"\",\n        \"description\": \"\"\n      }\n    },\n    {\n      \"column\": \"skin_avg_b\",\n      \"properties\": {\n        \"dtype\": \"number\",\n        \"std\": 4.016296603406836,\n        \"min\": 138.8,\n        \"max\": 159.2,\n        \"num_unique_values\": 71,\n        \"samples\": [\n          144.2,\n          145.8,\n          141.4\n        ],\n        \"semantic_type\": \"\",\n        \"description\": \"\"\n      }\n    },\n    {\n      \"column\": \"R\",\n      \"properties\": {\n        \"dtype\": \"number\",\n        \"std\": 18.849312081090858,\n        \"min\": 44.83579503712224,\n        \"max\": 140.6137515345159,\n        \"num_unique_values\": 89,\n        \"samples\": [\n          97.42945855202224,\n          106.09046271027698,\n          120.0505157255694\n        ],\n        \"semantic_type\": \"\",\n        \"description\": \"\"\n      }\n    },\n    {\n      \"column\": \"G\",\n      \"properties\": {\n        \"dtype\": \"number\",\n        \"std\": 16.974540385658425,\n        \"min\": 62.61990529271642,\n        \"max\": 164.2951701704904,\n        \"num_unique_values\": 89,\n        \"samples\": [\n          112.1778126776326,\n          126.20041618591844,\n          138.72740897938223\n        ],\n        \"semantic_type\": \"\",\n        \"description\": \"\"\n      }\n    },\n    {\n      \"column\": \"B\",\n      \"properties\": {\n        \"dtype\": \"number\",\n        \"std\": 16.028660232049265,\n        \"min\": 122.3276156371367,\n        \"max\": 213.95625987516047,\n        \"num_unique_values\": 89,\n        \"samples\": [\n          155.11045845412022,\n          174.18402974545097,\n          180.70489542674463\n        ],\n        \"semantic_type\": \"\",\n        \"description\": \"\"\n      }\n    },\n    {\n      \"column\": \"H\",\n      \"properties\": {\n        \"dtype\": \"number\",\n        \"std\": 1.7687146842610697,\n        \"min\": 4.25,\n        \"max\": 13.25,\n        \"num_unique_values\": 29,\n        \"samples\": [\n          6.25,\n          9.25,\n          10.75\n        ],\n        \"semantic_type\": \"\",\n        \"description\": \"\"\n      }\n    },\n    {\n      \"column\": \"S\",\n      \"properties\": {\n        \"dtype\": \"number\",\n        \"std\": 19.747970328595308,\n        \"min\": 74.75,\n        \"max\": 170.25,\n        \"num_unique_values\": 74,\n        \"samples\": [\n          115.75,\n          103.75,\n          137.25\n        ],\n        \"semantic_type\": \"\",\n        \"description\": \"\"\n      }\n    },\n    {\n      \"column\": \"V\",\n      \"properties\": {\n        \"dtype\": \"number\",\n        \"std\": 13.776897037490478,\n        \"min\": 123.5,\n        \"max\": 198.5,\n        \"num_unique_values\": 70,\n        \"samples\": [\n          152.0,\n          165.5,\n          156.5\n        ],\n        \"semantic_type\": \"\",\n        \"description\": \"\"\n      }\n    },\n    {\n      \"column\": \"L\",\n      \"properties\": {\n        \"dtype\": \"number\",\n        \"std\": 14.43293881825745,\n        \"min\": 86.0,\n        \"max\": 168.0,\n        \"num_unique_values\": 77,\n        \"samples\": [\n          136.25,\n          138.5,\n          86.0\n        ],\n        \"semantic_type\": \"\",\n        \"description\": \"\"\n      }\n    },\n    {\n      \"column\": \"a\",\n      \"properties\": {\n        \"dtype\": \"number\",\n        \"std\": 2.386563966006496,\n        \"min\": 138.0,\n        \"max\": 151.5,\n        \"num_unique_values\": 36,\n        \"samples\": [\n          146.25,\n          146.0,\n          148.25\n        ],\n        \"semantic_type\": \"\",\n        \"description\": \"\"\n      }\n    },\n    {\n      \"column\": \"b\",\n      \"properties\": {\n        \"dtype\": \"number\",\n        \"std\": 4.059458573141005,\n        \"min\": 138.5,\n        \"max\": 160.0,\n        \"num_unique_values\": 44,\n        \"samples\": [\n          147.5,\n          151.75,\n          147.25\n        ],\n        \"semantic_type\": \"\",\n        \"description\": \"\"\n      }\n    },\n    {\n      \"column\": \"label\",\n      \"properties\": {\n        \"dtype\": \"number\",\n        \"std\": 0,\n        \"min\": 0,\n        \"max\": 1,\n        \"num_unique_values\": 2,\n        \"samples\": [\n          0,\n          1\n        ],\n        \"semantic_type\": \"\",\n        \"description\": \"\"\n      }\n    }\n  ]\n}"
            }
          },
          "metadata": {},
          "execution_count": 310
        }
      ]
    },
    {
      "cell_type": "code",
      "source": [
        "X_train_full.shape"
      ],
      "metadata": {
        "colab": {
          "base_uri": "https://localhost:8080/"
        },
        "id": "kBfu0DEcVU2Y",
        "outputId": "882880bd-3738-4eb7-f9c3-959551d4b50e"
      },
      "execution_count": null,
      "outputs": [
        {
          "output_type": "execute_result",
          "data": {
            "text/plain": [
              "(89, 12)"
            ]
          },
          "metadata": {},
          "execution_count": 311
        }
      ]
    },
    {
      "cell_type": "code",
      "source": [
        "test_size = int(len(X_train_full) * .1)\n",
        "test_size"
      ],
      "metadata": {
        "colab": {
          "base_uri": "https://localhost:8080/"
        },
        "id": "gG4dXWiuVaRJ",
        "outputId": "15a7667f-2a1c-4c5a-c50a-21ae36abc926"
      },
      "execution_count": null,
      "outputs": [
        {
          "output_type": "execute_result",
          "data": {
            "text/plain": [
              "8"
            ]
          },
          "metadata": {},
          "execution_count": 312
        }
      ]
    },
    {
      "cell_type": "code",
      "source": [
        "X_train = X_train_full[test_size:].to_numpy()\n",
        "y_train = y_train_full[test_size:].to_numpy()\n",
        "X_test = X_train_full[:test_size].to_numpy()\n",
        "y_test = y_train_full[:test_size].to_numpy()"
      ],
      "metadata": {
        "id": "PHVyw8RaVkW8"
      },
      "execution_count": null,
      "outputs": []
    },
    {
      "cell_type": "code",
      "source": [
        "X_train.shape"
      ],
      "metadata": {
        "colab": {
          "base_uri": "https://localhost:8080/"
        },
        "id": "bKR8BwQ-VhW2",
        "outputId": "52679ace-8ced-4a6c-88a8-8e1ae92afe51"
      },
      "execution_count": null,
      "outputs": [
        {
          "output_type": "execute_result",
          "data": {
            "text/plain": [
              "(81, 12)"
            ]
          },
          "metadata": {},
          "execution_count": 314
        }
      ]
    },
    {
      "cell_type": "code",
      "source": [
        "X_train = np.copy(X_train)\n",
        "mean = X_train.mean(axis=0)\n",
        "X_train -= mean\n",
        "std = X_train.std(axis=0)\n",
        "X_train /= std\n",
        "\n",
        "X_test = np.copy(X_test)\n",
        "X_test -= mean\n",
        "X_test /= std"
      ],
      "metadata": {
        "id": "XA0-E2-oVvzA"
      },
      "execution_count": null,
      "outputs": []
    },
    {
      "cell_type": "code",
      "source": [
        "from tensorflow.keras.optimizers.schedules import ExponentialDecay\n",
        "\n",
        "lr_schedule = ExponentialDecay(\n",
        "    0.01,\n",
        "    decay_steps=5,\n",
        "    decay_rate=0.8,\n",
        "    staircase=True)"
      ],
      "metadata": {
        "id": "1XNz18YtYYuz"
      },
      "execution_count": null,
      "outputs": []
    },
    {
      "cell_type": "code",
      "source": [
        "def build_model():\n",
        "    model = keras.models.Sequential()\n",
        "    model.add(layers.Flatten(input_shape=(X_train.shape[1],)))\n",
        "    model.add(layers.Dense(16, activation='relu'))\n",
        "    model.add(layers.Dense(16, activation='relu'))\n",
        "    model.add(layers.Dense(1, activation='sigmoid'))\n",
        "    model.compile(loss='binary_crossentropy', optimizer=keras.optimizers.Adam(learning_rate=lr_schedule), metrics=['accuracy'])\n",
        "    return model"
      ],
      "metadata": {
        "id": "2SFFrzaDWNGe"
      },
      "execution_count": null,
      "outputs": []
    },
    {
      "cell_type": "code",
      "source": [
        "k = 5\n",
        "n = len(X_train)\n",
        "n_val = n // k\n",
        "num_epochs = 30\n",
        "all_val_losses = []\n",
        "all_train_losses = []\n",
        "all_train_acc = []\n",
        "all_val_acc = []\n",
        "\n",
        "for i in range(k):\n",
        "  print('processing fold #', i)\n",
        "  val_data = X_train[i * n_val: (i + 1) * n_val]\n",
        "  val_targets = y_train[i * n_val: (i + 1) * n_val]\n",
        "  X_train_part = np.concatenate([X_train[:i * n_val], X_train[(i + 1) * n_val:]], axis=0)\n",
        "  y_train_part = np.concatenate([y_train[:i * n_val], y_train[(i + 1) * n_val:]], axis=0)\n",
        "  model = build_model()\n",
        "  history = model.fit(X_train_part, y_train_part, validation_data=(val_data, val_targets),\n",
        "                      epochs=num_epochs)\n",
        "  val_history = history.history['val_loss']\n",
        "  train_history = history.history['loss']\n",
        "  val_acc = history.history['val_accuracy']\n",
        "  train_acc = history.history['accuracy']\n",
        "  all_train_losses.append(train_history)\n",
        "  all_val_losses.append(val_history)\n",
        "  all_train_acc.append(train_acc)\n",
        "  all_val_acc.append(val_acc)"
      ],
      "metadata": {
        "colab": {
          "base_uri": "https://localhost:8080/"
        },
        "id": "zS0a4O6gV1eK",
        "outputId": "52970e7d-57a5-43e3-d105-65987dc198f8"
      },
      "execution_count": null,
      "outputs": [
        {
          "output_type": "stream",
          "name": "stdout",
          "text": [
            "processing fold # 0\n",
            "Epoch 1/30\n",
            "3/3 [==============================] - 1s 96ms/step - loss: 0.8018 - accuracy: 0.2462 - val_loss: 0.5997 - val_accuracy: 0.7500\n",
            "Epoch 2/30\n",
            "3/3 [==============================] - 0s 13ms/step - loss: 0.5839 - accuracy: 0.7385 - val_loss: 0.5086 - val_accuracy: 0.7500\n",
            "Epoch 3/30\n",
            "3/3 [==============================] - 0s 14ms/step - loss: 0.4788 - accuracy: 0.8615 - val_loss: 0.4526 - val_accuracy: 0.8125\n",
            "Epoch 4/30\n",
            "3/3 [==============================] - 0s 14ms/step - loss: 0.4178 - accuracy: 0.8923 - val_loss: 0.4242 - val_accuracy: 0.8125\n",
            "Epoch 5/30\n",
            "3/3 [==============================] - 0s 14ms/step - loss: 0.3838 - accuracy: 0.8769 - val_loss: 0.4055 - val_accuracy: 0.8125\n",
            "Epoch 6/30\n",
            "3/3 [==============================] - 0s 14ms/step - loss: 0.3611 - accuracy: 0.8769 - val_loss: 0.3928 - val_accuracy: 0.8125\n",
            "Epoch 7/30\n",
            "3/3 [==============================] - 0s 14ms/step - loss: 0.3466 - accuracy: 0.8769 - val_loss: 0.3846 - val_accuracy: 0.8125\n",
            "Epoch 8/30\n",
            "3/3 [==============================] - 0s 13ms/step - loss: 0.3370 - accuracy: 0.8923 - val_loss: 0.3809 - val_accuracy: 0.8125\n",
            "Epoch 9/30\n",
            "3/3 [==============================] - 0s 13ms/step - loss: 0.3319 - accuracy: 0.8923 - val_loss: 0.3783 - val_accuracy: 0.8125\n",
            "Epoch 10/30\n",
            "3/3 [==============================] - 0s 13ms/step - loss: 0.3273 - accuracy: 0.8923 - val_loss: 0.3752 - val_accuracy: 0.8125\n",
            "Epoch 11/30\n",
            "3/3 [==============================] - 0s 15ms/step - loss: 0.3241 - accuracy: 0.8769 - val_loss: 0.3741 - val_accuracy: 0.8125\n",
            "Epoch 12/30\n",
            "3/3 [==============================] - 0s 12ms/step - loss: 0.3213 - accuracy: 0.8769 - val_loss: 0.3726 - val_accuracy: 0.8125\n",
            "Epoch 13/30\n",
            "3/3 [==============================] - 0s 16ms/step - loss: 0.3189 - accuracy: 0.8769 - val_loss: 0.3706 - val_accuracy: 0.8125\n",
            "Epoch 14/30\n",
            "3/3 [==============================] - 0s 17ms/step - loss: 0.3171 - accuracy: 0.8769 - val_loss: 0.3688 - val_accuracy: 0.8125\n",
            "Epoch 15/30\n",
            "3/3 [==============================] - 0s 15ms/step - loss: 0.3147 - accuracy: 0.8769 - val_loss: 0.3676 - val_accuracy: 0.8125\n",
            "Epoch 16/30\n",
            "3/3 [==============================] - 0s 13ms/step - loss: 0.3123 - accuracy: 0.8923 - val_loss: 0.3661 - val_accuracy: 0.8125\n",
            "Epoch 17/30\n",
            "3/3 [==============================] - 0s 14ms/step - loss: 0.3104 - accuracy: 0.8923 - val_loss: 0.3640 - val_accuracy: 0.8125\n",
            "Epoch 18/30\n",
            "3/3 [==============================] - 0s 15ms/step - loss: 0.3084 - accuracy: 0.8923 - val_loss: 0.3627 - val_accuracy: 0.8125\n",
            "Epoch 19/30\n",
            "3/3 [==============================] - 0s 13ms/step - loss: 0.3067 - accuracy: 0.9077 - val_loss: 0.3617 - val_accuracy: 0.8125\n",
            "Epoch 20/30\n",
            "3/3 [==============================] - 0s 16ms/step - loss: 0.3053 - accuracy: 0.9077 - val_loss: 0.3612 - val_accuracy: 0.8125\n",
            "Epoch 21/30\n",
            "3/3 [==============================] - 0s 13ms/step - loss: 0.3041 - accuracy: 0.9077 - val_loss: 0.3609 - val_accuracy: 0.8125\n",
            "Epoch 22/30\n",
            "3/3 [==============================] - 0s 13ms/step - loss: 0.3031 - accuracy: 0.9077 - val_loss: 0.3604 - val_accuracy: 0.8750\n",
            "Epoch 23/30\n",
            "3/3 [==============================] - 0s 13ms/step - loss: 0.3021 - accuracy: 0.9077 - val_loss: 0.3599 - val_accuracy: 0.8750\n",
            "Epoch 24/30\n",
            "3/3 [==============================] - 0s 13ms/step - loss: 0.3014 - accuracy: 0.9077 - val_loss: 0.3592 - val_accuracy: 0.8750\n",
            "Epoch 25/30\n",
            "3/3 [==============================] - 0s 13ms/step - loss: 0.3006 - accuracy: 0.9077 - val_loss: 0.3588 - val_accuracy: 0.8750\n",
            "Epoch 26/30\n",
            "3/3 [==============================] - 0s 14ms/step - loss: 0.2999 - accuracy: 0.9077 - val_loss: 0.3584 - val_accuracy: 0.8750\n",
            "Epoch 27/30\n",
            "3/3 [==============================] - 0s 13ms/step - loss: 0.2994 - accuracy: 0.9077 - val_loss: 0.3580 - val_accuracy: 0.8750\n",
            "Epoch 28/30\n",
            "3/3 [==============================] - 0s 28ms/step - loss: 0.2990 - accuracy: 0.9077 - val_loss: 0.3579 - val_accuracy: 0.8750\n",
            "Epoch 29/30\n",
            "3/3 [==============================] - 0s 16ms/step - loss: 0.2986 - accuracy: 0.9077 - val_loss: 0.3580 - val_accuracy: 0.8750\n",
            "Epoch 30/30\n",
            "3/3 [==============================] - 0s 15ms/step - loss: 0.2982 - accuracy: 0.9077 - val_loss: 0.3581 - val_accuracy: 0.8750\n",
            "processing fold # 1\n",
            "Epoch 1/30\n",
            "3/3 [==============================] - 1s 92ms/step - loss: 0.8806 - accuracy: 0.3692 - val_loss: 0.6988 - val_accuracy: 0.5000\n",
            "Epoch 2/30\n",
            "3/3 [==============================] - 0s 13ms/step - loss: 0.6156 - accuracy: 0.6154 - val_loss: 0.6127 - val_accuracy: 0.6250\n",
            "Epoch 3/30\n",
            "3/3 [==============================] - 0s 11ms/step - loss: 0.5149 - accuracy: 0.8154 - val_loss: 0.5643 - val_accuracy: 0.6250\n",
            "Epoch 4/30\n",
            "3/3 [==============================] - 0s 12ms/step - loss: 0.4562 - accuracy: 0.8308 - val_loss: 0.5281 - val_accuracy: 0.6250\n",
            "Epoch 5/30\n",
            "3/3 [==============================] - 0s 14ms/step - loss: 0.4096 - accuracy: 0.8308 - val_loss: 0.5031 - val_accuracy: 0.7500\n",
            "Epoch 6/30\n",
            "3/3 [==============================] - 0s 21ms/step - loss: 0.3775 - accuracy: 0.8462 - val_loss: 0.4876 - val_accuracy: 0.7500\n",
            "Epoch 7/30\n",
            "3/3 [==============================] - 0s 14ms/step - loss: 0.3546 - accuracy: 0.8462 - val_loss: 0.4757 - val_accuracy: 0.7500\n",
            "Epoch 8/30\n",
            "3/3 [==============================] - 0s 13ms/step - loss: 0.3380 - accuracy: 0.8615 - val_loss: 0.4650 - val_accuracy: 0.7500\n",
            "Epoch 9/30\n",
            "3/3 [==============================] - 0s 12ms/step - loss: 0.3268 - accuracy: 0.8615 - val_loss: 0.4531 - val_accuracy: 0.8125\n",
            "Epoch 10/30\n",
            "3/3 [==============================] - 0s 15ms/step - loss: 0.3192 - accuracy: 0.8615 - val_loss: 0.4422 - val_accuracy: 0.8750\n",
            "Epoch 11/30\n",
            "3/3 [==============================] - 0s 15ms/step - loss: 0.3134 - accuracy: 0.8615 - val_loss: 0.4355 - val_accuracy: 0.8750\n",
            "Epoch 12/30\n",
            "3/3 [==============================] - 0s 14ms/step - loss: 0.3090 - accuracy: 0.8615 - val_loss: 0.4301 - val_accuracy: 0.8750\n",
            "Epoch 13/30\n",
            "3/3 [==============================] - 0s 13ms/step - loss: 0.3041 - accuracy: 0.8615 - val_loss: 0.4271 - val_accuracy: 0.8750\n",
            "Epoch 14/30\n",
            "3/3 [==============================] - 0s 12ms/step - loss: 0.3011 - accuracy: 0.8615 - val_loss: 0.4255 - val_accuracy: 0.8750\n",
            "Epoch 15/30\n",
            "3/3 [==============================] - 0s 12ms/step - loss: 0.2979 - accuracy: 0.8769 - val_loss: 0.4243 - val_accuracy: 0.8750\n",
            "Epoch 16/30\n",
            "3/3 [==============================] - 0s 13ms/step - loss: 0.2957 - accuracy: 0.8769 - val_loss: 0.4235 - val_accuracy: 0.8750\n",
            "Epoch 17/30\n",
            "3/3 [==============================] - 0s 12ms/step - loss: 0.2938 - accuracy: 0.8769 - val_loss: 0.4239 - val_accuracy: 0.8750\n",
            "Epoch 18/30\n",
            "3/3 [==============================] - 0s 13ms/step - loss: 0.2917 - accuracy: 0.8923 - val_loss: 0.4254 - val_accuracy: 0.8750\n",
            "Epoch 19/30\n",
            "3/3 [==============================] - 0s 23ms/step - loss: 0.2898 - accuracy: 0.8923 - val_loss: 0.4266 - val_accuracy: 0.8750\n",
            "Epoch 20/30\n",
            "3/3 [==============================] - 0s 24ms/step - loss: 0.2885 - accuracy: 0.8923 - val_loss: 0.4272 - val_accuracy: 0.8750\n",
            "Epoch 21/30\n",
            "3/3 [==============================] - 0s 14ms/step - loss: 0.2874 - accuracy: 0.8923 - val_loss: 0.4282 - val_accuracy: 0.8750\n",
            "Epoch 22/30\n",
            "3/3 [==============================] - 0s 14ms/step - loss: 0.2862 - accuracy: 0.8769 - val_loss: 0.4298 - val_accuracy: 0.8750\n",
            "Epoch 23/30\n",
            "3/3 [==============================] - 0s 18ms/step - loss: 0.2848 - accuracy: 0.8769 - val_loss: 0.4305 - val_accuracy: 0.8750\n",
            "Epoch 24/30\n",
            "3/3 [==============================] - 0s 15ms/step - loss: 0.2841 - accuracy: 0.8769 - val_loss: 0.4306 - val_accuracy: 0.8750\n",
            "Epoch 25/30\n",
            "3/3 [==============================] - 0s 14ms/step - loss: 0.2834 - accuracy: 0.8769 - val_loss: 0.4304 - val_accuracy: 0.8750\n",
            "Epoch 26/30\n",
            "3/3 [==============================] - 0s 14ms/step - loss: 0.2829 - accuracy: 0.8769 - val_loss: 0.4303 - val_accuracy: 0.8750\n",
            "Epoch 27/30\n",
            "3/3 [==============================] - 0s 20ms/step - loss: 0.2825 - accuracy: 0.8769 - val_loss: 0.4303 - val_accuracy: 0.8750\n",
            "Epoch 28/30\n",
            "3/3 [==============================] - 0s 14ms/step - loss: 0.2821 - accuracy: 0.8769 - val_loss: 0.4303 - val_accuracy: 0.8750\n",
            "Epoch 29/30\n",
            "3/3 [==============================] - 0s 15ms/step - loss: 0.2818 - accuracy: 0.8769 - val_loss: 0.4304 - val_accuracy: 0.8750\n",
            "Epoch 30/30\n",
            "3/3 [==============================] - 0s 14ms/step - loss: 0.2815 - accuracy: 0.8769 - val_loss: 0.4310 - val_accuracy: 0.8750\n",
            "processing fold # 2\n",
            "Epoch 1/30\n",
            "3/3 [==============================] - 1s 79ms/step - loss: 0.7220 - accuracy: 0.5385 - val_loss: 0.5237 - val_accuracy: 0.7500\n",
            "Epoch 2/30\n",
            "3/3 [==============================] - 0s 14ms/step - loss: 0.5651 - accuracy: 0.7077 - val_loss: 0.4746 - val_accuracy: 0.7500\n",
            "Epoch 3/30\n",
            "3/3 [==============================] - 0s 13ms/step - loss: 0.5011 - accuracy: 0.7538 - val_loss: 0.4472 - val_accuracy: 0.7500\n",
            "Epoch 4/30\n",
            "3/3 [==============================] - 0s 13ms/step - loss: 0.4593 - accuracy: 0.7692 - val_loss: 0.4270 - val_accuracy: 0.8125\n",
            "Epoch 5/30\n",
            "3/3 [==============================] - 0s 14ms/step - loss: 0.4277 - accuracy: 0.7692 - val_loss: 0.4113 - val_accuracy: 0.7500\n",
            "Epoch 6/30\n",
            "3/3 [==============================] - 0s 13ms/step - loss: 0.3974 - accuracy: 0.8000 - val_loss: 0.4033 - val_accuracy: 0.7500\n",
            "Epoch 7/30\n",
            "3/3 [==============================] - 0s 12ms/step - loss: 0.3719 - accuracy: 0.8000 - val_loss: 0.3992 - val_accuracy: 0.7500\n",
            "Epoch 8/30\n",
            "3/3 [==============================] - 0s 14ms/step - loss: 0.3510 - accuracy: 0.8000 - val_loss: 0.3984 - val_accuracy: 0.7500\n",
            "Epoch 9/30\n",
            "3/3 [==============================] - 0s 14ms/step - loss: 0.3323 - accuracy: 0.8308 - val_loss: 0.3997 - val_accuracy: 0.7500\n",
            "Epoch 10/30\n",
            "3/3 [==============================] - 0s 13ms/step - loss: 0.3172 - accuracy: 0.8308 - val_loss: 0.4024 - val_accuracy: 0.7500\n",
            "Epoch 11/30\n",
            "3/3 [==============================] - 0s 27ms/step - loss: 0.3043 - accuracy: 0.8308 - val_loss: 0.4068 - val_accuracy: 0.7500\n",
            "Epoch 12/30\n",
            "3/3 [==============================] - 0s 19ms/step - loss: 0.2934 - accuracy: 0.8462 - val_loss: 0.4132 - val_accuracy: 0.7500\n",
            "Epoch 13/30\n",
            "3/3 [==============================] - 0s 14ms/step - loss: 0.2845 - accuracy: 0.8769 - val_loss: 0.4194 - val_accuracy: 0.7500\n",
            "Epoch 14/30\n",
            "3/3 [==============================] - 0s 14ms/step - loss: 0.2772 - accuracy: 0.8769 - val_loss: 0.4248 - val_accuracy: 0.7500\n",
            "Epoch 15/30\n",
            "3/3 [==============================] - 0s 14ms/step - loss: 0.2713 - accuracy: 0.8769 - val_loss: 0.4292 - val_accuracy: 0.7500\n",
            "Epoch 16/30\n",
            "3/3 [==============================] - 0s 15ms/step - loss: 0.2674 - accuracy: 0.8923 - val_loss: 0.4324 - val_accuracy: 0.7500\n",
            "Epoch 17/30\n",
            "3/3 [==============================] - 0s 13ms/step - loss: 0.2641 - accuracy: 0.8923 - val_loss: 0.4353 - val_accuracy: 0.7500\n",
            "Epoch 18/30\n",
            "3/3 [==============================] - 0s 22ms/step - loss: 0.2615 - accuracy: 0.8923 - val_loss: 0.4378 - val_accuracy: 0.7500\n",
            "Epoch 19/30\n",
            "3/3 [==============================] - 0s 13ms/step - loss: 0.2590 - accuracy: 0.9077 - val_loss: 0.4398 - val_accuracy: 0.7500\n",
            "Epoch 20/30\n",
            "3/3 [==============================] - 0s 13ms/step - loss: 0.2572 - accuracy: 0.9077 - val_loss: 0.4416 - val_accuracy: 0.7500\n",
            "Epoch 21/30\n",
            "3/3 [==============================] - 0s 16ms/step - loss: 0.2562 - accuracy: 0.9077 - val_loss: 0.4430 - val_accuracy: 0.7500\n",
            "Epoch 22/30\n",
            "3/3 [==============================] - 0s 12ms/step - loss: 0.2552 - accuracy: 0.9077 - val_loss: 0.4444 - val_accuracy: 0.7500\n",
            "Epoch 23/30\n",
            "3/3 [==============================] - 0s 13ms/step - loss: 0.2542 - accuracy: 0.9077 - val_loss: 0.4455 - val_accuracy: 0.7500\n",
            "Epoch 24/30\n",
            "3/3 [==============================] - 0s 12ms/step - loss: 0.2533 - accuracy: 0.9077 - val_loss: 0.4466 - val_accuracy: 0.7500\n",
            "Epoch 25/30\n",
            "3/3 [==============================] - 0s 13ms/step - loss: 0.2525 - accuracy: 0.9231 - val_loss: 0.4479 - val_accuracy: 0.7500\n",
            "Epoch 26/30\n",
            "3/3 [==============================] - 0s 15ms/step - loss: 0.2515 - accuracy: 0.9231 - val_loss: 0.4489 - val_accuracy: 0.7500\n",
            "Epoch 27/30\n",
            "3/3 [==============================] - 0s 13ms/step - loss: 0.2506 - accuracy: 0.9231 - val_loss: 0.4499 - val_accuracy: 0.7500\n",
            "Epoch 28/30\n",
            "3/3 [==============================] - 0s 13ms/step - loss: 0.2498 - accuracy: 0.9231 - val_loss: 0.4507 - val_accuracy: 0.7500\n",
            "Epoch 29/30\n",
            "3/3 [==============================] - 0s 14ms/step - loss: 0.2491 - accuracy: 0.9231 - val_loss: 0.4515 - val_accuracy: 0.7500\n",
            "Epoch 30/30\n",
            "3/3 [==============================] - 0s 13ms/step - loss: 0.2484 - accuracy: 0.9231 - val_loss: 0.4522 - val_accuracy: 0.7500\n",
            "processing fold # 3\n",
            "Epoch 1/30\n",
            "3/3 [==============================] - 1s 116ms/step - loss: 0.7340 - accuracy: 0.4154 - val_loss: 0.5935 - val_accuracy: 0.5625\n",
            "Epoch 2/30\n",
            "3/3 [==============================] - 0s 26ms/step - loss: 0.5959 - accuracy: 0.5538 - val_loss: 0.5102 - val_accuracy: 0.8750\n",
            "Epoch 3/30\n",
            "3/3 [==============================] - 0s 20ms/step - loss: 0.5421 - accuracy: 0.7692 - val_loss: 0.4633 - val_accuracy: 0.8750\n",
            "Epoch 4/30\n",
            "3/3 [==============================] - 0s 21ms/step - loss: 0.5073 - accuracy: 0.8308 - val_loss: 0.4264 - val_accuracy: 0.9375\n",
            "Epoch 5/30\n",
            "3/3 [==============================] - 0s 20ms/step - loss: 0.4781 - accuracy: 0.8615 - val_loss: 0.3899 - val_accuracy: 0.9375\n",
            "Epoch 6/30\n",
            "3/3 [==============================] - 0s 18ms/step - loss: 0.4542 - accuracy: 0.8923 - val_loss: 0.3631 - val_accuracy: 0.9375\n",
            "Epoch 7/30\n",
            "3/3 [==============================] - 0s 27ms/step - loss: 0.4323 - accuracy: 0.8769 - val_loss: 0.3403 - val_accuracy: 0.9375\n",
            "Epoch 8/30\n",
            "3/3 [==============================] - 0s 17ms/step - loss: 0.4135 - accuracy: 0.8923 - val_loss: 0.3221 - val_accuracy: 0.9375\n",
            "Epoch 9/30\n",
            "3/3 [==============================] - 0s 19ms/step - loss: 0.3966 - accuracy: 0.9077 - val_loss: 0.3072 - val_accuracy: 0.9375\n",
            "Epoch 10/30\n",
            "3/3 [==============================] - 0s 21ms/step - loss: 0.3836 - accuracy: 0.8923 - val_loss: 0.2936 - val_accuracy: 0.9375\n",
            "Epoch 11/30\n",
            "3/3 [==============================] - 0s 25ms/step - loss: 0.3709 - accuracy: 0.8923 - val_loss: 0.2828 - val_accuracy: 0.9375\n",
            "Epoch 12/30\n",
            "3/3 [==============================] - 0s 29ms/step - loss: 0.3608 - accuracy: 0.8923 - val_loss: 0.2736 - val_accuracy: 0.9375\n",
            "Epoch 13/30\n",
            "3/3 [==============================] - 0s 29ms/step - loss: 0.3525 - accuracy: 0.8769 - val_loss: 0.2663 - val_accuracy: 0.9375\n",
            "Epoch 14/30\n",
            "3/3 [==============================] - 0s 31ms/step - loss: 0.3456 - accuracy: 0.8769 - val_loss: 0.2603 - val_accuracy: 0.9375\n",
            "Epoch 15/30\n",
            "3/3 [==============================] - 0s 28ms/step - loss: 0.3405 - accuracy: 0.8769 - val_loss: 0.2544 - val_accuracy: 0.9375\n",
            "Epoch 16/30\n",
            "3/3 [==============================] - 0s 35ms/step - loss: 0.3350 - accuracy: 0.8769 - val_loss: 0.2501 - val_accuracy: 0.9375\n",
            "Epoch 17/30\n",
            "3/3 [==============================] - 0s 30ms/step - loss: 0.3312 - accuracy: 0.8769 - val_loss: 0.2461 - val_accuracy: 0.9375\n",
            "Epoch 18/30\n",
            "3/3 [==============================] - 0s 25ms/step - loss: 0.3278 - accuracy: 0.8769 - val_loss: 0.2421 - val_accuracy: 0.9375\n",
            "Epoch 19/30\n",
            "3/3 [==============================] - 0s 36ms/step - loss: 0.3248 - accuracy: 0.8769 - val_loss: 0.2392 - val_accuracy: 0.9375\n",
            "Epoch 20/30\n",
            "3/3 [==============================] - 0s 23ms/step - loss: 0.3226 - accuracy: 0.8769 - val_loss: 0.2379 - val_accuracy: 0.9375\n",
            "Epoch 21/30\n",
            "3/3 [==============================] - 0s 33ms/step - loss: 0.3207 - accuracy: 0.8769 - val_loss: 0.2381 - val_accuracy: 0.9375\n",
            "Epoch 22/30\n",
            "3/3 [==============================] - 0s 32ms/step - loss: 0.3198 - accuracy: 0.8769 - val_loss: 0.2378 - val_accuracy: 0.9375\n",
            "Epoch 23/30\n",
            "3/3 [==============================] - 0s 32ms/step - loss: 0.3190 - accuracy: 0.8769 - val_loss: 0.2373 - val_accuracy: 0.9375\n",
            "Epoch 24/30\n",
            "3/3 [==============================] - 0s 26ms/step - loss: 0.3180 - accuracy: 0.8769 - val_loss: 0.2367 - val_accuracy: 0.9375\n",
            "Epoch 25/30\n",
            "3/3 [==============================] - 0s 16ms/step - loss: 0.3172 - accuracy: 0.8923 - val_loss: 0.2362 - val_accuracy: 0.9375\n",
            "Epoch 26/30\n",
            "3/3 [==============================] - 0s 16ms/step - loss: 0.3164 - accuracy: 0.8923 - val_loss: 0.2355 - val_accuracy: 0.9375\n",
            "Epoch 27/30\n",
            "3/3 [==============================] - 0s 17ms/step - loss: 0.3157 - accuracy: 0.8923 - val_loss: 0.2347 - val_accuracy: 0.9375\n",
            "Epoch 28/30\n",
            "3/3 [==============================] - 0s 26ms/step - loss: 0.3151 - accuracy: 0.8923 - val_loss: 0.2341 - val_accuracy: 0.9375\n",
            "Epoch 29/30\n",
            "3/3 [==============================] - 0s 15ms/step - loss: 0.3145 - accuracy: 0.8923 - val_loss: 0.2336 - val_accuracy: 0.9375\n",
            "Epoch 30/30\n",
            "3/3 [==============================] - 0s 14ms/step - loss: 0.3140 - accuracy: 0.8923 - val_loss: 0.2329 - val_accuracy: 0.9375\n",
            "processing fold # 4\n",
            "Epoch 1/30\n",
            "3/3 [==============================] - 1s 90ms/step - loss: 0.7798 - accuracy: 0.5385 - val_loss: 0.6150 - val_accuracy: 0.6875\n",
            "Epoch 2/30\n",
            "3/3 [==============================] - 0s 13ms/step - loss: 0.5727 - accuracy: 0.8308 - val_loss: 0.4986 - val_accuracy: 0.8125\n",
            "Epoch 3/30\n",
            "3/3 [==============================] - 0s 15ms/step - loss: 0.4852 - accuracy: 0.8615 - val_loss: 0.4446 - val_accuracy: 0.8750\n",
            "Epoch 4/30\n",
            "3/3 [==============================] - 0s 16ms/step - loss: 0.4507 - accuracy: 0.8615 - val_loss: 0.4240 - val_accuracy: 0.8750\n",
            "Epoch 5/30\n",
            "3/3 [==============================] - 0s 15ms/step - loss: 0.4359 - accuracy: 0.8615 - val_loss: 0.4093 - val_accuracy: 0.8750\n",
            "Epoch 6/30\n",
            "3/3 [==============================] - 0s 15ms/step - loss: 0.4273 - accuracy: 0.8615 - val_loss: 0.4045 - val_accuracy: 0.8750\n",
            "Epoch 7/30\n",
            "3/3 [==============================] - 0s 15ms/step - loss: 0.4247 - accuracy: 0.8462 - val_loss: 0.3957 - val_accuracy: 0.8125\n",
            "Epoch 8/30\n",
            "3/3 [==============================] - 0s 15ms/step - loss: 0.4184 - accuracy: 0.8308 - val_loss: 0.3794 - val_accuracy: 0.8750\n",
            "Epoch 9/30\n",
            "3/3 [==============================] - 0s 16ms/step - loss: 0.4081 - accuracy: 0.8308 - val_loss: 0.3625 - val_accuracy: 0.8750\n",
            "Epoch 10/30\n",
            "3/3 [==============================] - 0s 15ms/step - loss: 0.4005 - accuracy: 0.8462 - val_loss: 0.3513 - val_accuracy: 0.8750\n",
            "Epoch 11/30\n",
            "3/3 [==============================] - 0s 17ms/step - loss: 0.3944 - accuracy: 0.8615 - val_loss: 0.3491 - val_accuracy: 0.8750\n",
            "Epoch 12/30\n",
            "3/3 [==============================] - 0s 12ms/step - loss: 0.3926 - accuracy: 0.8615 - val_loss: 0.3452 - val_accuracy: 0.9375\n",
            "Epoch 13/30\n",
            "3/3 [==============================] - 0s 14ms/step - loss: 0.3902 - accuracy: 0.8615 - val_loss: 0.3397 - val_accuracy: 0.9375\n",
            "Epoch 14/30\n",
            "3/3 [==============================] - 0s 14ms/step - loss: 0.3872 - accuracy: 0.8615 - val_loss: 0.3350 - val_accuracy: 0.9375\n",
            "Epoch 15/30\n",
            "3/3 [==============================] - 0s 13ms/step - loss: 0.3848 - accuracy: 0.8615 - val_loss: 0.3302 - val_accuracy: 0.9375\n",
            "Epoch 16/30\n",
            "3/3 [==============================] - 0s 14ms/step - loss: 0.3820 - accuracy: 0.8615 - val_loss: 0.3250 - val_accuracy: 0.9375\n",
            "Epoch 17/30\n",
            "3/3 [==============================] - 0s 12ms/step - loss: 0.3788 - accuracy: 0.8615 - val_loss: 0.3195 - val_accuracy: 0.9375\n",
            "Epoch 18/30\n",
            "3/3 [==============================] - 0s 13ms/step - loss: 0.3765 - accuracy: 0.8615 - val_loss: 0.3147 - val_accuracy: 0.9375\n",
            "Epoch 19/30\n",
            "3/3 [==============================] - 0s 14ms/step - loss: 0.3740 - accuracy: 0.8615 - val_loss: 0.3106 - val_accuracy: 0.9375\n",
            "Epoch 20/30\n",
            "3/3 [==============================] - 0s 15ms/step - loss: 0.3719 - accuracy: 0.8615 - val_loss: 0.3070 - val_accuracy: 0.9375\n",
            "Epoch 21/30\n",
            "3/3 [==============================] - 0s 13ms/step - loss: 0.3704 - accuracy: 0.8615 - val_loss: 0.3040 - val_accuracy: 0.9375\n",
            "Epoch 22/30\n",
            "3/3 [==============================] - 0s 24ms/step - loss: 0.3685 - accuracy: 0.8615 - val_loss: 0.3014 - val_accuracy: 0.9375\n",
            "Epoch 23/30\n",
            "3/3 [==============================] - 0s 16ms/step - loss: 0.3673 - accuracy: 0.8615 - val_loss: 0.2992 - val_accuracy: 0.9375\n",
            "Epoch 24/30\n",
            "3/3 [==============================] - 0s 14ms/step - loss: 0.3661 - accuracy: 0.8615 - val_loss: 0.2976 - val_accuracy: 0.9375\n",
            "Epoch 25/30\n",
            "3/3 [==============================] - 0s 13ms/step - loss: 0.3651 - accuracy: 0.8615 - val_loss: 0.2961 - val_accuracy: 0.9375\n",
            "Epoch 26/30\n",
            "3/3 [==============================] - 0s 13ms/step - loss: 0.3644 - accuracy: 0.8615 - val_loss: 0.2952 - val_accuracy: 0.9375\n",
            "Epoch 27/30\n",
            "3/3 [==============================] - 0s 15ms/step - loss: 0.3637 - accuracy: 0.8615 - val_loss: 0.2948 - val_accuracy: 0.9375\n",
            "Epoch 28/30\n",
            "3/3 [==============================] - 0s 12ms/step - loss: 0.3631 - accuracy: 0.8615 - val_loss: 0.2945 - val_accuracy: 0.9375\n",
            "Epoch 29/30\n",
            "3/3 [==============================] - 0s 12ms/step - loss: 0.3627 - accuracy: 0.8615 - val_loss: 0.2942 - val_accuracy: 0.9375\n",
            "Epoch 30/30\n",
            "3/3 [==============================] - 0s 12ms/step - loss: 0.3623 - accuracy: 0.8615 - val_loss: 0.2939 - val_accuracy: 0.9375\n"
          ]
        }
      ]
    },
    {
      "cell_type": "code",
      "source": [
        "avg_val_loss = [np.mean([x[i] for x in all_val_losses]) for i in range(num_epochs)]\n",
        "avg_train_loss = [np.mean([x[i] for x in all_train_losses]) for i in range(num_epochs)]\n",
        "avg_val_acc = [np.mean([x[i] for x in all_val_acc]) for i in range(num_epochs)]\n",
        "avg_train_acc = [np.mean([x[i] for x in all_train_acc]) for i in range(num_epochs)]"
      ],
      "metadata": {
        "id": "rnv7FG8wV7A6"
      },
      "execution_count": null,
      "outputs": []
    },
    {
      "cell_type": "code",
      "source": [
        "plt.figure(figsize=(5, 3))\n",
        "plt.plot(range(1, len(avg_train_acc) + 1), avg_train_acc)\n",
        "plt.plot(range(1, len(avg_val_acc) + 1), avg_val_acc)\n",
        "plt.xlabel('Epochs')\n",
        "plt.ylabel('Accuracy')\n",
        "plt.title('Accuracy Spring/Fall')\n",
        "plt.legend(['Training', 'Validation'])\n",
        "plt.show()"
      ],
      "metadata": {
        "colab": {
          "base_uri": "https://localhost:8080/",
          "height": 333
        },
        "id": "-lPgBLF_WbHS",
        "outputId": "913800ba-f564-456b-b79a-88acf707c985"
      },
      "execution_count": null,
      "outputs": [
        {
          "output_type": "display_data",
          "data": {
            "text/plain": [
              "<Figure size 500x300 with 1 Axes>"
            ],
            "image/png": "[encoded data removed]"
          },
          "metadata": {}
        }
      ]
    },
    {
      "cell_type": "code",
      "source": [
        "plt.figure(figsize=(5, 3))\n",
        "plt.plot(range(1, len(avg_train_loss) + 1), avg_train_loss)\n",
        "plt.plot(range(1, len(avg_val_loss)+ 1), avg_val_loss)\n",
        "plt.xlabel('Epochs')\n",
        "plt.ylabel('Loss')\n",
        "plt.title('Loss Spring/Fall')\n",
        "plt.legend(['Training', 'Validation'])\n",
        "plt.show()"
      ],
      "metadata": {
        "colab": {
          "base_uri": "https://localhost:8080/",
          "height": 333
        },
        "id": "VDmnl4hLWlCH",
        "outputId": "0385a2ab-5512-4780-e52a-f18f05673ef1"
      },
      "execution_count": null,
      "outputs": [
        {
          "output_type": "display_data",
          "data": {
            "text/plain": [
              "<Figure size 500x300 with 1 Axes>"
            ],
            "image/png": "[encoded data removed]"
          },
          "metadata": {}
        }
      ]
    },
    {
      "cell_type": "code",
      "source": [
        "model = build_model()\n",
        "model.fit(X_train, y_train, epochs=10, verbose=0)\n",
        "test_acc, test_loss = model.evaluate(X_test, y_test)"
      ],
      "metadata": {
        "colab": {
          "base_uri": "https://localhost:8080/"
        },
        "id": "BQ9FrEzPZ9of",
        "outputId": "35331541-07c3-4144-c957-a7895ae4731b"
      },
      "execution_count": null,
      "outputs": [
        {
          "output_type": "stream",
          "name": "stdout",
          "text": [
            "1/1 [==============================] - 0s 113ms/step - loss: 0.4186 - accuracy: 0.7500\n"
          ]
        }
      ]
    },
    {
      "cell_type": "markdown",
      "source": [
        "### cool only"
      ],
      "metadata": {
        "id": "Z94oclywaSbP"
      }
    },
    {
      "cell_type": "code",
      "source": [
        "cool_.sample(frac=1, random_state=42).reset_index(drop=True)\n",
        "X_train_full = cool_.iloc[:, :-1]\n",
        "y_train_full = cool_['label']"
      ],
      "metadata": {
        "id": "ypBkfkGtVRhn"
      },
      "execution_count": null,
      "outputs": []
    },
    {
      "cell_type": "code",
      "source": [
        "X_train_full.shape"
      ],
      "metadata": {
        "colab": {
          "base_uri": "https://localhost:8080/"
        },
        "id": "T_pDt1MMVZuL",
        "outputId": "d3c1951d-3cda-4cb8-a2e3-82648af6fe7e"
      },
      "execution_count": null,
      "outputs": [
        {
          "output_type": "execute_result",
          "data": {
            "text/plain": [
              "(99, 12)"
            ]
          },
          "metadata": {},
          "execution_count": 353
        }
      ]
    },
    {
      "cell_type": "code",
      "source": [
        "test_size = int(len(X_train_full) * .15)\n",
        "test_size"
      ],
      "metadata": {
        "colab": {
          "base_uri": "https://localhost:8080/"
        },
        "id": "FETcTPdTVeeU",
        "outputId": "9f927aab-4192-4f2e-9008-6f168be2d302"
      },
      "execution_count": null,
      "outputs": [
        {
          "output_type": "execute_result",
          "data": {
            "text/plain": [
              "14"
            ]
          },
          "metadata": {},
          "execution_count": 354
        }
      ]
    },
    {
      "cell_type": "code",
      "source": [
        "X_train = X_train_full[test_size:].to_numpy()\n",
        "y_train = y_train_full[test_size:].to_numpy()\n",
        "X_test = X_train_full[:test_size].to_numpy()\n",
        "y_test = y_train_full[:test_size].to_numpy()"
      ],
      "metadata": {
        "id": "BQBYQ-iMV04o"
      },
      "execution_count": null,
      "outputs": []
    },
    {
      "cell_type": "code",
      "source": [
        "X_train = np.copy(X_train)\n",
        "mean = X_train.mean(axis=0)\n",
        "X_train -= mean\n",
        "std = X_train.std(axis=0)\n",
        "X_train /= std\n",
        "\n",
        "X_test = np.copy(X_test)\n",
        "X_test -= mean\n",
        "X_test /= std"
      ],
      "metadata": {
        "id": "us26-tU9VzFs"
      },
      "execution_count": null,
      "outputs": []
    },
    {
      "cell_type": "code",
      "source": [
        "from tensorflow.keras.optimizers.schedules import ExponentialDecay\n",
        "\n",
        "lr_schedule = ExponentialDecay(\n",
        "    0.001,\n",
        "    decay_steps=20,\n",
        "    decay_rate=0.9,\n",
        "    staircase=True)"
      ],
      "metadata": {
        "id": "KerUidXdcCTQ"
      },
      "execution_count": null,
      "outputs": []
    },
    {
      "cell_type": "code",
      "source": [
        "def build_model():\n",
        "    model = keras.models.Sequential()\n",
        "    model.add(layers.Flatten(input_shape=(X_train.shape[1],)))\n",
        "    model.add(layers.Dense(16, activation='relu'))\n",
        "    model.add(layers.Dense(8, activation='relu'))\n",
        "    model.add(layers.Dense(1, activation='sigmoid'))\n",
        "    model.compile(loss='binary_crossentropy', optimizer=keras.optimizers.Adam(learning_rate=0.001), metrics=['accuracy'])\n",
        "    return model"
      ],
      "metadata": {
        "id": "KNMfrpSNcC5X"
      },
      "execution_count": null,
      "outputs": []
    },
    {
      "cell_type": "code",
      "source": [
        "k = 5\n",
        "n = len(X_train)\n",
        "n_val = n // k\n",
        "num_epochs = 20\n",
        "all_val_losses = []\n",
        "all_train_losses = []\n",
        "all_train_acc = []\n",
        "all_val_acc = []\n",
        "\n",
        "for i in range(k):\n",
        "  print('processing fold #', i)\n",
        "  val_data = X_train[i * n_val: (i + 1) * n_val]\n",
        "  val_targets = y_train[i * n_val: (i + 1) * n_val]\n",
        "  X_train_part = np.concatenate([X_train[:i * n_val], X_train[(i + 1) * n_val:]], axis=0)\n",
        "  y_train_part = np.concatenate([y_train[:i * n_val], y_train[(i + 1) * n_val:]], axis=0)\n",
        "  model = build_model()\n",
        "  history = model.fit(X_train_part, y_train_part, validation_data=(val_data, val_targets), epochs=num_epochs)\n",
        "  val_history = history.history['val_loss']\n",
        "  train_history = history.history['loss']\n",
        "  val_acc = history.history['val_accuracy']\n",
        "  train_acc = history.history['accuracy']\n",
        "  all_train_losses.append(train_history)\n",
        "  all_val_losses.append(val_history)\n",
        "  all_train_acc.append(train_acc)\n",
        "  all_val_acc.append(val_acc)"
      ],
      "metadata": {
        "colab": {
          "base_uri": "https://localhost:8080/"
        },
        "id": "Q-G1LKGvV5lO",
        "outputId": "16992d03-ff07-4261-b602-109466b6b275"
      },
      "execution_count": null,
      "outputs": [
        {
          "output_type": "stream",
          "name": "stdout",
          "text": [
            "processing fold # 0\n",
            "Epoch 1/20\n",
            "3/3 [==============================] - 1s 108ms/step - loss: 0.7941 - accuracy: 0.4265 - val_loss: 0.7233 - val_accuracy: 0.4118\n",
            "Epoch 2/20\n",
            "3/3 [==============================] - 0s 30ms/step - loss: 0.7782 - accuracy: 0.4265 - val_loss: 0.7192 - val_accuracy: 0.4118\n",
            "Epoch 3/20\n",
            "3/3 [==============================] - 0s 27ms/step - loss: 0.7650 - accuracy: 0.4559 - val_loss: 0.7155 - val_accuracy: 0.4118\n",
            "Epoch 4/20\n",
            "3/3 [==============================] - 0s 17ms/step - loss: 0.7552 - accuracy: 0.4706 - val_loss: 0.7119 - val_accuracy: 0.3529\n",
            "Epoch 5/20\n",
            "3/3 [==============================] - 0s 17ms/step - loss: 0.7449 - accuracy: 0.4706 - val_loss: 0.7092 - val_accuracy: 0.3529\n",
            "Epoch 6/20\n",
            "3/3 [==============================] - 0s 17ms/step - loss: 0.7364 - accuracy: 0.4706 - val_loss: 0.7072 - val_accuracy: 0.3529\n",
            "Epoch 7/20\n",
            "3/3 [==============================] - 0s 16ms/step - loss: 0.7287 - accuracy: 0.4706 - val_loss: 0.7060 - val_accuracy: 0.3529\n",
            "Epoch 8/20\n",
            "3/3 [==============================] - 0s 19ms/step - loss: 0.7220 - accuracy: 0.4853 - val_loss: 0.7048 - val_accuracy: 0.3529\n",
            "Epoch 9/20\n",
            "3/3 [==============================] - 0s 20ms/step - loss: 0.7148 - accuracy: 0.4853 - val_loss: 0.7037 - val_accuracy: 0.3529\n",
            "Epoch 10/20\n",
            "3/3 [==============================] - 0s 16ms/step - loss: 0.7078 - accuracy: 0.5000 - val_loss: 0.7027 - val_accuracy: 0.3529\n",
            "Epoch 11/20\n",
            "3/3 [==============================] - 0s 17ms/step - loss: 0.7022 - accuracy: 0.5147 - val_loss: 0.7015 - val_accuracy: 0.3529\n",
            "Epoch 12/20\n",
            "3/3 [==============================] - 0s 19ms/step - loss: 0.6962 - accuracy: 0.5147 - val_loss: 0.6995 - val_accuracy: 0.4118\n",
            "Epoch 13/20\n",
            "3/3 [==============================] - 0s 20ms/step - loss: 0.6898 - accuracy: 0.5441 - val_loss: 0.6963 - val_accuracy: 0.4118\n",
            "Epoch 14/20\n",
            "3/3 [==============================] - 0s 21ms/step - loss: 0.6836 - accuracy: 0.5441 - val_loss: 0.6923 - val_accuracy: 0.4118\n",
            "Epoch 15/20\n",
            "3/3 [==============================] - 0s 29ms/step - loss: 0.6775 - accuracy: 0.5735 - val_loss: 0.6887 - val_accuracy: 0.4118\n",
            "Epoch 16/20\n",
            "3/3 [==============================] - 0s 21ms/step - loss: 0.6719 - accuracy: 0.5735 - val_loss: 0.6850 - val_accuracy: 0.4118\n",
            "Epoch 17/20\n",
            "3/3 [==============================] - 0s 25ms/step - loss: 0.6660 - accuracy: 0.5735 - val_loss: 0.6820 - val_accuracy: 0.4706\n",
            "Epoch 18/20\n",
            "3/3 [==============================] - 0s 36ms/step - loss: 0.6598 - accuracy: 0.5882 - val_loss: 0.6797 - val_accuracy: 0.4706\n",
            "Epoch 19/20\n",
            "3/3 [==============================] - 0s 24ms/step - loss: 0.6547 - accuracy: 0.6029 - val_loss: 0.6781 - val_accuracy: 0.5294\n",
            "Epoch 20/20\n",
            "3/3 [==============================] - 0s 23ms/step - loss: 0.6492 - accuracy: 0.6176 - val_loss: 0.6775 - val_accuracy: 0.5294\n",
            "processing fold # 1\n",
            "Epoch 1/20\n",
            "3/3 [==============================] - 1s 88ms/step - loss: 1.0394 - accuracy: 0.4265 - val_loss: 0.7560 - val_accuracy: 0.6471\n",
            "Epoch 2/20\n",
            "3/3 [==============================] - 0s 13ms/step - loss: 1.0075 - accuracy: 0.4265 - val_loss: 0.7434 - val_accuracy: 0.6471\n",
            "Epoch 3/20\n",
            "3/3 [==============================] - 0s 11ms/step - loss: 0.9731 - accuracy: 0.4265 - val_loss: 0.7323 - val_accuracy: 0.6471\n",
            "Epoch 4/20\n",
            "3/3 [==============================] - 0s 16ms/step - loss: 0.9447 - accuracy: 0.4118 - val_loss: 0.7204 - val_accuracy: 0.5882\n",
            "Epoch 5/20\n",
            "3/3 [==============================] - 0s 12ms/step - loss: 0.9187 - accuracy: 0.3971 - val_loss: 0.7118 - val_accuracy: 0.5882\n",
            "Epoch 6/20\n",
            "3/3 [==============================] - 0s 11ms/step - loss: 0.8946 - accuracy: 0.4118 - val_loss: 0.7025 - val_accuracy: 0.5882\n",
            "Epoch 7/20\n",
            "3/3 [==============================] - 0s 13ms/step - loss: 0.8741 - accuracy: 0.4118 - val_loss: 0.6941 - val_accuracy: 0.6471\n",
            "Epoch 8/20\n",
            "3/3 [==============================] - 0s 13ms/step - loss: 0.8548 - accuracy: 0.4118 - val_loss: 0.6881 - val_accuracy: 0.6471\n",
            "Epoch 9/20\n",
            "3/3 [==============================] - 0s 12ms/step - loss: 0.8390 - accuracy: 0.4118 - val_loss: 0.6813 - val_accuracy: 0.6471\n",
            "Epoch 10/20\n",
            "3/3 [==============================] - 0s 23ms/step - loss: 0.8223 - accuracy: 0.4118 - val_loss: 0.6771 - val_accuracy: 0.6471\n",
            "Epoch 11/20\n",
            "3/3 [==============================] - 0s 13ms/step - loss: 0.8083 - accuracy: 0.4265 - val_loss: 0.6732 - val_accuracy: 0.6471\n",
            "Epoch 12/20\n",
            "3/3 [==============================] - 0s 12ms/step - loss: 0.7917 - accuracy: 0.4706 - val_loss: 0.6697 - val_accuracy: 0.6471\n",
            "Epoch 13/20\n",
            "3/3 [==============================] - 0s 12ms/step - loss: 0.7802 - accuracy: 0.5000 - val_loss: 0.6655 - val_accuracy: 0.6471\n",
            "Epoch 14/20\n",
            "3/3 [==============================] - 0s 12ms/step - loss: 0.7687 - accuracy: 0.4853 - val_loss: 0.6606 - val_accuracy: 0.6471\n",
            "Epoch 15/20\n",
            "3/3 [==============================] - 0s 12ms/step - loss: 0.7592 - accuracy: 0.5000 - val_loss: 0.6572 - val_accuracy: 0.7059\n",
            "Epoch 16/20\n",
            "3/3 [==============================] - 0s 12ms/step - loss: 0.7496 - accuracy: 0.5000 - val_loss: 0.6555 - val_accuracy: 0.7059\n",
            "Epoch 17/20\n",
            "3/3 [==============================] - 0s 12ms/step - loss: 0.7420 - accuracy: 0.5294 - val_loss: 0.6540 - val_accuracy: 0.7059\n",
            "Epoch 18/20\n",
            "3/3 [==============================] - 0s 12ms/step - loss: 0.7323 - accuracy: 0.5147 - val_loss: 0.6541 - val_accuracy: 0.6471\n",
            "Epoch 19/20\n",
            "3/3 [==============================] - 0s 12ms/step - loss: 0.7253 - accuracy: 0.5147 - val_loss: 0.6541 - val_accuracy: 0.6471\n",
            "Epoch 20/20\n",
            "3/3 [==============================] - 0s 14ms/step - loss: 0.7179 - accuracy: 0.5147 - val_loss: 0.6539 - val_accuracy: 0.6471\n",
            "processing fold # 2\n",
            "Epoch 1/20\n",
            "3/3 [==============================] - 1s 99ms/step - loss: 0.6268 - accuracy: 0.6176 - val_loss: 0.7058 - val_accuracy: 0.5294\n",
            "Epoch 2/20\n",
            "3/3 [==============================] - 0s 29ms/step - loss: 0.6177 - accuracy: 0.6618 - val_loss: 0.7093 - val_accuracy: 0.5294\n",
            "Epoch 3/20\n",
            "3/3 [==============================] - 0s 21ms/step - loss: 0.6104 - accuracy: 0.6912 - val_loss: 0.7131 - val_accuracy: 0.5294\n",
            "Epoch 4/20\n",
            "3/3 [==============================] - 0s 30ms/step - loss: 0.6043 - accuracy: 0.6912 - val_loss: 0.7164 - val_accuracy: 0.5294\n",
            "Epoch 5/20\n",
            "3/3 [==============================] - 0s 30ms/step - loss: 0.5985 - accuracy: 0.6912 - val_loss: 0.7194 - val_accuracy: 0.5294\n",
            "Epoch 6/20\n",
            "3/3 [==============================] - 0s 21ms/step - loss: 0.5928 - accuracy: 0.6912 - val_loss: 0.7230 - val_accuracy: 0.5294\n",
            "Epoch 7/20\n",
            "3/3 [==============================] - 0s 32ms/step - loss: 0.5878 - accuracy: 0.6912 - val_loss: 0.7266 - val_accuracy: 0.5294\n",
            "Epoch 8/20\n",
            "3/3 [==============================] - 0s 30ms/step - loss: 0.5826 - accuracy: 0.6912 - val_loss: 0.7292 - val_accuracy: 0.5294\n",
            "Epoch 9/20\n",
            "3/3 [==============================] - 0s 34ms/step - loss: 0.5775 - accuracy: 0.6912 - val_loss: 0.7312 - val_accuracy: 0.5294\n",
            "Epoch 10/20\n",
            "3/3 [==============================] - 0s 29ms/step - loss: 0.5730 - accuracy: 0.6912 - val_loss: 0.7342 - val_accuracy: 0.5294\n",
            "Epoch 11/20\n",
            "3/3 [==============================] - 0s 25ms/step - loss: 0.5680 - accuracy: 0.7059 - val_loss: 0.7377 - val_accuracy: 0.5294\n",
            "Epoch 12/20\n",
            "3/3 [==============================] - 0s 20ms/step - loss: 0.5634 - accuracy: 0.7059 - val_loss: 0.7404 - val_accuracy: 0.5294\n",
            "Epoch 13/20\n",
            "3/3 [==============================] - 0s 32ms/step - loss: 0.5601 - accuracy: 0.7206 - val_loss: 0.7435 - val_accuracy: 0.5294\n",
            "Epoch 14/20\n",
            "3/3 [==============================] - 0s 29ms/step - loss: 0.5558 - accuracy: 0.7206 - val_loss: 0.7464 - val_accuracy: 0.5294\n",
            "Epoch 15/20\n",
            "3/3 [==============================] - 0s 20ms/step - loss: 0.5520 - accuracy: 0.7353 - val_loss: 0.7492 - val_accuracy: 0.5294\n",
            "Epoch 16/20\n",
            "3/3 [==============================] - 0s 26ms/step - loss: 0.5478 - accuracy: 0.7353 - val_loss: 0.7522 - val_accuracy: 0.5294\n",
            "Epoch 17/20\n",
            "3/3 [==============================] - 0s 31ms/step - loss: 0.5447 - accuracy: 0.7206 - val_loss: 0.7553 - val_accuracy: 0.5294\n",
            "Epoch 18/20\n",
            "3/3 [==============================] - 0s 30ms/step - loss: 0.5417 - accuracy: 0.7353 - val_loss: 0.7585 - val_accuracy: 0.5294\n",
            "Epoch 19/20\n",
            "3/3 [==============================] - 0s 28ms/step - loss: 0.5383 - accuracy: 0.7500 - val_loss: 0.7613 - val_accuracy: 0.5294\n",
            "Epoch 20/20\n",
            "3/3 [==============================] - 0s 29ms/step - loss: 0.5359 - accuracy: 0.7794 - val_loss: 0.7641 - val_accuracy: 0.5294\n",
            "processing fold # 3\n",
            "Epoch 1/20\n",
            "3/3 [==============================] - 1s 91ms/step - loss: 0.7662 - accuracy: 0.4265 - val_loss: 0.6571 - val_accuracy: 0.6471\n",
            "Epoch 2/20\n",
            "3/3 [==============================] - 0s 15ms/step - loss: 0.7573 - accuracy: 0.4265 - val_loss: 0.6530 - val_accuracy: 0.6471\n",
            "Epoch 3/20\n",
            "3/3 [==============================] - 0s 15ms/step - loss: 0.7505 - accuracy: 0.4559 - val_loss: 0.6487 - val_accuracy: 0.6471\n",
            "Epoch 4/20\n",
            "3/3 [==============================] - 0s 14ms/step - loss: 0.7440 - accuracy: 0.4853 - val_loss: 0.6443 - val_accuracy: 0.7059\n",
            "Epoch 5/20\n",
            "3/3 [==============================] - 0s 15ms/step - loss: 0.7371 - accuracy: 0.5147 - val_loss: 0.6400 - val_accuracy: 0.7059\n",
            "Epoch 6/20\n",
            "3/3 [==============================] - 0s 14ms/step - loss: 0.7308 - accuracy: 0.5147 - val_loss: 0.6358 - val_accuracy: 0.7059\n",
            "Epoch 7/20\n",
            "3/3 [==============================] - 0s 15ms/step - loss: 0.7250 - accuracy: 0.5294 - val_loss: 0.6318 - val_accuracy: 0.7059\n",
            "Epoch 8/20\n",
            "3/3 [==============================] - 0s 14ms/step - loss: 0.7184 - accuracy: 0.5441 - val_loss: 0.6282 - val_accuracy: 0.7647\n",
            "Epoch 9/20\n",
            "3/3 [==============================] - 0s 14ms/step - loss: 0.7132 - accuracy: 0.5441 - val_loss: 0.6245 - val_accuracy: 0.7647\n",
            "Epoch 10/20\n",
            "3/3 [==============================] - 0s 14ms/step - loss: 0.7082 - accuracy: 0.5588 - val_loss: 0.6211 - val_accuracy: 0.7647\n",
            "Epoch 11/20\n",
            "3/3 [==============================] - 0s 16ms/step - loss: 0.7029 - accuracy: 0.5588 - val_loss: 0.6181 - val_accuracy: 0.7059\n",
            "Epoch 12/20\n",
            "3/3 [==============================] - 0s 14ms/step - loss: 0.6986 - accuracy: 0.5588 - val_loss: 0.6155 - val_accuracy: 0.7647\n",
            "Epoch 13/20\n",
            "3/3 [==============================] - 0s 14ms/step - loss: 0.6943 - accuracy: 0.5588 - val_loss: 0.6134 - val_accuracy: 0.7647\n",
            "Epoch 14/20\n",
            "3/3 [==============================] - 0s 14ms/step - loss: 0.6900 - accuracy: 0.5588 - val_loss: 0.6110 - val_accuracy: 0.7647\n",
            "Epoch 15/20\n",
            "3/3 [==============================] - 0s 15ms/step - loss: 0.6862 - accuracy: 0.5588 - val_loss: 0.6082 - val_accuracy: 0.7647\n",
            "Epoch 16/20\n",
            "3/3 [==============================] - 0s 14ms/step - loss: 0.6821 - accuracy: 0.5588 - val_loss: 0.6053 - val_accuracy: 0.7647\n",
            "Epoch 17/20\n",
            "3/3 [==============================] - 0s 15ms/step - loss: 0.6778 - accuracy: 0.5588 - val_loss: 0.6031 - val_accuracy: 0.7647\n",
            "Epoch 18/20\n",
            "3/3 [==============================] - 0s 18ms/step - loss: 0.6743 - accuracy: 0.5588 - val_loss: 0.6013 - val_accuracy: 0.7647\n",
            "Epoch 19/20\n",
            "3/3 [==============================] - 0s 14ms/step - loss: 0.6699 - accuracy: 0.5588 - val_loss: 0.5997 - val_accuracy: 0.7647\n",
            "Epoch 20/20\n",
            "3/3 [==============================] - 0s 13ms/step - loss: 0.6670 - accuracy: 0.5588 - val_loss: 0.5981 - val_accuracy: 0.7647\n",
            "processing fold # 4\n",
            "Epoch 1/20\n",
            "3/3 [==============================] - 1s 79ms/step - loss: 0.6634 - accuracy: 0.6176 - val_loss: 0.6493 - val_accuracy: 0.6471\n",
            "Epoch 2/20\n",
            "3/3 [==============================] - 0s 12ms/step - loss: 0.6574 - accuracy: 0.6176 - val_loss: 0.6474 - val_accuracy: 0.7059\n",
            "Epoch 3/20\n",
            "3/3 [==============================] - 0s 12ms/step - loss: 0.6528 - accuracy: 0.6471 - val_loss: 0.6461 - val_accuracy: 0.7059\n",
            "Epoch 4/20\n",
            "3/3 [==============================] - 0s 16ms/step - loss: 0.6490 - accuracy: 0.6618 - val_loss: 0.6427 - val_accuracy: 0.7059\n",
            "Epoch 5/20\n",
            "3/3 [==============================] - 0s 13ms/step - loss: 0.6451 - accuracy: 0.6618 - val_loss: 0.6384 - val_accuracy: 0.7059\n",
            "Epoch 6/20\n",
            "3/3 [==============================] - 0s 12ms/step - loss: 0.6415 - accuracy: 0.6765 - val_loss: 0.6351 - val_accuracy: 0.7059\n",
            "Epoch 7/20\n",
            "3/3 [==============================] - 0s 13ms/step - loss: 0.6370 - accuracy: 0.7059 - val_loss: 0.6328 - val_accuracy: 0.7059\n",
            "Epoch 8/20\n",
            "3/3 [==============================] - 0s 14ms/step - loss: 0.6333 - accuracy: 0.7206 - val_loss: 0.6311 - val_accuracy: 0.7059\n",
            "Epoch 9/20\n",
            "3/3 [==============================] - 0s 17ms/step - loss: 0.6302 - accuracy: 0.7206 - val_loss: 0.6298 - val_accuracy: 0.7647\n",
            "Epoch 10/20\n",
            "3/3 [==============================] - 0s 12ms/step - loss: 0.6268 - accuracy: 0.7500 - val_loss: 0.6283 - val_accuracy: 0.7647\n",
            "Epoch 11/20\n",
            "3/3 [==============================] - 0s 15ms/step - loss: 0.6239 - accuracy: 0.7647 - val_loss: 0.6270 - val_accuracy: 0.7647\n",
            "Epoch 12/20\n",
            "3/3 [==============================] - 0s 13ms/step - loss: 0.6206 - accuracy: 0.7794 - val_loss: 0.6257 - val_accuracy: 0.7059\n",
            "Epoch 13/20\n",
            "3/3 [==============================] - 0s 13ms/step - loss: 0.6175 - accuracy: 0.7794 - val_loss: 0.6235 - val_accuracy: 0.7059\n",
            "Epoch 14/20\n",
            "3/3 [==============================] - 0s 24ms/step - loss: 0.6142 - accuracy: 0.7500 - val_loss: 0.6207 - val_accuracy: 0.7647\n",
            "Epoch 15/20\n",
            "3/3 [==============================] - 0s 14ms/step - loss: 0.6114 - accuracy: 0.7794 - val_loss: 0.6182 - val_accuracy: 0.7647\n",
            "Epoch 16/20\n",
            "3/3 [==============================] - 0s 14ms/step - loss: 0.6084 - accuracy: 0.7647 - val_loss: 0.6161 - val_accuracy: 0.7647\n",
            "Epoch 17/20\n",
            "3/3 [==============================] - 0s 13ms/step - loss: 0.6058 - accuracy: 0.7941 - val_loss: 0.6143 - val_accuracy: 0.7647\n",
            "Epoch 18/20\n",
            "3/3 [==============================] - 0s 15ms/step - loss: 0.6032 - accuracy: 0.7941 - val_loss: 0.6136 - val_accuracy: 0.7647\n",
            "Epoch 19/20\n",
            "3/3 [==============================] - 0s 15ms/step - loss: 0.6007 - accuracy: 0.7941 - val_loss: 0.6131 - val_accuracy: 0.7059\n",
            "Epoch 20/20\n",
            "3/3 [==============================] - 0s 12ms/step - loss: 0.5983 - accuracy: 0.7941 - val_loss: 0.6118 - val_accuracy: 0.7059\n"
          ]
        }
      ]
    },
    {
      "cell_type": "code",
      "source": [
        "avg_val_loss = [np.mean([x[i] for x in all_val_losses]) for i in range(num_epochs)]\n",
        "avg_train_loss = [np.mean([x[i] for x in all_train_losses]) for i in range(num_epochs)]\n",
        "avg_val_acc = [np.mean([x[i] for x in all_val_acc]) for i in range(num_epochs)]\n",
        "avg_train_acc = [np.mean([x[i] for x in all_train_acc]) for i in range(num_epochs)]"
      ],
      "metadata": {
        "id": "b78EsLKKV_d-"
      },
      "execution_count": null,
      "outputs": []
    },
    {
      "cell_type": "code",
      "source": [
        "plt.figure(figsize=(5, 3))\n",
        "plt.plot(range(1, len(avg_train_acc) + 1), avg_train_acc)\n",
        "plt.plot(range(1, len(avg_val_acc) + 1), avg_val_acc)\n",
        "plt.xlabel('Epochs')\n",
        "plt.ylabel('Accuracy')\n",
        "plt.title('Accuracy Summer/Winter')\n",
        "plt.legend(['Training', 'Validation'])\n",
        "plt.show()"
      ],
      "metadata": {
        "colab": {
          "base_uri": "https://localhost:8080/",
          "height": 333
        },
        "id": "kRl2IJ18WoxQ",
        "outputId": "0c6c212e-9f72-4a31-d347-ade0e2239906"
      },
      "execution_count": null,
      "outputs": [
        {
          "output_type": "display_data",
          "data": {
            "text/plain": [
              "<Figure size 500x300 with 1 Axes>"
            ],
            "image/png": "[encoded data removed]"
          },
          "metadata": {}
        }
      ]
    },
    {
      "cell_type": "code",
      "source": [
        "plt.figure(figsize=(5, 3))\n",
        "plt.plot(range(1, len(avg_train_loss) + 1), avg_train_loss)\n",
        "plt.plot(range(1, len(avg_val_loss)+ 1), avg_val_loss)\n",
        "plt.xlabel('Epochs')\n",
        "plt.ylabel('Loss')\n",
        "plt.title('Loss Summer/Winter')\n",
        "plt.legend(['Training', 'Validation'])\n",
        "plt.show()"
      ],
      "metadata": {
        "colab": {
          "base_uri": "https://localhost:8080/",
          "height": 333
        },
        "id": "hFfrFrYXaDhl",
        "outputId": "f8dc4524-c7c8-4383-cdcf-433373dd99fa"
      },
      "execution_count": null,
      "outputs": [
        {
          "output_type": "display_data",
          "data": {
            "text/plain": [
              "<Figure size 500x300 with 1 Axes>"
            ],
            "image/png": "[encoded data removed]"
          },
          "metadata": {}
        }
      ]
    },
    {
      "cell_type": "code",
      "source": [
        "avg_train_loss[-1]"
      ],
      "metadata": {
        "colab": {
          "base_uri": "https://localhost:8080/"
        },
        "id": "k3YyldwWfHey",
        "outputId": "2a34cadc-6b01-4b40-fbed-f1b78926e3fc"
      },
      "execution_count": null,
      "outputs": [
        {
          "output_type": "execute_result",
          "data": {
            "text/plain": [
              "0.6336442589759826"
            ]
          },
          "metadata": {},
          "execution_count": 337
        }
      ]
    },
    {
      "cell_type": "code",
      "source": [
        "avg_val_loss[-1]"
      ],
      "metadata": {
        "colab": {
          "base_uri": "https://localhost:8080/"
        },
        "id": "1v6BQNfkfKdF",
        "outputId": "81c44d97-7ab1-48bc-a124-02ef04e38af7"
      },
      "execution_count": null,
      "outputs": [
        {
          "output_type": "execute_result",
          "data": {
            "text/plain": [
              "0.6610906600952149"
            ]
          },
          "metadata": {},
          "execution_count": 338
        }
      ]
    },
    {
      "cell_type": "code",
      "source": [
        "model = build_model()\n",
        "model.fit(X_train, y_train, epochs=10, verbose=0)\n",
        "test_acc, test_loss = model.evaluate(X_test, y_test)"
      ],
      "metadata": {
        "colab": {
          "base_uri": "https://localhost:8080/"
        },
        "id": "k6NoFwZxaDqR",
        "outputId": "4a976965-fa19-4279-ddd2-f02c55f61b4f"
      },
      "execution_count": null,
      "outputs": [
        {
          "output_type": "stream",
          "name": "stdout",
          "text": [
            "1/1 [==============================] - 0s 106ms/step - loss: 0.6955 - accuracy: 0.6429\n"
          ]
        }
      ]
    },
    {
      "cell_type": "code",
      "source": [
        "def build_model():\n",
        "    model = keras.models.Sequential()\n",
        "    model.add(layers.Flatten(input_shape=(X_train.shape[1],)))\n",
        "    model.add(layers.Dense(16, activation='relu'))\n",
        "    model.add(layers.Dense(16, activation='relu'))\n",
        "    model.add(layers.Dense(1, activation='sigmoid'))\n",
        "    model.compile(loss='binary_crossentropy', optimizer=keras.optimizers.Adam(learning_rate=0.001), metrics=['accuracy'])\n",
        "    return model"
      ],
      "metadata": {
        "id": "JmQRCiIub0oe"
      },
      "execution_count": null,
      "outputs": []
    },
    {
      "cell_type": "code",
      "source": [
        "k = 5\n",
        "n = len(X_train)\n",
        "n_val = n // k\n",
        "num_epochs = 20\n",
        "all_val_losses = []\n",
        "all_train_losses = []\n",
        "all_train_acc = []\n",
        "all_val_acc = []\n",
        "\n",
        "for i in range(k):\n",
        "  print('processing fold #', i)\n",
        "  val_data = X_train[i * n_val: (i + 1) * n_val]\n",
        "  val_targets = y_train[i * n_val: (i + 1) * n_val]\n",
        "  X_train_part = np.concatenate([X_train[:i * n_val], X_train[(i + 1) * n_val:]], axis=0)\n",
        "  y_train_part = np.concatenate([y_train[:i * n_val], y_train[(i + 1) * n_val:]], axis=0)\n",
        "  model = build_model()\n",
        "  history = model.fit(X_train_part, y_train_part, validation_data=(val_data, val_targets), epochs=num_epochs)\n",
        "  val_history = history.history['val_loss']\n",
        "  train_history = history.history['loss']\n",
        "  val_acc = history.history['val_accuracy']\n",
        "  train_acc = history.history['accuracy']\n",
        "  all_train_losses.append(train_history)\n",
        "  all_val_losses.append(val_history)\n",
        "  all_train_acc.append(train_acc)\n",
        "  all_val_acc.append(val_acc)"
      ],
      "metadata": {
        "colab": {
          "base_uri": "https://localhost:8080/"
        },
        "id": "0Jdnfr83fyoQ",
        "outputId": "14b49119-4a99-48b6-c894-a277109b89a3"
      },
      "execution_count": null,
      "outputs": [
        {
          "output_type": "stream",
          "name": "stdout",
          "text": [
            "processing fold # 0\n",
            "Epoch 1/20\n",
            "3/3 [==============================] - 1s 129ms/step - loss: 0.7138 - accuracy: 0.5147 - val_loss: 0.7540 - val_accuracy: 0.5882\n",
            "Epoch 2/20\n",
            "3/3 [==============================] - 0s 44ms/step - loss: 0.6963 - accuracy: 0.5147 - val_loss: 0.7523 - val_accuracy: 0.5294\n",
            "Epoch 3/20\n",
            "3/3 [==============================] - 0s 28ms/step - loss: 0.6840 - accuracy: 0.5441 - val_loss: 0.7532 - val_accuracy: 0.5294\n",
            "Epoch 4/20\n",
            "3/3 [==============================] - 0s 27ms/step - loss: 0.6725 - accuracy: 0.5588 - val_loss: 0.7551 - val_accuracy: 0.5882\n",
            "Epoch 5/20\n",
            "3/3 [==============================] - 0s 40ms/step - loss: 0.6612 - accuracy: 0.5882 - val_loss: 0.7572 - val_accuracy: 0.5882\n",
            "Epoch 6/20\n",
            "3/3 [==============================] - 0s 22ms/step - loss: 0.6508 - accuracy: 0.6471 - val_loss: 0.7589 - val_accuracy: 0.5294\n",
            "Epoch 7/20\n",
            "3/3 [==============================] - 0s 30ms/step - loss: 0.6427 - accuracy: 0.6471 - val_loss: 0.7612 - val_accuracy: 0.5294\n",
            "Epoch 8/20\n",
            "3/3 [==============================] - 0s 22ms/step - loss: 0.6340 - accuracy: 0.6618 - val_loss: 0.7622 - val_accuracy: 0.5294\n",
            "Epoch 9/20\n",
            "3/3 [==============================] - 0s 29ms/step - loss: 0.6264 - accuracy: 0.6765 - val_loss: 0.7624 - val_accuracy: 0.5294\n",
            "Epoch 10/20\n",
            "3/3 [==============================] - 0s 28ms/step - loss: 0.6187 - accuracy: 0.6765 - val_loss: 0.7627 - val_accuracy: 0.5294\n",
            "Epoch 11/20\n",
            "3/3 [==============================] - 0s 13ms/step - loss: 0.6112 - accuracy: 0.6618 - val_loss: 0.7628 - val_accuracy: 0.5294\n",
            "Epoch 12/20\n",
            "3/3 [==============================] - 0s 13ms/step - loss: 0.6047 - accuracy: 0.6618 - val_loss: 0.7633 - val_accuracy: 0.5294\n",
            "Epoch 13/20\n",
            "3/3 [==============================] - 0s 13ms/step - loss: 0.5973 - accuracy: 0.6471 - val_loss: 0.7629 - val_accuracy: 0.4706\n",
            "Epoch 14/20\n",
            "3/3 [==============================] - 0s 23ms/step - loss: 0.5913 - accuracy: 0.6471 - val_loss: 0.7630 - val_accuracy: 0.4706\n",
            "Epoch 15/20\n",
            "3/3 [==============================] - 0s 12ms/step - loss: 0.5846 - accuracy: 0.6618 - val_loss: 0.7645 - val_accuracy: 0.4706\n",
            "Epoch 16/20\n",
            "3/3 [==============================] - 0s 13ms/step - loss: 0.5791 - accuracy: 0.6912 - val_loss: 0.7658 - val_accuracy: 0.5294\n",
            "Epoch 17/20\n",
            "3/3 [==============================] - 0s 12ms/step - loss: 0.5740 - accuracy: 0.7059 - val_loss: 0.7667 - val_accuracy: 0.5294\n",
            "Epoch 18/20\n",
            "3/3 [==============================] - 0s 12ms/step - loss: 0.5695 - accuracy: 0.7059 - val_loss: 0.7672 - val_accuracy: 0.5294\n",
            "Epoch 19/20\n",
            "3/3 [==============================] - 0s 13ms/step - loss: 0.5651 - accuracy: 0.7059 - val_loss: 0.7683 - val_accuracy: 0.5294\n",
            "Epoch 20/20\n",
            "3/3 [==============================] - 0s 13ms/step - loss: 0.5609 - accuracy: 0.7206 - val_loss: 0.7709 - val_accuracy: 0.5294\n",
            "processing fold # 1\n",
            "Epoch 1/20\n",
            "3/3 [==============================] - 1s 72ms/step - loss: 0.6834 - accuracy: 0.5294 - val_loss: 0.6950 - val_accuracy: 0.5882\n",
            "Epoch 2/20\n",
            "3/3 [==============================] - 0s 13ms/step - loss: 0.6743 - accuracy: 0.5441 - val_loss: 0.6926 - val_accuracy: 0.5294\n",
            "Epoch 3/20\n",
            "3/3 [==============================] - 0s 12ms/step - loss: 0.6663 - accuracy: 0.5882 - val_loss: 0.6906 - val_accuracy: 0.5294\n",
            "Epoch 4/20\n",
            "3/3 [==============================] - 0s 12ms/step - loss: 0.6590 - accuracy: 0.5882 - val_loss: 0.6894 - val_accuracy: 0.5294\n",
            "Epoch 5/20\n",
            "3/3 [==============================] - 0s 13ms/step - loss: 0.6524 - accuracy: 0.6324 - val_loss: 0.6883 - val_accuracy: 0.5294\n",
            "Epoch 6/20\n",
            "3/3 [==============================] - 0s 13ms/step - loss: 0.6462 - accuracy: 0.6618 - val_loss: 0.6877 - val_accuracy: 0.5294\n",
            "Epoch 7/20\n",
            "3/3 [==============================] - 0s 15ms/step - loss: 0.6405 - accuracy: 0.6765 - val_loss: 0.6876 - val_accuracy: 0.5882\n",
            "Epoch 8/20\n",
            "3/3 [==============================] - 0s 15ms/step - loss: 0.6354 - accuracy: 0.7059 - val_loss: 0.6871 - val_accuracy: 0.5882\n",
            "Epoch 9/20\n",
            "3/3 [==============================] - 0s 12ms/step - loss: 0.6303 - accuracy: 0.7206 - val_loss: 0.6839 - val_accuracy: 0.5882\n",
            "Epoch 10/20\n",
            "3/3 [==============================] - 0s 13ms/step - loss: 0.6256 - accuracy: 0.6912 - val_loss: 0.6798 - val_accuracy: 0.5882\n",
            "Epoch 11/20\n",
            "3/3 [==============================] - 0s 12ms/step - loss: 0.6209 - accuracy: 0.6765 - val_loss: 0.6761 - val_accuracy: 0.5882\n",
            "Epoch 12/20\n",
            "3/3 [==============================] - 0s 12ms/step - loss: 0.6170 - accuracy: 0.6618 - val_loss: 0.6729 - val_accuracy: 0.6471\n",
            "Epoch 13/20\n",
            "3/3 [==============================] - 0s 13ms/step - loss: 0.6128 - accuracy: 0.6618 - val_loss: 0.6708 - val_accuracy: 0.6471\n",
            "Epoch 14/20\n",
            "3/3 [==============================] - 0s 11ms/step - loss: 0.6091 - accuracy: 0.6765 - val_loss: 0.6700 - val_accuracy: 0.6471\n",
            "Epoch 15/20\n",
            "3/3 [==============================] - 0s 12ms/step - loss: 0.6054 - accuracy: 0.6765 - val_loss: 0.6710 - val_accuracy: 0.7059\n",
            "Epoch 16/20\n",
            "3/3 [==============================] - 0s 12ms/step - loss: 0.6014 - accuracy: 0.6765 - val_loss: 0.6736 - val_accuracy: 0.7059\n",
            "Epoch 17/20\n",
            "3/3 [==============================] - 0s 11ms/step - loss: 0.5975 - accuracy: 0.6765 - val_loss: 0.6773 - val_accuracy: 0.6471\n",
            "Epoch 18/20\n",
            "3/3 [==============================] - 0s 11ms/step - loss: 0.5938 - accuracy: 0.6765 - val_loss: 0.6803 - val_accuracy: 0.6471\n",
            "Epoch 19/20\n",
            "3/3 [==============================] - 0s 13ms/step - loss: 0.5903 - accuracy: 0.6765 - val_loss: 0.6822 - val_accuracy: 0.6471\n",
            "Epoch 20/20\n",
            "3/3 [==============================] - 0s 11ms/step - loss: 0.5865 - accuracy: 0.6765 - val_loss: 0.6822 - val_accuracy: 0.6471\n",
            "processing fold # 2\n",
            "Epoch 1/20\n",
            "3/3 [==============================] - 1s 78ms/step - loss: 0.7359 - accuracy: 0.4853 - val_loss: 0.6680 - val_accuracy: 0.5882\n",
            "Epoch 2/20\n",
            "3/3 [==============================] - 0s 25ms/step - loss: 0.7233 - accuracy: 0.4853 - val_loss: 0.6693 - val_accuracy: 0.5882\n",
            "Epoch 3/20\n",
            "3/3 [==============================] - 0s 14ms/step - loss: 0.7134 - accuracy: 0.4706 - val_loss: 0.6698 - val_accuracy: 0.5882\n",
            "Epoch 4/20\n",
            "3/3 [==============================] - 0s 14ms/step - loss: 0.7041 - accuracy: 0.5000 - val_loss: 0.6714 - val_accuracy: 0.5882\n",
            "Epoch 5/20\n",
            "3/3 [==============================] - 0s 24ms/step - loss: 0.6962 - accuracy: 0.5000 - val_loss: 0.6734 - val_accuracy: 0.5882\n",
            "Epoch 6/20\n",
            "3/3 [==============================] - 0s 17ms/step - loss: 0.6885 - accuracy: 0.4853 - val_loss: 0.6754 - val_accuracy: 0.5882\n",
            "Epoch 7/20\n",
            "3/3 [==============================] - 0s 18ms/step - loss: 0.6811 - accuracy: 0.5147 - val_loss: 0.6772 - val_accuracy: 0.5882\n",
            "Epoch 8/20\n",
            "3/3 [==============================] - 0s 15ms/step - loss: 0.6740 - accuracy: 0.5147 - val_loss: 0.6788 - val_accuracy: 0.5882\n",
            "Epoch 9/20\n",
            "3/3 [==============================] - 0s 14ms/step - loss: 0.6674 - accuracy: 0.5147 - val_loss: 0.6808 - val_accuracy: 0.5882\n",
            "Epoch 10/20\n",
            "3/3 [==============================] - 0s 14ms/step - loss: 0.6620 - accuracy: 0.5294 - val_loss: 0.6832 - val_accuracy: 0.6471\n",
            "Epoch 11/20\n",
            "3/3 [==============================] - 0s 15ms/step - loss: 0.6553 - accuracy: 0.5441 - val_loss: 0.6860 - val_accuracy: 0.6471\n",
            "Epoch 12/20\n",
            "3/3 [==============================] - 0s 14ms/step - loss: 0.6494 - accuracy: 0.5588 - val_loss: 0.6891 - val_accuracy: 0.6471\n",
            "Epoch 13/20\n",
            "3/3 [==============================] - 0s 15ms/step - loss: 0.6439 - accuracy: 0.5588 - val_loss: 0.6924 - val_accuracy: 0.5882\n",
            "Epoch 14/20\n",
            "3/3 [==============================] - 0s 17ms/step - loss: 0.6386 - accuracy: 0.5882 - val_loss: 0.6962 - val_accuracy: 0.5882\n",
            "Epoch 15/20\n",
            "3/3 [==============================] - 0s 16ms/step - loss: 0.6332 - accuracy: 0.6176 - val_loss: 0.6995 - val_accuracy: 0.6471\n",
            "Epoch 16/20\n",
            "3/3 [==============================] - 0s 13ms/step - loss: 0.6291 - accuracy: 0.6765 - val_loss: 0.7022 - val_accuracy: 0.6471\n",
            "Epoch 17/20\n",
            "3/3 [==============================] - 0s 12ms/step - loss: 0.6242 - accuracy: 0.7059 - val_loss: 0.7051 - val_accuracy: 0.6471\n",
            "Epoch 18/20\n",
            "3/3 [==============================] - 0s 15ms/step - loss: 0.6196 - accuracy: 0.7059 - val_loss: 0.7074 - val_accuracy: 0.5882\n",
            "Epoch 19/20\n",
            "3/3 [==============================] - 0s 13ms/step - loss: 0.6156 - accuracy: 0.7059 - val_loss: 0.7095 - val_accuracy: 0.5882\n",
            "Epoch 20/20\n",
            "3/3 [==============================] - 0s 12ms/step - loss: 0.6114 - accuracy: 0.7059 - val_loss: 0.7115 - val_accuracy: 0.5882\n",
            "processing fold # 3\n",
            "Epoch 1/20\n",
            "3/3 [==============================] - 1s 76ms/step - loss: 0.8714 - accuracy: 0.3971 - val_loss: 0.7682 - val_accuracy: 0.4118\n",
            "Epoch 2/20\n",
            "3/3 [==============================] - 0s 13ms/step - loss: 0.8477 - accuracy: 0.3971 - val_loss: 0.7552 - val_accuracy: 0.3529\n",
            "Epoch 3/20\n",
            "3/3 [==============================] - 0s 13ms/step - loss: 0.8307 - accuracy: 0.3971 - val_loss: 0.7439 - val_accuracy: 0.3529\n",
            "Epoch 4/20\n",
            "3/3 [==============================] - 0s 14ms/step - loss: 0.8148 - accuracy: 0.3824 - val_loss: 0.7337 - val_accuracy: 0.4118\n",
            "Epoch 5/20\n",
            "3/3 [==============================] - 0s 13ms/step - loss: 0.8024 - accuracy: 0.3824 - val_loss: 0.7251 - val_accuracy: 0.4706\n",
            "Epoch 6/20\n",
            "3/3 [==============================] - 0s 13ms/step - loss: 0.7907 - accuracy: 0.3824 - val_loss: 0.7175 - val_accuracy: 0.4706\n",
            "Epoch 7/20\n",
            "3/3 [==============================] - 0s 13ms/step - loss: 0.7798 - accuracy: 0.3971 - val_loss: 0.7110 - val_accuracy: 0.4706\n",
            "Epoch 8/20\n",
            "3/3 [==============================] - 0s 14ms/step - loss: 0.7705 - accuracy: 0.4118 - val_loss: 0.7050 - val_accuracy: 0.4706\n",
            "Epoch 9/20\n",
            "3/3 [==============================] - 0s 15ms/step - loss: 0.7614 - accuracy: 0.3824 - val_loss: 0.6994 - val_accuracy: 0.4706\n",
            "Epoch 10/20\n",
            "3/3 [==============================] - 0s 12ms/step - loss: 0.7536 - accuracy: 0.3971 - val_loss: 0.6944 - val_accuracy: 0.4706\n",
            "Epoch 11/20\n",
            "3/3 [==============================] - 0s 13ms/step - loss: 0.7448 - accuracy: 0.4118 - val_loss: 0.6895 - val_accuracy: 0.4706\n",
            "Epoch 12/20\n",
            "3/3 [==============================] - 0s 13ms/step - loss: 0.7358 - accuracy: 0.4265 - val_loss: 0.6839 - val_accuracy: 0.5882\n",
            "Epoch 13/20\n",
            "3/3 [==============================] - 0s 14ms/step - loss: 0.7270 - accuracy: 0.4412 - val_loss: 0.6786 - val_accuracy: 0.5882\n",
            "Epoch 14/20\n",
            "3/3 [==============================] - 0s 14ms/step - loss: 0.7178 - accuracy: 0.4412 - val_loss: 0.6729 - val_accuracy: 0.5882\n",
            "Epoch 15/20\n",
            "3/3 [==============================] - 0s 12ms/step - loss: 0.7098 - accuracy: 0.4559 - val_loss: 0.6670 - val_accuracy: 0.5882\n",
            "Epoch 16/20\n",
            "3/3 [==============================] - 0s 21ms/step - loss: 0.7013 - accuracy: 0.4559 - val_loss: 0.6621 - val_accuracy: 0.5882\n",
            "Epoch 17/20\n",
            "3/3 [==============================] - 0s 12ms/step - loss: 0.6945 - accuracy: 0.5441 - val_loss: 0.6586 - val_accuracy: 0.5294\n",
            "Epoch 18/20\n",
            "3/3 [==============================] - 0s 13ms/step - loss: 0.6865 - accuracy: 0.5294 - val_loss: 0.6564 - val_accuracy: 0.5294\n",
            "Epoch 19/20\n",
            "3/3 [==============================] - 0s 21ms/step - loss: 0.6801 - accuracy: 0.5735 - val_loss: 0.6543 - val_accuracy: 0.5294\n",
            "Epoch 20/20\n",
            "3/3 [==============================] - 0s 26ms/step - loss: 0.6744 - accuracy: 0.5882 - val_loss: 0.6512 - val_accuracy: 0.5294\n",
            "processing fold # 4\n",
            "Epoch 1/20\n",
            "3/3 [==============================] - 1s 153ms/step - loss: 0.6822 - accuracy: 0.5294 - val_loss: 0.6216 - val_accuracy: 0.4706\n",
            "Epoch 2/20\n",
            "3/3 [==============================] - 0s 73ms/step - loss: 0.6727 - accuracy: 0.5588 - val_loss: 0.6183 - val_accuracy: 0.4706\n",
            "Epoch 3/20\n",
            "3/3 [==============================] - 0s 48ms/step - loss: 0.6660 - accuracy: 0.5882 - val_loss: 0.6164 - val_accuracy: 0.5294\n",
            "Epoch 4/20\n",
            "3/3 [==============================] - 0s 51ms/step - loss: 0.6589 - accuracy: 0.6324 - val_loss: 0.6160 - val_accuracy: 0.5882\n",
            "Epoch 5/20\n",
            "3/3 [==============================] - 0s 71ms/step - loss: 0.6533 - accuracy: 0.6471 - val_loss: 0.6168 - val_accuracy: 0.5882\n",
            "Epoch 6/20\n",
            "3/3 [==============================] - 0s 54ms/step - loss: 0.6479 - accuracy: 0.6471 - val_loss: 0.6169 - val_accuracy: 0.5882\n",
            "Epoch 7/20\n",
            "3/3 [==============================] - 0s 44ms/step - loss: 0.6431 - accuracy: 0.6618 - val_loss: 0.6179 - val_accuracy: 0.5882\n",
            "Epoch 8/20\n",
            "3/3 [==============================] - 0s 35ms/step - loss: 0.6381 - accuracy: 0.6618 - val_loss: 0.6173 - val_accuracy: 0.6471\n",
            "Epoch 9/20\n",
            "3/3 [==============================] - 0s 70ms/step - loss: 0.6332 - accuracy: 0.6765 - val_loss: 0.6154 - val_accuracy: 0.6471\n",
            "Epoch 10/20\n",
            "3/3 [==============================] - 0s 53ms/step - loss: 0.6286 - accuracy: 0.7059 - val_loss: 0.6121 - val_accuracy: 0.6471\n",
            "Epoch 11/20\n",
            "3/3 [==============================] - 0s 41ms/step - loss: 0.6244 - accuracy: 0.7206 - val_loss: 0.6087 - val_accuracy: 0.6471\n",
            "Epoch 12/20\n",
            "3/3 [==============================] - 0s 76ms/step - loss: 0.6200 - accuracy: 0.7206 - val_loss: 0.6067 - val_accuracy: 0.6471\n",
            "Epoch 13/20\n",
            "3/3 [==============================] - 0s 48ms/step - loss: 0.6161 - accuracy: 0.7353 - val_loss: 0.6057 - val_accuracy: 0.6471\n",
            "Epoch 14/20\n",
            "3/3 [==============================] - 0s 68ms/step - loss: 0.6118 - accuracy: 0.7500 - val_loss: 0.6038 - val_accuracy: 0.6471\n",
            "Epoch 15/20\n",
            "3/3 [==============================] - 0s 54ms/step - loss: 0.6078 - accuracy: 0.7647 - val_loss: 0.6019 - val_accuracy: 0.5882\n",
            "Epoch 16/20\n",
            "3/3 [==============================] - 0s 45ms/step - loss: 0.6046 - accuracy: 0.7647 - val_loss: 0.6004 - val_accuracy: 0.5882\n",
            "Epoch 17/20\n",
            "3/3 [==============================] - 0s 54ms/step - loss: 0.6016 - accuracy: 0.7647 - val_loss: 0.5979 - val_accuracy: 0.5882\n",
            "Epoch 18/20\n",
            "3/3 [==============================] - 0s 44ms/step - loss: 0.5988 - accuracy: 0.7647 - val_loss: 0.5962 - val_accuracy: 0.5882\n",
            "Epoch 19/20\n",
            "3/3 [==============================] - 0s 55ms/step - loss: 0.5960 - accuracy: 0.7794 - val_loss: 0.5935 - val_accuracy: 0.5882\n",
            "Epoch 20/20\n",
            "3/3 [==============================] - 0s 52ms/step - loss: 0.5935 - accuracy: 0.7794 - val_loss: 0.5910 - val_accuracy: 0.5882\n"
          ]
        }
      ]
    },
    {
      "cell_type": "code",
      "source": [
        "avg_val_loss = [np.mean([x[i] for x in all_val_losses]) for i in range(num_epochs)]\n",
        "avg_train_loss = [np.mean([x[i] for x in all_train_losses]) for i in range(num_epochs)]\n",
        "avg_val_acc = [np.mean([x[i] for x in all_val_acc]) for i in range(num_epochs)]\n",
        "avg_train_acc = [np.mean([x[i] for x in all_train_acc]) for i in range(num_epochs)]"
      ],
      "metadata": {
        "id": "8UxRz-OSf0FC"
      },
      "execution_count": null,
      "outputs": []
    },
    {
      "cell_type": "code",
      "source": [
        "plt.figure(figsize=(5, 3))\n",
        "plt.plot(range(1, len(avg_train_acc) + 1), avg_train_acc)\n",
        "plt.plot(range(1, len(avg_val_acc) + 1), avg_val_acc)\n",
        "plt.xlabel('Epochs')\n",
        "plt.ylabel('Accuracy')\n",
        "plt.title('Accuracy Summer/Winter')\n",
        "plt.legend(['Training', 'Validation'])\n",
        "plt.show()"
      ],
      "metadata": {
        "colab": {
          "base_uri": "https://localhost:8080/",
          "height": 333
        },
        "id": "Ml6eccDmf2ap",
        "outputId": "c3262a0e-13be-4779-9f42-59d5a3acbdea"
      },
      "execution_count": null,
      "outputs": [
        {
          "output_type": "display_data",
          "data": {
            "text/plain": [
              "<Figure size 500x300 with 1 Axes>"
            ],
            "image/png": "[encoded data removed]"
          },
          "metadata": {}
        }
      ]
    },
    {
      "cell_type": "code",
      "source": [
        "plt.figure(figsize=(5, 3))\n",
        "plt.plot(range(1, len(avg_train_loss) + 1), avg_train_loss)\n",
        "plt.plot(range(1, len(avg_val_loss)+ 1), avg_val_loss)\n",
        "plt.xlabel('Epochs')\n",
        "plt.ylabel('Loss')\n",
        "plt.title('Loss Summer/Winter')\n",
        "plt.legend(['Training', 'Validation'])\n",
        "plt.show()"
      ],
      "metadata": {
        "colab": {
          "base_uri": "https://localhost:8080/",
          "height": 333
        },
        "id": "P7ern_0zf4NK",
        "outputId": "00210182-2d6b-40ff-dd41-e03602b43ba3"
      },
      "execution_count": null,
      "outputs": [
        {
          "output_type": "display_data",
          "data": {
            "text/plain": [
              "<Figure size 500x300 with 1 Axes>"
            ],
            "image/png": "[encoded data removed]"
          },
          "metadata": {}
        }
      ]
    },
    {
      "cell_type": "code",
      "source": [
        "model = build_model()\n",
        "model.fit(X_train, y_train, epochs=10, verbose=0)\n",
        "test_acc, test_loss = model.evaluate(X_test, y_test)"
      ],
      "metadata": {
        "colab": {
          "base_uri": "https://localhost:8080/"
        },
        "id": "3WYl0aJSf59N",
        "outputId": "9f4fbcea-686d-470e-cd96-b62935e787b0"
      },
      "execution_count": null,
      "outputs": [
        {
          "output_type": "stream",
          "name": "stdout",
          "text": [
            "1/1 [==============================] - 0s 131ms/step - loss: 0.6891 - accuracy: 0.5000\n"
          ]
        }
      ]
    },
    {
      "cell_type": "markdown",
      "source": [
        "### all"
      ],
      "metadata": {
        "id": "vDgqlHCZke1C"
      }
    },
    {
      "cell_type": "code",
      "source": [
        "all = pd.read_csv(os.path.join(data_root, 'mean_shuffled.csv'))"
      ],
      "metadata": {
        "id": "j-QlcjRLgCEk"
      },
      "execution_count": null,
      "outputs": []
    },
    {
      "cell_type": "code",
      "source": [
        "from sklearn.preprocessing import LabelEncoder\n",
        "le = LabelEncoder()\n",
        "all['label'] = le.fit_transform(all['label'])"
      ],
      "metadata": {
        "id": "C-_VPVXplMow"
      },
      "execution_count": null,
      "outputs": []
    },
    {
      "cell_type": "code",
      "source": [
        "all.sample(frac=1, random_state=42).reset_index(drop=True)\n",
        "X_train_full = all.iloc[:, :-1]\n",
        "y_train_full = all['label']"
      ],
      "metadata": {
        "id": "cqd93BMJkZ0x"
      },
      "execution_count": null,
      "outputs": []
    },
    {
      "cell_type": "code",
      "source": [
        "X_train_full.shape"
      ],
      "metadata": {
        "colab": {
          "base_uri": "https://localhost:8080/"
        },
        "id": "7a97WIVqklHd",
        "outputId": "26a3a224-8c8a-42a5-d70b-0a4cbad4a955"
      },
      "execution_count": null,
      "outputs": [
        {
          "output_type": "execute_result",
          "data": {
            "text/plain": [
              "(188, 12)"
            ]
          },
          "metadata": {},
          "execution_count": 382
        }
      ]
    },
    {
      "cell_type": "code",
      "source": [
        "test_size = int(len(X_train_full) * .1)\n",
        "test_size"
      ],
      "metadata": {
        "colab": {
          "base_uri": "https://localhost:8080/"
        },
        "id": "vyZhi-LskgxT",
        "outputId": "f86f62ed-cc8e-4e4b-cb93-6aa9b25177d2"
      },
      "execution_count": null,
      "outputs": [
        {
          "output_type": "execute_result",
          "data": {
            "text/plain": [
              "18"
            ]
          },
          "metadata": {},
          "execution_count": 396
        }
      ]
    },
    {
      "cell_type": "code",
      "source": [
        "X_train = X_train_full[test_size:].to_numpy()\n",
        "y_train = y_train_full[test_size:].to_numpy()\n",
        "X_test = X_train_full[:test_size].to_numpy()\n",
        "y_test = y_train_full[:test_size].to_numpy()"
      ],
      "metadata": {
        "id": "t59v-OOekpNT"
      },
      "execution_count": null,
      "outputs": []
    },
    {
      "cell_type": "code",
      "source": [
        "X_train = np.copy(X_train)\n",
        "mean = X_train.mean(axis=0)\n",
        "X_train -= mean\n",
        "std = X_train.std(axis=0)\n",
        "X_train /= std\n",
        "\n",
        "X_test = np.copy(X_test)\n",
        "X_test -= mean\n",
        "X_test /= std"
      ],
      "metadata": {
        "id": "3MNWi117kscL"
      },
      "execution_count": null,
      "outputs": []
    },
    {
      "cell_type": "code",
      "source": [
        "from tensorflow.keras.optimizers.schedules import ExponentialDecay\n",
        "\n",
        "lr_schedule = ExponentialDecay(\n",
        "    0.001,\n",
        "    decay_steps=20,\n",
        "    decay_rate=0.9,\n",
        "    staircase=True)"
      ],
      "metadata": {
        "id": "GtlJofqykxdG"
      },
      "execution_count": null,
      "outputs": []
    },
    {
      "cell_type": "code",
      "source": [
        "y_test"
      ],
      "metadata": {
        "colab": {
          "base_uri": "https://localhost:8080/"
        },
        "id": "mzC-EVbrlI2K",
        "outputId": "293f12ad-510d-4f6b-b60e-3d8f68cf61fe"
      },
      "execution_count": null,
      "outputs": [
        {
          "output_type": "execute_result",
          "data": {
            "text/plain": [
              "array([0, 3, 1, 2, 1, 0, 3, 2, 1, 2, 0, 1, 3, 0, 0, 1, 0, 1])"
            ]
          },
          "metadata": {},
          "execution_count": 400
        }
      ]
    },
    {
      "cell_type": "code",
      "source": [
        "def build_model():\n",
        "    model = keras.models.Sequential()\n",
        "    model.add(layers.Flatten(input_shape=(X_train.shape[1],)))\n",
        "    model.add(layers.Dense(16, activation='relu'))\n",
        "    model.add(layers.Dense(16, activation='relu'))\n",
        "    model.add(layers.Dense(4, activation='softmax'))\n",
        "    model.compile(loss='sparse_categorical_crossentropy', optimizer=keras.optimizers.Adam(learning_rate=0.001), metrics=['accuracy'])\n",
        "    return model"
      ],
      "metadata": {
        "id": "KQ_MPTTVk9Iw"
      },
      "execution_count": null,
      "outputs": []
    },
    {
      "cell_type": "code",
      "source": [
        "k = 5\n",
        "n = len(X_train)\n",
        "n_val = n // k\n",
        "num_epochs = 20\n",
        "all_train_losses = []\n",
        "all_train_acc = []\n",
        "\n",
        "for i in range(k):\n",
        "  print('processing fold #', i)\n",
        "  model = build_model()\n",
        "  history = model.fit(X_train, y_train, epochs=num_epochs)\n",
        "  train_history = history.history['loss']\n",
        "  train_acc = history.history['accuracy']\n",
        "  all_train_losses.append(train_history)\n",
        "  all_train_acc.append(train_acc)"
      ],
      "metadata": {
        "colab": {
          "base_uri": "https://localhost:8080/"
        },
        "id": "bR6hVUUQlf_P",
        "outputId": "aacaba1c-4fc8-4db1-9305-2c8efc87f7f7"
      },
      "execution_count": null,
      "outputs": [
        {
          "output_type": "stream",
          "name": "stdout",
          "text": [
            "processing fold # 0\n",
            "Epoch 1/20\n",
            "6/6 [==============================] - 1s 2ms/step - loss: 1.5476 - accuracy: 0.2412\n",
            "Epoch 2/20\n",
            "6/6 [==============================] - 0s 2ms/step - loss: 1.4843 - accuracy: 0.2765\n",
            "Epoch 3/20\n",
            "6/6 [==============================] - 0s 3ms/step - loss: 1.4269 - accuracy: 0.2824\n",
            "Epoch 4/20\n",
            "6/6 [==============================] - 0s 2ms/step - loss: 1.3791 - accuracy: 0.3059\n",
            "Epoch 5/20\n",
            "6/6 [==============================] - 0s 2ms/step - loss: 1.3314 - accuracy: 0.3353\n",
            "Epoch 6/20\n",
            "6/6 [==============================] - 0s 2ms/step - loss: 1.2854 - accuracy: 0.3824\n",
            "Epoch 7/20\n",
            "6/6 [==============================] - 0s 2ms/step - loss: 1.2412 - accuracy: 0.4471\n",
            "Epoch 8/20\n",
            "6/6 [==============================] - 0s 2ms/step - loss: 1.1982 - accuracy: 0.4529\n",
            "Epoch 9/20\n",
            "6/6 [==============================] - 0s 2ms/step - loss: 1.1575 - accuracy: 0.4765\n",
            "Epoch 10/20\n",
            "6/6 [==============================] - 0s 3ms/step - loss: 1.1145 - accuracy: 0.5176\n",
            "Epoch 11/20\n",
            "6/6 [==============================] - 0s 3ms/step - loss: 1.0743 - accuracy: 0.5471\n",
            "Epoch 12/20\n",
            "6/6 [==============================] - 0s 2ms/step - loss: 1.0362 - accuracy: 0.5824\n",
            "Epoch 13/20\n",
            "6/6 [==============================] - 0s 2ms/step - loss: 1.0009 - accuracy: 0.6294\n",
            "Epoch 14/20\n",
            "6/6 [==============================] - 0s 2ms/step - loss: 0.9664 - accuracy: 0.6412\n",
            "Epoch 15/20\n",
            "6/6 [==============================] - 0s 3ms/step - loss: 0.9346 - accuracy: 0.6412\n",
            "Epoch 16/20\n",
            "6/6 [==============================] - 0s 3ms/step - loss: 0.9040 - accuracy: 0.6706\n",
            "Epoch 17/20\n",
            "6/6 [==============================] - 0s 2ms/step - loss: 0.8764 - accuracy: 0.6529\n",
            "Epoch 18/20\n",
            "6/6 [==============================] - 0s 2ms/step - loss: 0.8501 - accuracy: 0.6529\n",
            "Epoch 19/20\n",
            "6/6 [==============================] - 0s 3ms/step - loss: 0.8254 - accuracy: 0.6588\n",
            "Epoch 20/20\n",
            "6/6 [==============================] - 0s 3ms/step - loss: 0.8037 - accuracy: 0.6706\n",
            "processing fold # 1\n",
            "Epoch 1/20\n",
            "6/6 [==============================] - 1s 3ms/step - loss: 1.4617 - accuracy: 0.2353\n",
            "Epoch 2/20\n",
            "6/6 [==============================] - 0s 4ms/step - loss: 1.4036 - accuracy: 0.2765\n",
            "Epoch 3/20\n",
            "6/6 [==============================] - 0s 2ms/step - loss: 1.3545 - accuracy: 0.3235\n",
            "Epoch 4/20\n",
            "6/6 [==============================] - 0s 2ms/step - loss: 1.3131 - accuracy: 0.3471\n",
            "Epoch 5/20\n",
            "6/6 [==============================] - 0s 2ms/step - loss: 1.2734 - accuracy: 0.3706\n",
            "Epoch 6/20\n",
            "6/6 [==============================] - 0s 3ms/step - loss: 1.2370 - accuracy: 0.3882\n",
            "Epoch 7/20\n",
            "6/6 [==============================] - 0s 2ms/step - loss: 1.2052 - accuracy: 0.4118\n",
            "Epoch 8/20\n",
            "6/6 [==============================] - 0s 2ms/step - loss: 1.1743 - accuracy: 0.4412\n",
            "Epoch 9/20\n",
            "6/6 [==============================] - 0s 3ms/step - loss: 1.1459 - accuracy: 0.5059\n",
            "Epoch 10/20\n",
            "6/6 [==============================] - 0s 2ms/step - loss: 1.1178 - accuracy: 0.5235\n",
            "Epoch 11/20\n",
            "6/6 [==============================] - 0s 2ms/step - loss: 1.0920 - accuracy: 0.5647\n",
            "Epoch 12/20\n",
            "6/6 [==============================] - 0s 3ms/step - loss: 1.0657 - accuracy: 0.6059\n",
            "Epoch 13/20\n",
            "6/6 [==============================] - 0s 2ms/step - loss: 1.0414 - accuracy: 0.6235\n",
            "Epoch 14/20\n",
            "6/6 [==============================] - 0s 2ms/step - loss: 1.0161 - accuracy: 0.6294\n",
            "Epoch 15/20\n",
            "6/6 [==============================] - 0s 3ms/step - loss: 0.9898 - accuracy: 0.6353\n",
            "Epoch 16/20\n",
            "6/6 [==============================] - 0s 3ms/step - loss: 0.9639 - accuracy: 0.6412\n",
            "Epoch 17/20\n",
            "6/6 [==============================] - 0s 3ms/step - loss: 0.9370 - accuracy: 0.6471\n",
            "Epoch 18/20\n",
            "6/6 [==============================] - 0s 3ms/step - loss: 0.9098 - accuracy: 0.6471\n",
            "Epoch 19/20\n",
            "6/6 [==============================] - 0s 2ms/step - loss: 0.8816 - accuracy: 0.6471\n",
            "Epoch 20/20\n",
            "6/6 [==============================] - 0s 2ms/step - loss: 0.8540 - accuracy: 0.6471\n",
            "processing fold # 2\n",
            "Epoch 1/20\n",
            "6/6 [==============================] - 1s 3ms/step - loss: 1.3570 - accuracy: 0.2765\n",
            "Epoch 2/20\n",
            "6/6 [==============================] - 0s 2ms/step - loss: 1.2962 - accuracy: 0.3059\n",
            "Epoch 3/20\n",
            "6/6 [==============================] - 0s 2ms/step - loss: 1.2471 - accuracy: 0.3294\n",
            "Epoch 4/20\n",
            "6/6 [==============================] - 0s 4ms/step - loss: 1.2051 - accuracy: 0.3882\n",
            "Epoch 5/20\n",
            "6/6 [==============================] - 0s 3ms/step - loss: 1.1647 - accuracy: 0.4235\n",
            "Epoch 6/20\n",
            "6/6 [==============================] - 0s 2ms/step - loss: 1.1285 - accuracy: 0.5059\n",
            "Epoch 7/20\n",
            "6/6 [==============================] - 0s 2ms/step - loss: 1.0964 - accuracy: 0.5353\n",
            "Epoch 8/20\n",
            "6/6 [==============================] - 0s 2ms/step - loss: 1.0663 - accuracy: 0.5471\n",
            "Epoch 9/20\n",
            "6/6 [==============================] - 0s 3ms/step - loss: 1.0379 - accuracy: 0.5529\n",
            "Epoch 10/20\n",
            "6/6 [==============================] - 0s 2ms/step - loss: 1.0133 - accuracy: 0.5529\n",
            "Epoch 11/20\n",
            "6/6 [==============================] - 0s 2ms/step - loss: 0.9864 - accuracy: 0.5765\n",
            "Epoch 12/20\n",
            "6/6 [==============================] - 0s 2ms/step - loss: 0.9617 - accuracy: 0.5824\n",
            "Epoch 13/20\n",
            "6/6 [==============================] - 0s 3ms/step - loss: 0.9381 - accuracy: 0.5941\n",
            "Epoch 14/20\n",
            "6/6 [==============================] - 0s 3ms/step - loss: 0.9146 - accuracy: 0.6059\n",
            "Epoch 15/20\n",
            "6/6 [==============================] - 0s 2ms/step - loss: 0.8917 - accuracy: 0.6412\n",
            "Epoch 16/20\n",
            "6/6 [==============================] - 0s 3ms/step - loss: 0.8693 - accuracy: 0.6529\n",
            "Epoch 17/20\n",
            "6/6 [==============================] - 0s 2ms/step - loss: 0.8480 - accuracy: 0.6529\n",
            "Epoch 18/20\n",
            "6/6 [==============================] - 0s 2ms/step - loss: 0.8275 - accuracy: 0.6824\n",
            "Epoch 19/20\n",
            "6/6 [==============================] - 0s 2ms/step - loss: 0.8062 - accuracy: 0.6824\n",
            "Epoch 20/20\n",
            "6/6 [==============================] - 0s 2ms/step - loss: 0.7869 - accuracy: 0.7059\n",
            "processing fold # 3\n",
            "Epoch 1/20\n",
            "6/6 [==============================] - 1s 4ms/step - loss: 1.4997 - accuracy: 0.2941\n",
            "Epoch 2/20\n",
            "6/6 [==============================] - 0s 4ms/step - loss: 1.4235 - accuracy: 0.2882\n",
            "Epoch 3/20\n",
            "6/6 [==============================] - 0s 2ms/step - loss: 1.3583 - accuracy: 0.3000\n",
            "Epoch 4/20\n",
            "6/6 [==============================] - 0s 2ms/step - loss: 1.3043 - accuracy: 0.3176\n",
            "Epoch 5/20\n",
            "6/6 [==============================] - 0s 3ms/step - loss: 1.2583 - accuracy: 0.3647\n",
            "Epoch 6/20\n",
            "6/6 [==============================] - 0s 3ms/step - loss: 1.2159 - accuracy: 0.3941\n",
            "Epoch 7/20\n",
            "6/6 [==============================] - 0s 3ms/step - loss: 1.1776 - accuracy: 0.4824\n",
            "Epoch 8/20\n",
            "6/6 [==============================] - 0s 3ms/step - loss: 1.1425 - accuracy: 0.5529\n",
            "Epoch 9/20\n",
            "6/6 [==============================] - 0s 3ms/step - loss: 1.1082 - accuracy: 0.5706\n",
            "Epoch 10/20\n",
            "6/6 [==============================] - 0s 3ms/step - loss: 1.0769 - accuracy: 0.6059\n",
            "Epoch 11/20\n",
            "6/6 [==============================] - 0s 3ms/step - loss: 1.0445 - accuracy: 0.6412\n",
            "Epoch 12/20\n",
            "6/6 [==============================] - 0s 3ms/step - loss: 1.0140 - accuracy: 0.6588\n",
            "Epoch 13/20\n",
            "6/6 [==============================] - 0s 3ms/step - loss: 0.9860 - accuracy: 0.6824\n",
            "Epoch 14/20\n",
            "6/6 [==============================] - 0s 3ms/step - loss: 0.9574 - accuracy: 0.6941\n",
            "Epoch 15/20\n",
            "6/6 [==============================] - 0s 3ms/step - loss: 0.9320 - accuracy: 0.6882\n",
            "Epoch 16/20\n",
            "6/6 [==============================] - 0s 3ms/step - loss: 0.9067 - accuracy: 0.6882\n",
            "Epoch 17/20\n",
            "6/6 [==============================] - 0s 3ms/step - loss: 0.8837 - accuracy: 0.6824\n",
            "Epoch 18/20\n",
            "6/6 [==============================] - 0s 2ms/step - loss: 0.8627 - accuracy: 0.6765\n",
            "Epoch 19/20\n",
            "6/6 [==============================] - 0s 3ms/step - loss: 0.8422 - accuracy: 0.6824\n",
            "Epoch 20/20\n",
            "6/6 [==============================] - 0s 3ms/step - loss: 0.8226 - accuracy: 0.6941\n",
            "processing fold # 4\n",
            "Epoch 1/20\n",
            "6/6 [==============================] - 1s 3ms/step - loss: 1.3333 - accuracy: 0.3647\n",
            "Epoch 2/20\n",
            "6/6 [==============================] - 0s 2ms/step - loss: 1.2942 - accuracy: 0.4294\n",
            "Epoch 3/20\n",
            "6/6 [==============================] - 0s 2ms/step - loss: 1.2591 - accuracy: 0.4412\n",
            "Epoch 4/20\n",
            "6/6 [==============================] - 0s 2ms/step - loss: 1.2287 - accuracy: 0.4471\n",
            "Epoch 5/20\n",
            "6/6 [==============================] - 0s 3ms/step - loss: 1.1993 - accuracy: 0.4647\n",
            "Epoch 6/20\n",
            "6/6 [==============================] - 0s 3ms/step - loss: 1.1705 - accuracy: 0.4941\n",
            "Epoch 7/20\n",
            "6/6 [==============================] - 0s 3ms/step - loss: 1.1440 - accuracy: 0.5000\n",
            "Epoch 8/20\n",
            "6/6 [==============================] - 0s 2ms/step - loss: 1.1178 - accuracy: 0.5176\n",
            "Epoch 9/20\n",
            "6/6 [==============================] - 0s 2ms/step - loss: 1.0913 - accuracy: 0.5294\n",
            "Epoch 10/20\n",
            "6/6 [==============================] - 0s 2ms/step - loss: 1.0665 - accuracy: 0.5471\n",
            "Epoch 11/20\n",
            "6/6 [==============================] - 0s 2ms/step - loss: 1.0430 - accuracy: 0.5412\n",
            "Epoch 12/20\n",
            "6/6 [==============================] - 0s 2ms/step - loss: 1.0203 - accuracy: 0.5588\n",
            "Epoch 13/20\n",
            "6/6 [==============================] - 0s 3ms/step - loss: 0.9983 - accuracy: 0.5765\n",
            "Epoch 14/20\n",
            "6/6 [==============================] - 0s 3ms/step - loss: 0.9770 - accuracy: 0.5941\n",
            "Epoch 15/20\n",
            "6/6 [==============================] - 0s 3ms/step - loss: 0.9558 - accuracy: 0.6118\n",
            "Epoch 16/20\n",
            "6/6 [==============================] - 0s 3ms/step - loss: 0.9341 - accuracy: 0.6353\n",
            "Epoch 17/20\n",
            "6/6 [==============================] - 0s 2ms/step - loss: 0.9130 - accuracy: 0.6647\n",
            "Epoch 18/20\n",
            "6/6 [==============================] - 0s 3ms/step - loss: 0.8911 - accuracy: 0.6647\n",
            "Epoch 19/20\n",
            "6/6 [==============================] - 0s 2ms/step - loss: 0.8712 - accuracy: 0.6647\n",
            "Epoch 20/20\n",
            "6/6 [==============================] - 0s 3ms/step - loss: 0.8497 - accuracy: 0.6882\n"
          ]
        }
      ]
    },
    {
      "cell_type": "code",
      "source": [
        "model = build_model()\n",
        "model.fit(X_train, y_train, epochs=10, verbose=0)\n",
        "test_acc, test_loss = model.evaluate(X_test, y_test)"
      ],
      "metadata": {
        "colab": {
          "base_uri": "https://localhost:8080/"
        },
        "id": "VSgjDLHNkzxk",
        "outputId": "60aee7e1-48d8-46f4-9eba-112dc8c58c30"
      },
      "execution_count": null,
      "outputs": [
        {
          "output_type": "stream",
          "name": "stdout",
          "text": [
            "1/1 [==============================] - 0s 104ms/step - loss: 1.2581 - accuracy: 0.5000\n"
          ]
        }
      ]
    },
    {
      "cell_type": "code",
      "source": [],
      "metadata": {
        "id": "xbHkkcgemV-a"
      },
      "execution_count": null,
      "outputs": []
    }
  ],
  "metadata": {
    "language_info": {
      "name": "python"
    },
    "colab": {
      "provenance": []
    },
    "kernelspec": {
      "name": "python3",
      "display_name": "Python 3"
    }
  },
  "nbformat": 4,
  "nbformat_minor": 0
}