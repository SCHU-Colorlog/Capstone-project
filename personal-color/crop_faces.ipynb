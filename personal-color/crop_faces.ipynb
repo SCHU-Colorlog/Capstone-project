{
 "cells": [
  {
   "cell_type": "code",
   "execution_count": 2,
   "metadata": {},
   "outputs": [],
   "source": [
    "import os\n",
    "import cv2\n",
    "import dlib\n",
    "import matplotlib.pyplot as plt\n",
    "import datetime\n",
    "import pandas as pd\n",
    "import numpy as np"
   ]
  },
  {
   "cell_type": "code",
   "execution_count": null,
   "metadata": {},
   "outputs": [],
   "source": [
    "import torch\n",
    "import torch.transforms as transforms\n",
    "import torch.nn as nn\n",
    "from torch.utils.data import DataLoader\n",
    "import torch.optim as optim\n",
    "from sklearn.model_selection import train_test_split\n",
    "from sklearn.metrics import confusion_matrix\n",
    "import seaborn as sns\n",
    "\n",
    "import tensorboardX"
   ]
  },
  {
   "cell_type": "code",
   "execution_count": null,
   "metadata": {},
   "outputs": [],
   "source": [
    "epochs = 10\n",
    "batch_size = 16"
   ]
  },
  {
   "cell_type": "code",
   "execution_count": null,
   "metadata": {},
   "outputs": [],
   "source": [
    "device = torch.device('cuda' if torch.cuda.is_available() else 'cpu')"
   ]
  },
  {
   "cell_type": "code",
   "execution_count": 3,
   "metadata": {},
   "outputs": [],
   "source": [
    "detector = dlib.get_frontal_face_detector()\n",
    "predictor = dlib.shape_predictor(\"shape_predictor_68_face_landmarks.dat\")"
   ]
  },
  {
   "cell_type": "code",
   "execution_count": 4,
   "metadata": {},
   "outputs": [],
   "source": [
    "data_root = 'images/dataset'\n",
    "save_path = 'images/image_dataset'"
   ]
  },
  {
   "cell_type": "code",
   "execution_count": 5,
   "metadata": {},
   "outputs": [
    {
     "name": "stdout",
     "output_type": "stream",
     "text": [
      "dict_keys(['spring', 'summer', 'fall', 'winter'])\n",
      "dict_values([0, 1, 2, 3])\n"
     ]
    }
   ],
   "source": [
    "season_dict = {'spring':0, 'summer':1, 'fall':2, 'winter':3}\n",
    "\n",
    "print(season_dict.keys())\n",
    "print(season_dict.values())"
   ]
  },
  {
   "cell_type": "code",
   "execution_count": 6,
   "metadata": {},
   "outputs": [],
   "source": [
    "num_files = 0"
   ]
  },
  {
   "cell_type": "code",
   "execution_count": 12,
   "metadata": {},
   "outputs": [
    {
     "name": "stdout",
     "output_type": "stream",
     "text": [
      "171 images saved for spring\n",
      "No face detected in images/dataset\\summer\\119511005055_20071116.jpg\n",
      "No face detected in images/dataset\\summer\\202303230812009144_0.jpg\n",
      "No face detected in images/dataset\\summer\\220px-YuNaKimInVancouver.jpg\n",
      "No face detected in images/dataset\\summer\\PYH2019060611910001300_P2.jpg\n",
      "No face detected in images/dataset\\summer\\unnamed-file-186.jpg.webp\n",
      "136 images saved for summer\n",
      "No face detected in images/dataset\\fall\\1684360.jpg\n",
      "No face detected in images/dataset\\fall\\l.yk..jpg\n",
      "81 images saved for fall\n",
      "No face detected in images/dataset\\winter\\gfsd-3.jpg\n",
      "No face detected in images/dataset\\winter\\image_readtop_2022_764398_16618140035150682.jpg\n",
      "193 images saved for winter\n",
      "Total number of images saved: 581\n"
     ]
    }
   ],
   "source": [
    "for season in season_dict:\n",
    "    season_path = os.path.join(data_root, season)\n",
    "    for file in os.listdir(season_path):\n",
    "        full_path = os.path.join(season_path, file)\n",
    "        img = cv2.imread(full_path)\n",
    "        h, w = img.shape[:2]\n",
    "        try:\n",
    "            face = detector(img)[0]\n",
    "        except:\n",
    "            print(f'No face detected in {full_path}')\n",
    "            os.remove(full_path)\n",
    "            continue\n",
    "        crop = img[max(0, face.top()):min(face.bottom(), h), max(0, face.left()):min(face.right(), w)]\n",
    "        crop = cv2.resize(crop, (256, 256))\n",
    "        cv2.imwrite(os.path.join(save_path, f'{season_dict[season]}_{num_files}.jpg'), crop)\n",
    "        num_files += 1\n",
    "    print(f'{num_files} images saved for {season}')\n",
    "    num_files = 0\n",
    "print(f'Total number of images saved: {len(os.listdir(save_path))}')"
   ]
  },
  {
   "cell_type": "code",
   "execution_count": null,
   "metadata": {},
   "outputs": [],
   "source": [
    "transform = transforms.Compose([\n",
    "    transforms.Resize(256),\n",
    "    transforms.ToTensor(),\n",
    "    transforms.Normalize(mean=[0.485, 0.456, 0.406], std=[0.229, 0.224, 0.225])\n",
    "])"
   ]
  },
  {
   "cell_type": "code",
   "execution_count": null,
   "metadata": {},
   "outputs": [],
   "source": [
    "class FaceDataset(nn.Dataset):\n",
    "    def __init__(self, n_classes, root_dir=save_path, transform=transform):\n",
    "        self.root_dir = root_dir\n",
    "        self.transform = transform\n",
    "        self.files = os.listdir(self.root_dir)\n",
    "        self.labels = [int(file.split('_')[0]) for file in self.files]\n",
    "        \n",
    "        self.n_classes = n_classes\n",
    "        \n",
    "    def __len__(self):\n",
    "        return len(self.files)\n",
    "    \n",
    "    def __getitem__(self, idx):\n",
    "        img_name = os.path.join(self.root_dir, self.files[idx])\n",
    "        img = cv2.imread(img_name)\n",
    "        img = cv2.cvtColor(img, cv2.COLOR_BGR2RGB)\n",
    "        img = self.transform(img)\n",
    "        label = self.labels[idx]\n",
    "        return img, label"
   ]
  },
  {
   "cell_type": "code",
   "execution_count": null,
   "metadata": {},
   "outputs": [],
   "source": [
    "dataset = FaceDataset(n_classes=4)\n",
    "trainset, testset = train_test_split(dataset, test_size=0.2)\n",
    "train_data = DataLoader(trainset, batch_size=batch_size, shuffle=True)\n",
    "test_data = DataLoader(testset, batch_size=batch_size, shuffle=True)"
   ]
  },
  {
   "cell_type": "code",
   "execution_count": null,
   "metadata": {},
   "outputs": [],
   "source": [
    "model = torch.hub.load('pytorch/vision:v0.6.0', 'vgg16', pretrained=True)\n",
    "model = model.to(device)"
   ]
  },
  {
   "cell_type": "code",
   "execution_count": null,
   "metadata": {},
   "outputs": [],
   "source": [
    "optimizer = optim.Adam(model.parameters(), lr=0.001).to(device)\n",
    "criterion = nn.CrossEntropyLoss().to(device)"
   ]
  },
  {
   "cell_type": "code",
   "execution_count": null,
   "metadata": {},
   "outputs": [],
   "source": [
    "writer = tensorboardX.SummaryWriter()"
   ]
  },
  {
   "cell_type": "code",
   "execution_count": null,
   "metadata": {},
   "outputs": [],
   "source": [
    "def train(model, train_data, epoch):\n",
    "    model.train()\n",
    "    running_loss = 0.0\n",
    "    correct = 0\n",
    "    total = 0\n",
    "    \n",
    "    for i, data in enumerate(train_data):\n",
    "        inputs, labels = data\n",
    "        inputs, labels = inputs.to(device), labels.to(device)\n",
    "        \n",
    "        optimizer.zero_grad()\n",
    "        \n",
    "        outputs = model(inputs)\n",
    "        loss = criterion(outputs, labels)\n",
    "        loss.backward()\n",
    "        optimizer.step()\n",
    "        \n",
    "        running_loss += loss.item()\n",
    "        \n",
    "        _, predicted = torch.max(outputs.data, 1)\n",
    "        total += labels.size(0)\n",
    "        correct += (predicted == labels).sum().item()\n",
    "        \n",
    "        writer.add_scalar('train_loss', loss.item(), i*epoch)\n",
    "        writer.add_scalar('train_accuracy', 100*correct/total, i*epoch)\n",
    "        \n",
    "        if i % 10 == 99:\n",
    "            print(f'[{i+1}, {running_loss/100:.3f}]')\n",
    "            running_loss = 0.0\n",
    "            correct = 0\n",
    "            total = 0\n",
    "    train_loss = running_loss/len(train_data)\n",
    "    train_accuracy = 100*correct/total\n",
    "    print(f'Training {epoch+1}/{epochs}: {train_loss:.3f}, Training Accuracy: {train_accuracy:.3f}')\n",
    "    \n",
    "    return train_loss, train_accuracy"
   ]
  },
  {
   "cell_type": "code",
   "execution_count": null,
   "metadata": {},
   "outputs": [],
   "source": [
    "y_pred = []\n",
    "y_true = []\n",
    "\n",
    "def test(model, test_data, epoch):\n",
    "    model.eval()\n",
    "    \n",
    "    correct = 0\n",
    "    total = 0\n",
    "    total_loss = 0\n",
    "    \n",
    "    with torch.no_grad():\n",
    "        for batch_idx, data in enumerate(test_data):\n",
    "            inputs, labels = data\n",
    "            inputs, labels = inputs.to(device), labels.to(device)\n",
    "            \n",
    "            outputs = model(inputs)\n",
    "            _, predicted = torch.max(outputs.data, 1)\n",
    "            total += labels.size(0)\n",
    "            correct += (predicted == labels).sum().item()\n",
    "            \n",
    "            y_pred.extend(predicted.cpu().numpy())\n",
    "            y_true.extend(labels.cpu().numpy())\n",
    "            \n",
    "            loss = criterion(outputs, labels)\n",
    "            total_loss += loss.item()\n",
    "            \n",
    "            writer.add_scalar('test_accuracy', 100*correct/total, batch_idx*epoch)\n",
    "            writer.add_scalar('test_loss', total_loss/(batch_idx+1), batch_idx*epoch)\n",
    "    \n",
    "    test_loss = total_loss/len(test_data)\n",
    "    test_accuracy = 100*correct/total\n",
    "    print(f'Testing {epoch+1}/{epochs}: {test_loss:.3f}, Testing Accuracy: {test_accuracy:.3f}')\n",
    "    \n",
    "    return test_loss, test_accuracy"
   ]
  },
  {
   "cell_type": "code",
   "execution_count": null,
   "metadata": {},
   "outputs": [],
   "source": [
    "# epoch-wise losses and accuracies\n",
    "# batch-wise losses and accuracies are logged in tensorboard\n",
    "train_losses = []\n",
    "train_accuracies = []\n",
    "test_losses = []\n",
    "test_accuracies = []"
   ]
  },
  {
   "cell_type": "code",
   "execution_count": null,
   "metadata": {},
   "outputs": [],
   "source": [
    "for epoch in epochs:\n",
    "    train_loss, train_acc = train(model, train_data, epoch)\n",
    "    test_loss, test_acc = test(model, test_data, epoch)\n",
    "    \n",
    "    train_losses.append(train_loss)\n",
    "    train_accuracies.append(train_acc)\n",
    "    test_losses.append(test_loss)\n",
    "    test_accuracies.append(test_acc)\n",
    "    \n",
    "    torch.save(model.state_dict(), f'models/face_model_{epoch}_{datetime.time}.pth')"
   ]
  },
  {
   "cell_type": "code",
   "execution_count": null,
   "metadata": {},
   "outputs": [],
   "source": [
    "plt.figure(figsize=(10, 5))\n",
    "plt.plot(train_accuracies, label='Training Accuracy')\n",
    "plt.plot(test_accuracies, label='Testing Accuracy')\n",
    "plt.xlabel('Epoch')\n",
    "plt.ylabel('Accuracy')\n",
    "plt.title('Training and Testing Accuracy')\n",
    "plt.legend()\n",
    "plt.show()\n",
    "\n",
    "plt.figure(figsize=(10, 5))\n",
    "plt.plot(train_losses, label='Training Loss')\n",
    "plt.plot(test_losses, label='Testing Loss')\n",
    "plt.xlabel('Epoch')\n",
    "plt.ylabel('Loss')\n",
    "plt.title('Training and Testing Loss')\n",
    "plt.legend()\n",
    "plt.show()"
   ]
  },
  {
   "cell_type": "code",
   "execution_count": null,
   "metadata": {},
   "outputs": [],
   "source": [
    "cm = confusion_matrix(y_true, y_pred)\n",
    "df_cm = pd.DataFrame(cm / np.sum(cm, axis=1)[:, None], index = [i for i in season_dict.keys()],\n",
    "                     columns = [i for i in season_dict.keys()])\n",
    "plt.figure(figsize = (12,7))\n",
    "sns.heatmap(df_cm, annot=True)\n",
    "plt.savefig('output.png')"
   ]
  },
  {
   "cell_type": "code",
   "execution_count": null,
   "metadata": {},
   "outputs": [],
   "source": []
  }
 ],
 "metadata": {
  "kernelspec": {
   "display_name": "senior",
   "language": "python",
   "name": "python3"
  },
  "language_info": {
   "codemirror_mode": {
    "name": "ipython",
    "version": 3
   },
   "file_extension": ".py",
   "mimetype": "text/x-python",
   "name": "python",
   "nbconvert_exporter": "python",
   "pygments_lexer": "ipython3",
   "version": "3.10.14"
  }
 },
 "nbformat": 4,
 "nbformat_minor": 2
}
