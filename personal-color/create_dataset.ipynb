{
 "cells": [
  {
   "cell_type": "code",
   "execution_count": 1,
   "metadata": {},
   "outputs": [],
   "source": [
    "from color_palette import PaletteCreator\n",
    "\n",
    "import cv2\n",
    "import numpy as np\n",
    "import pandas as pd\n",
    "import os"
   ]
  },
  {
   "cell_type": "code",
   "execution_count": 2,
   "metadata": {},
   "outputs": [],
   "source": [
    "pc = PaletteCreator()"
   ]
  },
  {
   "cell_type": "code",
   "execution_count": 3,
   "metadata": {},
   "outputs": [],
   "source": [
    "data_root = './images/dataset'\n",
    "seasons = ['spring', 'summer', 'fall', 'winter']"
   ]
  },
  {
   "cell_type": "code",
   "execution_count": 9,
   "metadata": {},
   "outputs": [],
   "source": [
    "def bgr2cmyk(bgr):\n",
    "    b, g, r = bgr\n",
    "    c = 1 - r / 255\n",
    "    m = 1 - g / 255\n",
    "    y = 1 - b / 255\n",
    "    k = min(c, m, y)\n",
    "    \n",
    "    c = (c - k) / (1 - k)\n",
    "    m = (m - k) / (1 - k)\n",
    "    y = (y - k) / (1 - k)\n",
    "    \n",
    "    return np.array([c, m, y, k]).swapaxes(0, 2)"
   ]
  },
  {
   "cell_type": "code",
   "execution_count": 10,
   "metadata": {},
   "outputs": [],
   "source": [
    "df = pd.DataFrame(columns=['H', 'S', 'V', 'L', 'A', 'B', 'C', 'M', 'Y', 'K', 'label'])"
   ]
  },
  {
   "cell_type": "code",
   "execution_count": 11,
   "metadata": {},
   "outputs": [
    {
     "ename": "error",
     "evalue": "OpenCV(4.9.0) :-1: error: (-5:Bad argument) in function 'min'\n> Overload resolution failed:\n>  - min() missing required argument 'src2' (pos 2)\n>  - min() missing required argument 'src2' (pos 2)\n",
     "output_type": "error",
     "traceback": [
      "\u001b[1;31m---------------------------------------------------------------------------\u001b[0m",
      "\u001b[1;31merror\u001b[0m                                     Traceback (most recent call last)",
      "Cell \u001b[1;32mIn[11], line 12\u001b[0m\n\u001b[0;32m     10\u001b[0m hsv_palette \u001b[38;5;241m=\u001b[39m cv2\u001b[38;5;241m.\u001b[39mcvtColor(palette, cv2\u001b[38;5;241m.\u001b[39mCOLOR_BGR2HSV)\n\u001b[0;32m     11\u001b[0m lab_palette \u001b[38;5;241m=\u001b[39m cv2\u001b[38;5;241m.\u001b[39mcvtColor(palette, cv2\u001b[38;5;241m.\u001b[39mCOLOR_BGR2LAB)\n\u001b[1;32m---> 12\u001b[0m cmyk_palette \u001b[38;5;241m=\u001b[39m \u001b[43mbgr2cmyk\u001b[49m\u001b[43m(\u001b[49m\u001b[43mpalette\u001b[49m\u001b[43m)\u001b[49m\n\u001b[0;32m     14\u001b[0m mean_hsv \u001b[38;5;241m=\u001b[39m np\u001b[38;5;241m.\u001b[39mmean(hsv_palette, axis\u001b[38;5;241m=\u001b[39m\u001b[38;5;241m1\u001b[39m)\n\u001b[0;32m     15\u001b[0m mean_lab \u001b[38;5;241m=\u001b[39m np\u001b[38;5;241m.\u001b[39mmean(lab_palette, axis\u001b[38;5;241m=\u001b[39m\u001b[38;5;241m1\u001b[39m)\n",
      "Cell \u001b[1;32mIn[9], line 3\u001b[0m, in \u001b[0;36mbgr2cmyk\u001b[1;34m(bgr)\u001b[0m\n\u001b[0;32m      1\u001b[0m \u001b[38;5;28;01mdef\u001b[39;00m \u001b[38;5;21mbgr2cmyk\u001b[39m(bgr):\n\u001b[0;32m      2\u001b[0m     cmy \u001b[38;5;241m=\u001b[39m \u001b[38;5;241m1\u001b[39m \u001b[38;5;241m-\u001b[39m bgr\n\u001b[1;32m----> 3\u001b[0m     k \u001b[38;5;241m=\u001b[39m \u001b[43mcv2\u001b[49m\u001b[38;5;241;43m.\u001b[39;49m\u001b[43mmin\u001b[49m\u001b[43m(\u001b[49m\u001b[43mcmy\u001b[49m\u001b[43m,\u001b[49m\u001b[43m \u001b[49m\u001b[43maxis\u001b[49m\u001b[38;5;241;43m=\u001b[39;49m\u001b[38;5;241;43m2\u001b[39;49m\u001b[43m)\u001b[49m\n\u001b[0;32m      4\u001b[0m     y \u001b[38;5;241m=\u001b[39m (cmy[:,:,\u001b[38;5;241m1\u001b[39m] \u001b[38;5;241m-\u001b[39m k) \u001b[38;5;241m/\u001b[39m (\u001b[38;5;241m1\u001b[39m \u001b[38;5;241m-\u001b[39m k)\n\u001b[0;32m      5\u001b[0m     m \u001b[38;5;241m=\u001b[39m (cmy[:,:,\u001b[38;5;241m2\u001b[39m] \u001b[38;5;241m-\u001b[39m k) \u001b[38;5;241m/\u001b[39m (\u001b[38;5;241m1\u001b[39m \u001b[38;5;241m-\u001b[39m k)\n",
      "\u001b[1;31merror\u001b[0m: OpenCV(4.9.0) :-1: error: (-5:Bad argument) in function 'min'\n> Overload resolution failed:\n>  - min() missing required argument 'src2' (pos 2)\n>  - min() missing required argument 'src2' (pos 2)\n"
     ]
    },
    {
     "data": {
      "image/png": "[encoded data removed]",
      "text/plain": [
       "<Figure size 1500x300 with 6 Axes>"
      ]
     },
     "metadata": {},
     "output_type": "display_data"
    }
   ],
   "source": [
    "for folder in seasons:\n",
    "    this_df = pd.DataFrame(columns=['H', 'S', 'V', 'L', 'A', 'B', 'C', 'M', 'Y', 'K', 'label'])\n",
    "    \n",
    "    for file in os.listdir(os.path.join(data_root, folder)):\n",
    "        full_path = os.path.join(data_root, folder, file)\n",
    "        \n",
    "        palette = pc.create_palette(full_path)\n",
    "        palette = np.array([palette], np.uint8)\n",
    "        \n",
    "        hsv_palette = cv2.cvtColor(palette, cv2.COLOR_BGR2HSV)\n",
    "        lab_palette = cv2.cvtColor(palette, cv2.COLOR_BGR2LAB)\n",
    "        cmyk_palette = bgr2cmyk(palette)\n",
    "        \n",
    "        mean_hsv = np.mean(hsv_palette, axis=1)\n",
    "        mean_lab = np.mean(lab_palette, axis=1)\n",
    "        mean_cmyk = np.mean(cmyk_palette, axis=1)\n",
    "        \n",
    "        row = np.concatenate((mean_hsv, mean_lab, mean_cmyk), axis=1).tolist()\n",
    "        row.append(folder)\n",
    "        this_df[len(this_df)] = row\n",
    "        \n",
    "    this_df.to_csv(f'images/dataset/mean_{folder}.csv', index=False)\n",
    "        \n",
    "    pd.concat([df, this_df], axis=0)"
   ]
  },
  {
   "cell_type": "code",
   "execution_count": 8,
   "metadata": {},
   "outputs": [],
   "source": [
    "df.to_csv('images/dataset/mean.csv', index=False)"
   ]
  },
  {
   "cell_type": "code",
   "execution_count": null,
   "metadata": {},
   "outputs": [],
   "source": [
    "print(f'Finished creating dataset for {len(df)} images')"
   ]
  },
  {
   "cell_type": "code",
   "execution_count": null,
   "metadata": {},
   "outputs": [],
   "source": []
  }
 ],
 "metadata": {
  "kernelspec": {
   "display_name": "senior",
   "language": "python",
   "name": "python3"
  },
  "language_info": {
   "codemirror_mode": {
    "name": "ipython",
    "version": 3
   },
   "file_extension": ".py",
   "mimetype": "text/x-python",
   "name": "python",
   "nbconvert_exporter": "python",
   "pygments_lexer": "ipython3",
   "version": "3.10.14"
  }
 },
 "nbformat": 4,
 "nbformat_minor": 2
}
